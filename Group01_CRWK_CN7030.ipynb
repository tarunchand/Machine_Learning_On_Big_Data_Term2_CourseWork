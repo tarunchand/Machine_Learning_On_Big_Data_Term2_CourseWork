{
  "cells": [
    {
      "cell_type": "markdown",
      "metadata": {
        "id": "Lx9-Fre4FMda"
      },
      "source": [
        "# **Machine Learning on Big Data (CN7030) CRWK 22-23 [60% weighting]**\n",
        "# **Group ID: [1]**\n",
        "1.   Student 1: Tarun Chand KOGANTI and u2366409\n",
        "2.   Student 2: Mohammed Akeel VELLATHAMBY ISMAIL and u2344592\n",
        "\n",
        "---\n",
        "#####Module leader: **Dr Amin Karami** (a.karami@uel.ac.uk)\n",
        "\n",
        "If you want to add comments on your group work, please write it here for us:"
      ]
    },
    {
      "cell_type": "markdown",
      "metadata": {
        "id": "XebXButSn_aO"
      },
      "source": [
        "---\n",
        "\n",
        "# **Section 1: Design and Build Machine Learning methods on a large-sized data**\n",
        "\n",
        "---"
      ]
    },
    {
      "cell_type": "markdown",
      "metadata": {
        "id": "GdMZR-9QTwG3"
      },
      "source": [
        "\n",
        "# **Initiate and Configure Spark**"
      ]
    },
    {
      "cell_type": "code",
      "execution_count": null,
      "metadata": {
        "colab": {
          "base_uri": "https://localhost:8080/"
        },
        "id": "_z0p88Xtw_3-",
        "outputId": "87658c04-cd92-4c1c-a1bb-d6e8559de426"
      },
      "outputs": [
        {
          "output_type": "stream",
          "name": "stdout",
          "text": [
            "Looking in indexes: https://pypi.org/simple, https://us-python.pkg.dev/colab-wheels/public/simple/\n",
            "Collecting pyspark\n",
            "  Downloading pyspark-3.4.0.tar.gz (310.8 MB)\n",
            "\u001b[2K     \u001b[90m━━━━━━━━━━━━━━━━━━━━━━━━━━━━━━━━━━━━━━━\u001b[0m \u001b[32m310.8/310.8 MB\u001b[0m \u001b[31m3.1 MB/s\u001b[0m eta \u001b[36m0:00:00\u001b[0m\n",
            "\u001b[?25h  Preparing metadata (setup.py) ... \u001b[?25l\u001b[?25hdone\n",
            "Requirement already satisfied: py4j==0.10.9.7 in /usr/local/lib/python3.10/dist-packages (from pyspark) (0.10.9.7)\n",
            "Building wheels for collected packages: pyspark\n",
            "  Building wheel for pyspark (setup.py) ... \u001b[?25l\u001b[?25hdone\n",
            "  Created wheel for pyspark: filename=pyspark-3.4.0-py2.py3-none-any.whl size=311317145 sha256=14b328d769f55479d35fbcd2e43d499a21e7ca773d23b915558bdc23e2e3bf53\n",
            "  Stored in directory: /root/.cache/pip/wheels/7b/1b/4b/3363a1d04368e7ff0d408e57ff57966fcdf00583774e761327\n",
            "Successfully built pyspark\n",
            "Installing collected packages: pyspark\n",
            "Successfully installed pyspark-3.4.0\n"
          ]
        }
      ],
      "source": [
        "!pip3 install pyspark"
      ]
    },
    {
      "cell_type": "code",
      "execution_count": null,
      "metadata": {
        "id": "7_inbWHWZfib"
      },
      "outputs": [],
      "source": [
        "import pyspark\n",
        "from pyspark.sql import SparkSession\n",
        "spark = SparkSession.builder.master(\"local[*]\").appName(\"1\").getOrCreate()"
      ]
    },
    {
      "cell_type": "code",
      "execution_count": null,
      "metadata": {
        "colab": {
          "base_uri": "https://localhost:8080/"
        },
        "id": "Gqu2oSjW_eqG",
        "outputId": "00f43315-1a6b-442d-b141-6653a2093602"
      },
      "outputs": [
        {
          "output_type": "stream",
          "name": "stdout",
          "text": [
            "Mounted at /content/drive\n"
          ]
        }
      ],
      "source": [
        "from google.colab import drive\n",
        "drive.mount('/content/drive')"
      ]
    },
    {
      "cell_type": "markdown",
      "metadata": {
        "id": "M5soM7hhBIOy"
      },
      "source": [
        "# Importing required Libraries"
      ]
    },
    {
      "cell_type": "code",
      "execution_count": null,
      "metadata": {
        "id": "y9i7g8SfBKoj"
      },
      "outputs": [],
      "source": [
        "from pyspark.sql.functions import count\n",
        "import matplotlib.pyplot as plt\n",
        "from pyspark.sql.functions import *\n",
        "from pyspark.sql.types import *\n",
        "from pyspark.ml.feature import Tokenizer, StopWordsRemover, HashingTF, IDF, OneHotEncoder, StringIndexer, VectorAssembler, StandardScaler, Word2Vec\n",
        "from pyspark.ml.clustering import KMeans\n",
        "from pyspark.ml import Pipeline\n",
        "from pyspark.ml.classification import RandomForestClassifier\n",
        "from pyspark.ml.evaluation import ClusteringEvaluator, MulticlassClassificationEvaluator\n",
        "from pyspark.mllib.evaluation import MulticlassMetrics"
      ]
    },
    {
      "cell_type": "markdown",
      "metadata": {
        "id": "6P2CZVl6TOQX"
      },
      "source": [
        "\n",
        "# **Load Data**\n"
      ]
    },
    {
      "cell_type": "markdown",
      "metadata": {
        "id": "A-Y5bzK9mvo3"
      },
      "source": [
        "### Explain Data shortly here:\n",
        "\n",
        "Dataset Used :- https://www.kaggle.com/datasets/najzeko/steam-reviews-2020\n",
        "\n",
        "Dataset contains reviews of various users for various games from the website https://store.steampowered.com/\n",
        "\n",
        "Each record is a review of a particular user for a particular game.\n",
        "It contains columns such as :-\n",
        "\n",
        "**steamid :- User id**\n",
        "\n",
        "**appid :- Video game id for which the user has written review for**\n",
        "\n",
        "**review :- Users review for particular video game**\n",
        "\n",
        "**language :- Reviews language or Games available languages**\n",
        "\n",
        "**voted_up :- Whether the users recommends the game or not**\n",
        "\n",
        "**comment_count :- No. of comments for the users review**\n",
        "\n",
        "**steam_purchase :- Whether the user has purchased the game or recieved for free**\n",
        "\n",
        "**num_games_owned :- Number of games owned by the user**\n",
        "\n",
        "**num_reviews :- Number of reviews owned by the user**\n",
        "\n",
        "**playtime_forever :- Total playtime by the user for the particular game**\n",
        "\n",
        "**playtime_at_review :- Total playtime by the user for the particular game at the time of writing review**\n",
        "\n",
        "**and few other columns**"
      ]
    },
    {
      "cell_type": "code",
      "execution_count": null,
      "metadata": {
        "id": "VO1NahYjpN1-"
      },
      "outputs": [],
      "source": [
        "# The dataset contains reviews column which has new lines whcih are enclosed in quotes and it also has special characters.\n",
        "# By default spark reads the new line as a new record, hence we are setting the below options - multiLine, escape, quote to read the data properly\n",
        "video_game_reviews_df = spark.read \\\n",
        "    .option(\"header\", True) \\\n",
        "    .option(\"quote\", \"\\\"\") \\\n",
        "    .option(\"escape\", \"\\\"\") \\\n",
        "    .option(\"multiLine\", True) \\\n",
        "    .option(\"inferSchema\", True) \\\n",
        "    .csv(\"/content/drive/My Drive/ML_On_Big_Data/big_reviews.csv\")"
      ]
    },
    {
      "cell_type": "code",
      "execution_count": null,
      "metadata": {
        "colab": {
          "base_uri": "https://localhost:8080/"
        },
        "id": "tWLuiTa68AtP",
        "outputId": "75a8b7eb-e648-42c1-fccf-6bcf9b3937ac"
      },
      "outputs": [
        {
          "output_type": "stream",
          "name": "stdout",
          "text": [
            "+---+-----+----------------+---------+--------------------+-----------------+-----------------+--------+--------+-----------+-------------------+-------------+--------------+-----------------+---------------------------+-----------------+---------------+-----------+----------------+-----------------------+------------------+-----------+\n",
            "|_c0|appid|recommendationid| language|              review|timestamp_created|timestamp_updated|voted_up|votes_up|votes_funny|weighted_vote_score|comment_count|steam_purchase|received_for_free|written_during_early_access|          steamid|num_games_owned|num_reviews|playtime_forever|playtime_last_two_weeks|playtime_at_review|last_played|\n",
            "+---+-----+----------------+---------+--------------------+-----------------+-----------------+--------+--------+-----------+-------------------+-------------+--------------+-----------------+---------------------------+-----------------+---------------+-----------+----------------+-----------------------+------------------+-----------+\n",
            "|  0|  620|        81941464|  english|                 nic|       1607579462|       1607579462|    true|       0|          0|                0.0|            0|          true|            false|                      false|76561198452822117|             46|          5|             655|                    294|             655.0| 1607579365|\n",
            "|  1|  620|        81937956|  english|bad robot say i h...|       1607576501|       1607576501|    true|       0|          0|                0.0|            0|          true|            false|                      false|76561199070929662|             10|          2|             981|                    981|             981.0| 1607563603|\n",
            "|  2|  620|        81935165|  english|fun puzzle solvin...|       1607574294|       1607574294|    true|       0|          0|                0.0|            0|          true|            false|                      false|76561198098986944|             31|          3|             436|                    436|             401.0| 1607584846|\n",
            "|  3|  620|        81934147|  spanish|Dijo que estaba c...|       1607573466|       1607573466|    true|       1|          1|  0.523809552192688|            0|          true|            false|                      false|76561198311559705|            211|         25|             669|                    109|             669.0| 1607573265|\n",
            "|  4|  620|        81932773|  spanish| Besto juego 10/10\\n|       1607572353|       1607572353|    true|       0|          1|                0.0|            0|          true|            false|                      false|76561198205456815|             26|          2|            1426|                   1426|            1426.0| 1607505449|\n",
            "|  5|  620|        81930542|  english|very fun puzzel g...|       1607570497|       1607570497|    true|       0|          0|                0.0|            0|          true|            false|                      false|76561199004937539|             29|         12|            1392|                   1392|            1379.0| 1607571255|\n",
            "|  6|  620|        81930462|  english|O_O omg bro!!!!!!...|       1607570431|       1607570431|    true|       0|          0|                0.0|            0|          true|            false|                      false|76561198049871165|            211|         28|             423|                    144|             423.0| 1607570011|\n",
            "|  7|  620|        81930268|  english|its soooooooooooo...|       1607570271|       1607570271|    true|       0|          0|                0.0|            0|         false|            false|                      false|76561198048109429|              9|          1|             748|                      0|             748.0| 1590871028|\n",
            "|  8|  620|        81929744|  english|While, yes this i...|       1607569831|       1607569831|   false|       0|          0| 0.4761904776096344|            0|          true|            false|                      false|76561198837521131|              7|          3|             331|                    331|             331.0| 1607569714|\n",
            "|  9|  620|        81928729|  english|Why are you even ...|       1607569001|       1607569001|    true|       0|          0|                0.0|            0|          true|            false|                      false|76561198369517712|            123|          1|             874|                     19|             855.0| 1607570326|\n",
            "| 10|  620|        81928537|  english|Great game and ve...|       1607568844|       1607568844|    true|       0|          0|                0.0|            0|          true|            false|                      false|76561198808718731|            125|          3|             958|                    361|             958.0| 1607568774|\n",
            "| 11|  620|        81928247|  english|vr doesnt make me...|       1607568615|       1607568615|   false|       0|          0|                0.0|            0|          true|            false|                      false|76561198321888209|             36|          8|             259|                      0|             259.0| 1595623502|\n",
            "| 12|  620|        81926084|  english|            very pog|       1607566731|       1607566731|    true|       0|          0|                0.0|            0|          true|            false|                      false|76561199034543661|             12|          2|             224|                    197|             221.0| 1607566988|\n",
            "| 13|  620|        81925654|  english|           Is good\\n|       1607566355|       1607566355|    true|       0|          0|                0.0|            0|         false|            false|                      false|76561198093796870|             63|          1|            1330|                    107|            1266.0| 1607574414|\n",
            "| 14|  620|        81925431|  english|Come on. Do I rea...|       1607566144|       1607566144|    true|       0|          0|                0.0|            0|          true|            false|                      false|76561198263245952|              4|          2|            3011|                    160|            2957.0| 1607569067|\n",
            "| 15|  620|        81925015|  russian|Роботы вызывают б...|       1607565775|       1607565775|    true|       0|          0|                0.0|            0|          true|            false|                      false|76561198080533406|            183|          3|            1530|                    332|            1530.0| 1607565006|\n",
            "| 16|  620|        81924712|  spanish|Que haces viendo ...|       1607565531|       1607565531|    true|       0|          0|                0.0|            0|          true|            false|                      false|76561198401500328|              3|          1|             752|                    752|             752.0| 1607565444|\n",
            "| 17|  620|        81924618|brazilian|muito bom o jogo!...|       1607565448|       1607565591|    true|       0|          1|                0.0|            0|          true|            false|                      false|76561198291389024|             34|         11|             949|                    645|             949.0| 1607565113|\n",
            "| 18|  620|        81923512|  russian|Лучшее творение V...|       1607564457|       1607564457|    true|       0|          0|                0.0|            0|          true|            false|                      false|76561198275854658|             73|         12|            1021|                      0|            1021.0| 1594449433|\n",
            "| 19|  620|        81922530|  english|I've owned Portal...|       1607563521|       1607563521|    true|       0|          0|                0.0|            0|          true|            false|                      false|76561199103403019|              2|          1|             373|                    373|             373.0| 1607563346|\n",
            "+---+-----+----------------+---------+--------------------+-----------------+-----------------+--------+--------+-----------+-------------------+-------------+--------------+-----------------+---------------------------+-----------------+---------------+-----------+----------------+-----------------------+------------------+-----------+\n",
            "only showing top 20 rows\n",
            "\n"
          ]
        }
      ],
      "source": [
        "video_game_reviews_df.show()"
      ]
    },
    {
      "cell_type": "code",
      "execution_count": null,
      "metadata": {
        "colab": {
          "base_uri": "https://localhost:8080/"
        },
        "id": "WwsDOmp68FZe",
        "outputId": "135a8b7a-0805-47f2-d8ab-9865fe9858ed"
      },
      "outputs": [
        {
          "output_type": "execute_result",
          "data": {
            "text/plain": [
              "4374931"
            ]
          },
          "metadata": {},
          "execution_count": 7
        }
      ],
      "source": [
        "# Checking the total count of records\n",
        "total_records = video_game_reviews_df.count()\n",
        "total_records"
      ]
    },
    {
      "cell_type": "code",
      "source": [
        "video_game_reviews_df = video_game_reviews_df.select(\"appid\").distinct().cache()"
      ],
      "metadata": {
        "id": "zPe5nJw8Rfmr"
      },
      "execution_count": null,
      "outputs": []
    },
    {
      "cell_type": "code",
      "source": [
        "video_game_reviews_df.show()"
      ],
      "metadata": {
        "colab": {
          "base_uri": "https://localhost:8080/"
        },
        "id": "AtfI7DpkRkWL",
        "outputId": "b601d543-1e2b-41be-d5ab-7cf50a9d5b2b"
      },
      "execution_count": null,
      "outputs": [
        {
          "output_type": "stream",
          "name": "stdout",
          "text": [
            "+-------+\n",
            "|  appid|\n",
            "+-------+\n",
            "| 477160|\n",
            "| 285190|\n",
            "|1180380|\n",
            "|1089980|\n",
            "| 236510|\n",
            "| 629760|\n",
            "| 283640|\n",
            "|1017900|\n",
            "| 779340|\n",
            "| 728880|\n",
            "| 621060|\n",
            "| 723390|\n",
            "|  40800|\n",
            "|1190460|\n",
            "| 334040|\n",
            "|1015500|\n",
            "| 782330|\n",
            "| 385560|\n",
            "| 227300|\n",
            "| 686600|\n",
            "+-------+\n",
            "only showing top 20 rows\n",
            "\n"
          ]
        }
      ]
    },
    {
      "cell_type": "code",
      "source": [
        "total_records = video_game_reviews_df.count()\n",
        "total_records"
      ],
      "metadata": {
        "colab": {
          "base_uri": "https://localhost:8080/"
        },
        "id": "IRUl2kvlRo4f",
        "outputId": "8696a73a-3bc7-4dea-8cbe-c18b4908f240"
      },
      "execution_count": null,
      "outputs": [
        {
          "output_type": "execute_result",
          "data": {
            "text/plain": [
              "100"
            ]
          },
          "metadata": {},
          "execution_count": 12
        }
      ]
    },
    {
      "cell_type": "code",
      "execution_count": null,
      "metadata": {
        "colab": {
          "base_uri": "https://localhost:8080/"
        },
        "id": "fs2HvjVf8NoT",
        "outputId": "4769a4ae-55a0-435b-8030-05c64129a2f6"
      },
      "outputs": [
        {
          "output_type": "stream",
          "name": "stdout",
          "text": [
            "+-------+\n",
            "|  appid|\n",
            "+-------+\n",
            "| 477160|\n",
            "| 285190|\n",
            "|1180380|\n",
            "|1089980|\n",
            "| 236510|\n",
            "| 629760|\n",
            "| 283640|\n",
            "|1017900|\n",
            "| 779340|\n",
            "| 728880|\n",
            "| 621060|\n",
            "| 723390|\n",
            "|  40800|\n",
            "|1190460|\n",
            "| 334040|\n",
            "|1015500|\n",
            "| 782330|\n",
            "| 385560|\n",
            "| 227300|\n",
            "| 686600|\n",
            "+-------+\n",
            "only showing top 20 rows\n",
            "\n"
          ]
        }
      ],
      "source": [
        "# The dataset contains reviews for various games. Each game is associated with an appid. Hence checking the total number of distinct games in the dataset\n",
        "total_distinct_games = video_game_reviews_df.select(\"appid\").distinct()\n",
        "total_distinct_games.show()"
      ]
    },
    {
      "cell_type": "code",
      "execution_count": null,
      "metadata": {
        "id": "OhwqUVNl8WUc"
      },
      "outputs": [],
      "source": [
        "total_distinct_games_count = total_distinct_games.count()"
      ]
    },
    {
      "cell_type": "code",
      "execution_count": null,
      "metadata": {
        "colab": {
          "base_uri": "https://localhost:8080/"
        },
        "id": "WRLlOvu79L8X",
        "outputId": "aed2db94-8f8e-4e60-bbd5-ee923e0a693b"
      },
      "outputs": [
        {
          "output_type": "execute_result",
          "data": {
            "text/plain": [
              "['_c0',\n",
              " 'appid',\n",
              " 'recommendationid',\n",
              " 'language',\n",
              " 'review',\n",
              " 'timestamp_created',\n",
              " 'timestamp_updated',\n",
              " 'voted_up',\n",
              " 'votes_up',\n",
              " 'votes_funny',\n",
              " 'weighted_vote_score',\n",
              " 'comment_count',\n",
              " 'steam_purchase',\n",
              " 'received_for_free',\n",
              " 'written_during_early_access',\n",
              " 'steamid',\n",
              " 'num_games_owned',\n",
              " 'num_reviews',\n",
              " 'playtime_forever',\n",
              " 'playtime_last_two_weeks',\n",
              " 'playtime_at_review',\n",
              " 'last_played']"
            ]
          },
          "metadata": {},
          "execution_count": 10
        }
      ],
      "source": [
        "# Checking the total columns in the dataset\n",
        "video_game_reviews_df.columns"
      ]
    },
    {
      "cell_type": "markdown",
      "source": [
        "The dataset contains a total of 80 distinct games appids. Currently the dataset contains only the appids and not game names. We will be fetching the game names with the help of below udf to display the results based on game name for clustering task as it will be more user-friendly than displaying appids. The below udf will not work to fetch for huge number of games since we will be rate-limited by the website."
      ],
      "metadata": {
        "id": "yOoKf07ZokBB"
      }
    },
    {
      "cell_type": "code",
      "execution_count": null,
      "metadata": {
        "id": "Nc1zvdDV9VIX"
      },
      "outputs": [],
      "source": [
        "# Creating an UDF to get game names from the appid\n",
        "import requests\n",
        "import time\n",
        "from bs4 import BeautifulSoup\n",
        "games_map = dict()\n",
        "\n",
        "# The following function sends a http request to the steam website and parses the response to return game name from appid\n",
        "def get_game_name(appid):\n",
        "  try:\n",
        "    if games_map.get(appid, False):\n",
        "      return games_map[appid]\n",
        "    url = f'https://store.steampowered.com/app/{appid}/'\n",
        "\n",
        "    response = requests.get(url)\n",
        "\n",
        "    if response.status_code == 200:\n",
        "        soup = BeautifulSoup(response.content, 'html.parser')\n",
        "        game_name = soup.find('div', {'class': 'apphub_AppName'}).text.strip()\n",
        "        games_map[appid] = game_name\n",
        "        return game_name\n",
        "    else:\n",
        "        return 'NaN'\n",
        "  except Exception:\n",
        "    return 'Removed'"
      ]
    },
    {
      "cell_type": "code",
      "execution_count": null,
      "metadata": {
        "id": "3rne5cX59j__"
      },
      "outputs": [],
      "source": [
        "from pyspark.sql.functions import udf\n",
        "from pyspark.sql.types import StringType\n",
        "\n",
        "# Registering the above function as an UDF(User Defined Function)\n",
        "get_game_name_udf = udf(get_game_name, StringType())\n",
        "\n",
        "# Transforming appids to their corresponding game names\n",
        "df_with_game_names = total_distinct_games.withColumn('game_name', get_game_name_udf('appid'))"
      ]
    },
    {
      "cell_type": "code",
      "execution_count": null,
      "metadata": {
        "colab": {
          "base_uri": "https://localhost:8080/"
        },
        "id": "9FW4rPYt9zCF",
        "outputId": "07214788-4667-4f7a-a824-aaf604f07a9f"
      },
      "outputs": [
        {
          "output_type": "stream",
          "name": "stdout",
          "text": [
            "+-------+--------------------+\n",
            "|  appid|           game_name|\n",
            "+-------+--------------------+\n",
            "| 477160|    Human: Fall Flat|\n",
            "| 285190|Warhammer 40,000:...|\n",
            "|1180380|            Stay Out|\n",
            "|1089980|The Henry Stickmi...|\n",
            "| 236510| Takedown: Red Sabre|\n",
            "| 629760|             MORDHAU|\n",
            "| 283640|  Salt and Sanctuary|\n",
            "|1017900|Age of Empires: D...|\n",
            "| 779340|Total War: THREE ...|\n",
            "| 728880|       Overcooked! 2|\n",
            "| 621060|PC Building Simul...|\n",
            "| 723390|Hunt Down The Fre...|\n",
            "|  40800|      Super Meat Boy|\n",
            "|1190460|             Removed|\n",
            "| 334040|         Down To One|\n",
            "|1015500|            WWE 2K20|\n",
            "| 782330|        DOOM Eternal|\n",
            "| 385560|Shadow Complex Re...|\n",
            "| 227300|Euro Truck Simula...|\n",
            "| 686600|     Rapture Rejects|\n",
            "| 620980|          Beat Saber|\n",
            "| 583950|            Artifact|\n",
            "| 428550|Momodora: Reverie...|\n",
            "| 504230|             Celeste|\n",
            "| 282560|RollerCoaster Tyc...|\n",
            "| 541210|         Cold Waters|\n",
            "| 258180|   Deus Ex: The Fall|\n",
            "|    620|            Portal 2|\n",
            "| 247240|  Volgarr the Viking|\n",
            "|1158310|  Crusader Kings III|\n",
            "| 899440|         GOD EATER 3|\n",
            "| 792990|            Identity|\n",
            "| 427520|            Factorio|\n",
            "| 294100|            RimWorld|\n",
            "| 247730| Nether: Resurrected|\n",
            "|1055540|        A Short Hike|\n",
            "| 390340|      Umbrella Corps|\n",
            "| 787860|Farming Simulator 19|\n",
            "| 242760|          The Forest|\n",
            "| 242920|            Banished|\n",
            "|1128000|          Cube World|\n",
            "|1222700|           A Way Out|\n",
            "| 397540|       Borderlands 3|\n",
            "| 200900|         Cave Story+|\n",
            "| 292730|Call of Duty®: In...|\n",
            "| 814380|Sekiro™: Shadows ...|\n",
            "| 253230|       A Hat in Time|\n",
            "| 583470|     The End Is Nigh|\n",
            "| 206440|         To the Moon|\n",
            "| 611760|Don't Escape: 4 D...|\n",
            "| 252950|      Rocket League®|\n",
            "| 250900|The Binding of Is...|\n",
            "| 590380|     Into the Breach|\n",
            "| 332200|         Axiom Verge|\n",
            "| 264710|          Subnautica|\n",
            "| 732810|          Slipstream|\n",
            "| 646570|      Slay the Spire|\n",
            "| 240720|Getting Over It w...|\n",
            "|   2870|           X Rebirth|\n",
            "| 688130|Pogostuck: Rage W...|\n",
            "| 297130|         Titan Souls|\n",
            "| 289070|Sid Meier’s Civil...|\n",
            "| 367520|       Hollow Knight|\n",
            "| 431960|    Wallpaper Engine|\n",
            "|1225330|            NBA 2K21|\n",
            "| 640820|Pathfinder: Kingm...|\n",
            "|1056960|Wolfenstein: Youn...|\n",
            "| 311690|   Enter the Gungeon|\n",
            "| 381210|    Dead by Daylight|\n",
            "| 552500|Warhammer: Vermin...|\n",
            "| 275390|Guacamelee! Super...|\n",
            "| 250760|Shovel Knight: Tr...|\n",
            "| 233860|              Kenshi|\n",
            "| 841370|            NBA 2K19|\n",
            "| 690830|          Foundation|\n",
            "| 577800|            NBA 2K18|\n",
            "| 581320|Insurgency: Sands...|\n",
            "| 322110|                20XX|\n",
            "| 834910|               ATLAS|\n",
            "| 546560|     Half-Life: Alyx|\n",
            "+-------+--------------------+\n",
            "\n"
          ]
        }
      ],
      "source": [
        "# Checking the results\n",
        "df_with_game_names.show(total_distinct_games_count)"
      ]
    },
    {
      "cell_type": "code",
      "execution_count": null,
      "metadata": {
        "colab": {
          "base_uri": "https://localhost:8080/"
        },
        "id": "Hyj-iKUX94hl",
        "outputId": "b2238182-8feb-46b1-effd-8c88a976cea7"
      },
      "outputs": [
        {
          "output_type": "stream",
          "name": "stdout",
          "text": [
            "+------+-------+----------------+--------+----------------------------------+-----------------+-----------------+--------+--------+-----------+-------------------+-------------+--------------+-----------------+---------------------------+-----------------+---------------+-----------+----------------+-----------------------+------------------+-----------+----------------+\n",
            "| appid|    _c0|recommendationid|language|                            review|timestamp_created|timestamp_updated|voted_up|votes_up|votes_funny|weighted_vote_score|comment_count|steam_purchase|received_for_free|written_during_early_access|          steamid|num_games_owned|num_reviews|playtime_forever|playtime_last_two_weeks|playtime_at_review|last_played|       game_name|\n",
            "+------+-------+----------------+--------+----------------------------------+-----------------+-----------------+--------+--------+-----------+-------------------+-------------+--------------+-----------------+---------------------------+-----------------+---------------+-----------+----------------+-----------------------+------------------+-----------+----------------+\n",
            "|477160|1398656|        81968942| koreana|컨트롤이 조금 어렵다는것 빼고는...|       1607601943|       1607601943|    true|       0|          0|                0.0|            0|         false|             true|                      false|76561199045987218|              4|          1|            1933|                    202|            1933.0| 1607158810|Human: Fall Flat|\n",
            "|477160|1398657|        81968277|schinese|        这游戏的娱乐性简直到了顶峰|       1607601423|       1607601423|    true|       0|          0|                0.0|            0|          true|            false|                      false|76561198872042855|             16|          3|             947|                     78|             944.0| 1607602932|Human: Fall Flat|\n",
            "|477160|1398658|        81967798|  polish|              Gre kupiłem już d...|       1607601077|       1607601077|    true|       0|          0|                0.0|            0|         false|            false|                      false|76561198852497575|              7|          5|            1169|                     32|            1169.0| 1607000595|Human: Fall Flat|\n",
            "|477160|1398659|        81966144| russian|              Очень прикольная ...|       1607599756|       1607599756|    true|       0|          0|                0.0|            0|          true|            false|                      false|76561198998367393|              3|          2|             300|                    300|             296.0| 1607600080|Human: Fall Flat|\n",
            "|477160|1398660|        81965062| turkish|                            sağlam|       1607598892|       1607598892|    true|       0|          0|                0.0|            0|          true|            false|                      false|76561198382881470|             20|          1|             444|                     77|             409.0| 1607600990|Human: Fall Flat|\n",
            "|477160|1398661|        81964911| english|              If you want to pl...|       1607598774|       1607598774|    true|       0|          0|                0.0|            0|          true|            false|                      false|76561197994103060|            361|         12|             679|                      0|             679.0| 1605311259|Human: Fall Flat|\n",
            "|477160|1398662|        81964617|schinese|适合和朋友一块消磨时间，挺欢乐的。|       1607598512|       1607598512|    true|       0|          0|                0.0|            0|          true|            false|                      false|76561198263964378|             10|          6|             279|                      0|             279.0| 1594974427|Human: Fall Flat|\n",
            "|477160|1398663|        81960306|schinese|                           软音ssb|       1607595152|       1607595152|    true|       0|          0|                0.0|            0|          true|            false|                      false|76561199004188212|             18|          5|           39340|                   2728|           39239.0| 1607605992|Human: Fall Flat|\n",
            "|477160|1398664|        81960302| turkish|              mükemmel bir oyun...|       1607595148|       1607595148|    true|       0|          0|                0.0|            0|         false|            false|                      false|76561198387015330|             19|          1|             550|                     63|             550.0| 1607196717|Human: Fall Flat|\n",
            "|477160|1398665|        81960194|schinese|    把手放开！别抓着我！我要过关！|       1607595069|       1607595069|    true|       1|          0|  0.523809552192688|            0|          true|            false|                      false|76561198868122432|              8|          5|              27|                     27|               6.0| 1607596438|Human: Fall Flat|\n",
            "|477160|1398666|        81959807| turkish|                              bruh|       1607594787|       1607594787|    true|       0|          0|                0.0|            0|          true|            false|                      false|76561198870947047|             45|          5|            1190|                      0|            1190.0| 1589195234|Human: Fall Flat|\n",
            "|477160|1398667|        81959314|schinese|                               ...|       1607594403|       1607594403|    true|       0|          0|                0.0|            0|          true|            false|                      false|76561199064376018|              3|          2|             414|                     22|             399.0| 1607595456|Human: Fall Flat|\n",
            "|477160|1398668|        81959268|  polish|                                OK|       1607594362|       1607594362|    true|       0|          0|                0.0|            0|         false|            false|                      false|76561198260282151|             32|         12|             460|                    460|             460.0| 1607539115|Human: Fall Flat|\n",
            "|477160|1398669|        81958130| turkish|              Arkadaşlarınızla ...|       1607593462|       1607593462|    true|       0|          0|                0.0|            0|          true|            false|                      false|76561199017498524|             33|          9|            1447|                      0|            1447.0| 1605709493|Human: Fall Flat|\n",
            "|477160|1398670|        81957446|  polish|                          PogChamp|       1607592900|       1607592900|    true|       0|          0|                0.0|            0|          true|            false|                      false|76561198237803654|             10|          2|             611|                    611|             600.0| 1607605625|Human: Fall Flat|\n",
            "|477160|1398671|        81957146| english|              Fun to play solo ...|       1607592662|       1607592662|    true|       0|          0|                0.0|            0|         false|            false|                      false|76561197970617808|            317|          6|            1561|                    354|            1561.0| 1607301896|Human: Fall Flat|\n",
            "|477160|1398672|        81956582| english|              Интересная игра р...|       1607592245|       1607592245|    true|       0|          0|                0.0|            0|          true|            false|                      false|76561198874966510|              6|          5|            1613|                     88|            1524.0| 1607596960|Human: Fall Flat|\n",
            "|477160|1398673|        81956404| koreana|           [h1] [b] PU-BG게임은...|       1607592107|       1607592107|    true|      19|          0| 0.6744186282157898|            0|          true|            false|                      false|76561198305229519|             29|         19|             760|                      0|             760.0| 1602854218|Human: Fall Flat|\n",
            "|477160|1398674|        81956169|schinese|        很好，我越来越觉得我是沙子|       1607591915|       1607591915|    true|       0|          0|                0.0|            0|          true|            false|                      false|76561198858743586|              7|          1|            1817|                   1621|            1817.0| 1607591853|Human: Fall Flat|\n",
            "|477160|1398675|        81955001| russian|              Очень пездатая иг...|       1607590935|       1607590935|    true|       0|          0|                0.0|            0|          true|            false|                      false|76561198126387118|             34|          2|             698|                     57|             698.0| 1607511834|Human: Fall Flat|\n",
            "+------+-------+----------------+--------+----------------------------------+-----------------+-----------------+--------+--------+-----------+-------------------+-------------+--------------+-----------------+---------------------------+-----------------+---------------+-----------+----------------+-----------------------+------------------+-----------+----------------+\n",
            "only showing top 20 rows\n",
            "\n"
          ]
        }
      ],
      "source": [
        "# Doing an inner join with the complete dataset based on appid so that game names will be populated for each review\n",
        "video_game_reviews_df = video_game_reviews_df.join(df_with_game_names, on='appid', how='inner')\n",
        "video_game_reviews_df.show()"
      ]
    },
    {
      "cell_type": "markdown",
      "metadata": {
        "id": "o6wtMe0M_046"
      },
      "source": [
        "# Data Inspection"
      ]
    },
    {
      "cell_type": "code",
      "execution_count": null,
      "metadata": {
        "colab": {
          "base_uri": "https://localhost:8080/"
        },
        "id": "-TEpqVdq98Ex",
        "outputId": "e14fc115-0233-42cf-ca14-5e57172d4ac5"
      },
      "outputs": [
        {
          "output_type": "stream",
          "name": "stdout",
          "text": [
            "root\n",
            " |-- appid: integer (nullable = true)\n",
            " |-- index: integer (nullable = true)\n",
            " |-- recommendationid: integer (nullable = true)\n",
            " |-- language: string (nullable = true)\n",
            " |-- review: string (nullable = true)\n",
            " |-- timestamp_created: integer (nullable = true)\n",
            " |-- timestamp_updated: integer (nullable = true)\n",
            " |-- voted_up: boolean (nullable = true)\n",
            " |-- votes_up: integer (nullable = true)\n",
            " |-- votes_funny: long (nullable = true)\n",
            " |-- weighted_vote_score: double (nullable = true)\n",
            " |-- comment_count: integer (nullable = true)\n",
            " |-- steam_purchase: boolean (nullable = true)\n",
            " |-- received_for_free: boolean (nullable = true)\n",
            " |-- written_during_early_access: boolean (nullable = true)\n",
            " |-- steamid: long (nullable = true)\n",
            " |-- num_games_owned: integer (nullable = true)\n",
            " |-- num_reviews: integer (nullable = true)\n",
            " |-- playtime_forever: integer (nullable = true)\n",
            " |-- playtime_last_two_weeks: integer (nullable = true)\n",
            " |-- playtime_at_review: double (nullable = true)\n",
            " |-- last_played: integer (nullable = true)\n",
            " |-- game_name: string (nullable = true)\n",
            "\n"
          ]
        }
      ],
      "source": [
        "# Checking the data types of the video game reviews dataframe\n",
        "video_game_reviews_df = video_game_reviews_df.withColumnRenamed('_c0', 'index')\n",
        "video_game_reviews_df.printSchema()"
      ]
    },
    {
      "cell_type": "code",
      "execution_count": null,
      "metadata": {
        "colab": {
          "base_uri": "https://localhost:8080/"
        },
        "id": "MwHwbUF09_MR",
        "outputId": "44f86edf-09a5-430f-db84-3f6ba517bb3b"
      },
      "outputs": [
        {
          "output_type": "stream",
          "name": "stdout",
          "text": [
            "+-------+------------------+------------------+--------------------+----------+--------------------+-------------------+--------------------+------------------+--------------------+-------------------+-------------------+--------------------+------------------+------------------+------------------+-----------------------+------------------+-------------------+---------+\n",
            "|summary|             appid|             index|    recommendationid|  language|              review|  timestamp_created|   timestamp_updated|          votes_up|         votes_funny|weighted_vote_score|      comment_count|             steamid|   num_games_owned|       num_reviews|  playtime_forever|playtime_last_two_weeks|playtime_at_review|        last_played|game_name|\n",
            "+-------+------------------+------------------+--------------------+----------+--------------------+-------------------+--------------------+------------------+--------------------+-------------------+-------------------+--------------------+------------------+------------------+------------------+-----------------------+------------------+-------------------+---------+\n",
            "|  count|           4374931|           4374931|             4374931|   4374931|             4368470|            4374931|             4374931|           4374931|             4374931|            4374931|            4374931|             4374931|           4374931|           4374931|           4374931|                4374931|           4368147|            4374931|  4374931|\n",
            "|   mean|401883.66441207874|         2187465.0|5.2782236502131805E7|      null|                 NaN| 1.54872817643339E9|1.5516453553281562E9|1.9331797461491393|  109953.78690749637| 0.1636394982670341|0.11609348810301237|7.656119827960768E16| 142.7298633967027|10.504299153518078|12458.047897212551|     158.00544031437295| 6462.077655582561|1.582420217509091E9|     null|\n",
            "| stddev| 245144.4475616757|1262933.9396055762| 1.908483798933746E7|      null|                 NaN|5.357966946043563E7| 5.239998980951741E7|32.466272089347676|2.1730902283942226E7|0.24323404135021057| 1.6498171350830377| 3.026632434041912E8|297.75026791698076| 33.39567364575626|  29107.4286481158|      665.7740777599896|17688.680766849066|4.309287908412282E7|     null|\n",
            "|    min|               620|                 0|                  43| brazilian|\\bGreat mix of ro...|         1290557623|          1290557623|                 0|                   0|                0.0|                  0|   76561197960265745|                 0|                 1|                 0|                      0|               1.0|                  0|     20XX|\n",
            "|    max|           1225330|           4374930|            82084999|vietnamese|󠂪󠂪 󠂪󠂪󠂪 󠂪󠂪 ...|         1607701617|          1607701617|             12371|          4294967295| 0.9944592714309692|                758|   76561199116182835|             23850|              5236|           2385888|                  22398|         1751059.0|         1607703040|X Rebirth|\n",
            "+-------+------------------+------------------+--------------------+----------+--------------------+-------------------+--------------------+------------------+--------------------+-------------------+-------------------+--------------------+------------------+------------------+------------------+-----------------------+------------------+-------------------+---------+\n",
            "\n"
          ]
        }
      ],
      "source": [
        "# Using describe to get the summary of the dataset\n",
        "video_game_reviews_df.describe().show()"
      ]
    },
    {
      "cell_type": "code",
      "execution_count": null,
      "metadata": {
        "id": "hnR-JztV-Vep"
      },
      "outputs": [],
      "source": [
        "# Dropping null values\n",
        "video_game_reviews_df = video_game_reviews_df.dropna(how='any')"
      ]
    },
    {
      "cell_type": "code",
      "execution_count": null,
      "metadata": {
        "id": "4GJoUf9UsAea",
        "colab": {
          "base_uri": "https://localhost:8080/"
        },
        "outputId": "a22c781f-6856-48ba-d154-5e9c280b3f83"
      },
      "outputs": [
        {
          "output_type": "stream",
          "name": "stdout",
          "text": [
            "+----------+--------------------+\n",
            "|  language|reviews_per_language|\n",
            "+----------+--------------------+\n",
            "|   koreana|              111539|\n",
            "|     greek|                2752|\n",
            "|   russian|              420119|\n",
            "|    danish|               11218|\n",
            "|     dutch|               17924|\n",
            "|  tchinese|               40328|\n",
            "|    german|              174187|\n",
            "|   spanish|              171010|\n",
            "|    french|              123372|\n",
            "|vietnamese|                 866|\n",
            "|  schinese|              721740|\n",
            "|   italian|               31559|\n",
            "|   swedish|               15509|\n",
            "|      thai|               24188|\n",
            "| bulgarian|                2508|\n",
            "|   turkish|              152931|\n",
            "|   finnish|               10037|\n",
            "|portuguese|               20622|\n",
            "|  japanese|               20175|\n",
            "| ukrainian|                3970|\n",
            "|   english|             1916133|\n",
            "|    polish|              116827|\n",
            "|     latam|               15138|\n",
            "| hungarian|               15076|\n",
            "|     czech|               30307|\n",
            "|  romanian|               12038|\n",
            "| norwegian|                7990|\n",
            "| brazilian|              171625|\n",
            "+----------+--------------------+\n",
            "\n"
          ]
        }
      ],
      "source": [
        "# Analysing the total review per each language\n",
        "reviews_per_language = video_game_reviews_df.groupBy(\"language\").agg(count(\"*\").alias(\"reviews_per_language\"))\n",
        "reviews_per_language_count = reviews_per_language.count()\n",
        "reviews_per_language.show(reviews_per_language_count)"
      ]
    },
    {
      "cell_type": "markdown",
      "source": [
        "The dataset contains almost **4 million** reviews, out of which almost **2 million** reviews belong to the **English** language. Considering only the reviews with English language for our task because of two reasons.\n",
        "\n",
        "1) To get accurate results\n",
        "\n",
        "2) For the task 2, we are training Word2Vec on the reviews column and transforming them to get the numerical representations . Since Word2Vec requires memory in the order of O(vocabulary * vocabulary) to store the weights of the neural network, we were getting OutOfMemory error since we don't have enough RAM to store the complete state information. So to reduce the state information we are considering only English language vocabulary."
      ],
      "metadata": {
        "id": "xXBINMhzpd26"
      }
    },
    {
      "cell_type": "code",
      "execution_count": null,
      "metadata": {
        "id": "a7IqkMOCDSM4"
      },
      "outputs": [],
      "source": [
        "# Filtering dataset by considering only English language\n",
        "video_game_reviews_df = video_game_reviews_df.filter(col(\"language\") == \"english\")"
      ]
    },
    {
      "cell_type": "code",
      "execution_count": null,
      "metadata": {
        "colab": {
          "base_uri": "https://localhost:8080/"
        },
        "id": "SOgfw4wewmfz",
        "outputId": "97be9812-7ea4-4621-e5ac-e24d4c8df052"
      },
      "outputs": [
        {
          "output_type": "execute_result",
          "data": {
            "text/plain": [
              "1916133"
            ]
          },
          "metadata": {},
          "execution_count": 22
        }
      ],
      "source": [
        "# Checking the total count of reviews\n",
        "video_game_reviews_df.count()"
      ]
    },
    {
      "cell_type": "code",
      "execution_count": null,
      "metadata": {
        "id": "Tw9Cld_hED7Y"
      },
      "outputs": [],
      "source": [
        "# For Task 2\n",
        "video_game_reviews_df2 = video_game_reviews_df"
      ]
    },
    {
      "cell_type": "markdown",
      "metadata": {
        "id": "wHft1Jht1Qxl"
      },
      "source": [
        "\n",
        "# **Task 1 - One clustering method or recommendation system [25 marks]**\n"
      ]
    },
    {
      "cell_type": "markdown",
      "metadata": {
        "id": "jrVE5DicDhMU"
      },
      "source": [
        "**Clustering Video games based on their reviews, no. of votes, votes_up, votes_funny, weighted_vote_score, comment_count, steam_purchase, received_for_free, written_during_early_access, playtime_forever**"
      ]
    },
    {
      "cell_type": "markdown",
      "metadata": {
        "id": "tHJ33QB4-2Hz"
      },
      "source": [
        "### Data Visualisation"
      ]
    },
    {
      "cell_type": "markdown",
      "source": [
        "**Review Count Per Each Game**"
      ],
      "metadata": {
        "id": "qLBbHB78sDcQ"
      }
    },
    {
      "cell_type": "code",
      "execution_count": null,
      "metadata": {
        "colab": {
          "base_uri": "https://localhost:8080/"
        },
        "id": "04evtFTEADpK",
        "outputId": "fe45ed00-b05f-489a-ddd9-25e64a069d3c"
      },
      "outputs": [
        {
          "output_type": "stream",
          "name": "stdout",
          "text": [
            "+--------------------+----------------------+\n",
            "|           game_name|reviews_count_per_game|\n",
            "+--------------------+----------------------+\n",
            "|    Human: Fall Flat|                 23611|\n",
            "|Age of Empires: D...|                  2270|\n",
            "| Takedown: Red Sabre|                  3051|\n",
            "|Total War: THREE ...|                 15636|\n",
            "|The Henry Stickmi...|                 13188|\n",
            "|PC Building Simul...|                 12735|\n",
            "|            Stay Out|                  2095|\n",
            "|             MORDHAU|                 52601|\n",
            "|Warhammer 40,000:...|                  9607|\n",
            "|       Overcooked! 2|                  6268|\n",
            "|  Salt and Sanctuary|                  4632|\n",
            "|         Down To One|                  1134|\n",
            "|      Super Meat Boy|                 14150|\n",
            "|        DOOM Eternal|                 65840|\n",
            "|Shadow Complex Re...|                   403|\n",
            "|Hunt Down The Fre...|                  1227|\n",
            "|             Removed|                 14421|\n",
            "|Euro Truck Simula...|                 78114|\n",
            "|            WWE 2K20|                  1648|\n",
            "|Momodora: Reverie...|                  3651|\n",
            "+--------------------+----------------------+\n",
            "only showing top 20 rows\n",
            "\n"
          ]
        }
      ],
      "source": [
        "review_count_per_game = video_game_reviews_df.groupBy(\"game_name\").agg(count(\"*\").alias(\"reviews_count_per_game\"))\n",
        "review_count_per_game.show()"
      ]
    },
    {
      "cell_type": "markdown",
      "source": [
        "**Plotting the results**"
      ],
      "metadata": {
        "id": "4301g7BfsLJZ"
      }
    },
    {
      "cell_type": "code",
      "execution_count": null,
      "metadata": {
        "colab": {
          "base_uri": "https://localhost:8080/"
        },
        "id": "7TOcOFuICoIp",
        "outputId": "2b478d2b-c358-4ecd-b9a1-5ef5f008f5eb"
      },
      "outputs": [
        {
          "output_type": "display_data",
          "data": {
            "text/plain": [
              "<Figure size 2000x2000 with 1 Axes>"
            ],
            "image/png": "[encoded data removed]"
          },
          "metadata": {}
        }
      ],
      "source": [
        "review_count_per_game_results = review_count_per_game.collect()\n",
        "games = [row[\"game_name\"] for row in review_count_per_game_results]\n",
        "review_count = [row[\"reviews_count_per_game\"] for row in review_count_per_game_results]\n",
        "\n",
        "plt.figure(figsize=(20, 20))\n",
        "\n",
        "plt.barh(games, review_count)\n",
        "plt.xlabel(\"Video Games\")\n",
        "plt.ylabel(\"Review Count\")\n",
        "plt.title(\"Reviews Count Per Each Game\")\n",
        "\n",
        "plt.show()"
      ]
    },
    {
      "cell_type": "markdown",
      "metadata": {
        "id": "yDLfRbL3JCSM"
      },
      "source": [
        "### Data Preprocessing"
      ]
    },
    {
      "cell_type": "code",
      "execution_count": null,
      "metadata": {
        "colab": {
          "base_uri": "https://localhost:8080/"
        },
        "id": "O8mIxtRaJQ5P",
        "outputId": "98de129c-39d1-4e03-ee36-98366fac54a0"
      },
      "outputs": [
        {
          "output_type": "stream",
          "name": "stdout",
          "text": [
            "+------+-------+----------------+--------+--------------------+-----------------+-----------------+--------+--------+-----------+-------------------+-------------+--------------+-----------------+---------------------------+-----------------+---------------+-----------+----------------+-----------------------+------------------+-----------+----------------+\n",
            "| appid|  index|recommendationid|language|              review|timestamp_created|timestamp_updated|voted_up|votes_up|votes_funny|weighted_vote_score|comment_count|steam_purchase|received_for_free|written_during_early_access|          steamid|num_games_owned|num_reviews|playtime_forever|playtime_last_two_weeks|playtime_at_review|last_played|       game_name|\n",
            "+------+-------+----------------+--------+--------------------+-----------------+-----------------+--------+--------+-----------+-------------------+-------------+--------------+-----------------+---------------------------+-----------------+---------------+-----------+----------------+-----------------------+------------------+-----------+----------------+\n",
            "|477160|1398661|        81964911| english|If you want to pl...|       1607598774|       1607598774|    true|       0|          0|                0.0|            0|          true|            false|                      false|76561197994103060|            361|         12|             679|                      0|             679.0| 1605311259|Human: Fall Flat|\n",
            "|477160|1398671|        81957146| english|Fun to play solo ...|       1607592662|       1607592662|    true|       0|          0|                0.0|            0|         false|            false|                      false|76561197970617808|            317|          6|            1561|                    354|            1561.0| 1607301896|Human: Fall Flat|\n",
            "|477160|1398672|        81956582| english|Интересная игра р...|       1607592245|       1607592245|    true|       0|          0|                0.0|            0|          true|            false|                      false|76561198874966510|              6|          5|            1613|                     88|            1524.0| 1607596960|Human: Fall Flat|\n",
            "|477160|1398686|        81947628| english|fun to play with ...|       1607584670|       1607584670|    true|       0|          0|                0.0|            0|         false|            false|                      false|76561198976488002|              3|          1|             222|                    222|             195.0| 1607605538|Human: Fall Flat|\n",
            "|477160|1398688|        81943551| english|                Good|       1607581216|       1607581216|    true|       0|          0|                0.0|            0|          true|            false|                      false|76561198136161565|             10|          6|             505|                    505|             505.0| 1607172242|Human: Fall Flat|\n",
            "|477160|1398693|        81939361| english|             gud gud|       1607577707|       1607577707|    true|       0|          0|                0.0|            0|         false|             true|                      false|76561198276655616|              9|          4|             637|                    637|             637.0| 1607144620|Human: Fall Flat|\n",
            "|477160|1398702|        81927236| english|i dont know why t...|       1607567775|       1607567775|    true|       0|          0|                0.0|            0|          true|            false|                      false|76561198073794282|             79|          4|             749|                    139|             655.0| 1607573512|Human: Fall Flat|\n",
            "|477160|1398706|        81922296| english|                 tah|       1607563292|       1607563292|    true|       0|          0|                0.0|            0|         false|            false|                      false|76561198071350907|             35|         11|             653|                     37|             653.0| 1607252453|Human: Fall Flat|\n",
            "|477160|1398708|        81920867| english|             it good|       1607561897|       1607561897|    true|       0|          0|                0.0|            0|         false|            false|                      false|76561198975400018|              5|          2|            1127|                   1127|            1098.0| 1607565747|Human: Fall Flat|\n",
            "|477160|1398710|        81917033| english|              yes \\n|       1607555243|       1607555243|    true|       0|          0|                0.0|            0|          true|            false|                      false|76561198170533331|             38|          1|             996|                      9|             986.0| 1607555902|Human: Fall Flat|\n",
            "|477160|1398711|        81916963| english|goooooooooooooooo...|       1607555103|       1607555103|    true|       0|          0|                0.0|            0|         false|            false|                      false|76561198255233724|             18|          3|             453|                    235|             453.0| 1607199229|Human: Fall Flat|\n",
            "|477160|1398717|        81912985| english|              yessss|       1607548587|       1607548587|    true|       0|          0|                0.0|            0|          true|            false|                      false|76561198846858672|              5|          2|            4427|                     54|            4426.0| 1607548625|Human: Fall Flat|\n",
            "|477160|1398719|        81912878| english|it's just a fun, ...|       1607548432|       1607548432|    true|       0|          0|                0.0|            0|         false|            false|                      false|76561198203206571|             21|          1|            1252|                    265|            1252.0| 1607168749|Human: Fall Flat|\n",
            "|477160|1398720|        81912739| english|          good funny|       1607548194|       1607548194|    true|       0|          0|                0.0|            0|          true|            false|                      false|76561198370141585|             19|          6|            1056|                   1056|            1056.0| 1607006873|Human: Fall Flat|\n",
            "|477160|1398721|        81911734| english|very good game, v...|       1607546670|       1607546670|    true|       0|          0|                0.0|            0|          true|            false|                      false|76561199026766979|              7|          1|            1649|                   1649|            1235.0| 1607571539|Human: Fall Flat|\n",
            "|477160|1398723|        81911111| english|yeaaaaaaaaaaaaaaa...|       1607545770|       1607545770|    true|       0|          0|                0.0|            0|          true|             true|                      false|76561199088363457|             13|         11|             406|                    390|             243.0| 1607555531|Human: Fall Flat|\n",
            "|477160|1398725|        81910823| english|Removing Linux su...|       1607545388|       1607545388|   false|       1|          0|  0.497925341129303|            0|          true|            false|                      false|76561198104281976|             67|          5|             123|                     12|             123.0| 1607545280|Human: Fall Flat|\n",
            "|477160|1398726|        81910492| english|Endless amounts o...|       1607544975|       1607544975|    true|       0|          0|                0.0|            0|         false|            false|                      false|76561198131078852|            103|          5|             343|                      2|             343.0| 1607544648|Human: Fall Flat|\n",
            "|477160|1398728|        81909081| english|Super funny game ...|       1607543069|       1607543069|    true|       0|          0|                0.0|            0|          true|            false|                      false|76561198117652147|             46|          1|            1601|                   1070|            1360.0| 1607570068|Human: Fall Flat|\n",
            "|477160|1398732|        81907936| english|    best game period|       1607541444|       1607541444|    true|       0|          0|                0.0|            0|          true|            false|                      false|76561198414103624|             25|          6|             979|                    373|             979.0| 1607541432|Human: Fall Flat|\n",
            "+------+-------+----------------+--------+--------------------+-----------------+-----------------+--------+--------+-----------+-------------------+-------------+--------------+-----------------+---------------------------+-----------------+---------------+-----------+----------------+-----------------------+------------------+-----------+----------------+\n",
            "only showing top 20 rows\n",
            "\n"
          ]
        }
      ],
      "source": [
        "video_game_reviews_df.show()"
      ]
    },
    {
      "cell_type": "markdown",
      "source": [
        "**Casting the Boolean columns to Integers**"
      ],
      "metadata": {
        "id": "9Qj7_jcasg8l"
      }
    },
    {
      "cell_type": "code",
      "execution_count": null,
      "metadata": {
        "colab": {
          "base_uri": "https://localhost:8080/"
        },
        "id": "exRPgbGakzqL",
        "outputId": "5c7d0549-24bf-4cc9-e639-a895bee1aeea"
      },
      "outputs": [
        {
          "output_type": "stream",
          "name": "stdout",
          "text": [
            "+------+-------+----------------+--------+--------------------+-----------------+-----------------+--------+--------+-----------+-------------------+-------------+--------------+-----------------+---------------------------+-----------------+---------------+-----------+----------------+-----------------------+------------------+-----------+----------------+\n",
            "| appid|  index|recommendationid|language|              review|timestamp_created|timestamp_updated|voted_up|votes_up|votes_funny|weighted_vote_score|comment_count|steam_purchase|received_for_free|written_during_early_access|          steamid|num_games_owned|num_reviews|playtime_forever|playtime_last_two_weeks|playtime_at_review|last_played|       game_name|\n",
            "+------+-------+----------------+--------+--------------------+-----------------+-----------------+--------+--------+-----------+-------------------+-------------+--------------+-----------------+---------------------------+-----------------+---------------+-----------+----------------+-----------------------+------------------+-----------+----------------+\n",
            "|477160|1398661|        81964911| english|If you want to pl...|       1607598774|       1607598774|       1|       0|          0|                0.0|            0|             1|                0|                          0|76561197994103060|            361|         12|             679|                      0|             679.0| 1605311259|Human: Fall Flat|\n",
            "|477160|1398671|        81957146| english|Fun to play solo ...|       1607592662|       1607592662|       1|       0|          0|                0.0|            0|             0|                0|                          0|76561197970617808|            317|          6|            1561|                    354|            1561.0| 1607301896|Human: Fall Flat|\n",
            "|477160|1398672|        81956582| english|Интересная игра р...|       1607592245|       1607592245|       1|       0|          0|                0.0|            0|             1|                0|                          0|76561198874966510|              6|          5|            1613|                     88|            1524.0| 1607596960|Human: Fall Flat|\n",
            "|477160|1398686|        81947628| english|fun to play with ...|       1607584670|       1607584670|       1|       0|          0|                0.0|            0|             0|                0|                          0|76561198976488002|              3|          1|             222|                    222|             195.0| 1607605538|Human: Fall Flat|\n",
            "|477160|1398688|        81943551| english|                Good|       1607581216|       1607581216|       1|       0|          0|                0.0|            0|             1|                0|                          0|76561198136161565|             10|          6|             505|                    505|             505.0| 1607172242|Human: Fall Flat|\n",
            "|477160|1398693|        81939361| english|             gud gud|       1607577707|       1607577707|       1|       0|          0|                0.0|            0|             0|                1|                          0|76561198276655616|              9|          4|             637|                    637|             637.0| 1607144620|Human: Fall Flat|\n",
            "|477160|1398702|        81927236| english|i dont know why t...|       1607567775|       1607567775|       1|       0|          0|                0.0|            0|             1|                0|                          0|76561198073794282|             79|          4|             749|                    139|             655.0| 1607573512|Human: Fall Flat|\n",
            "|477160|1398706|        81922296| english|                 tah|       1607563292|       1607563292|       1|       0|          0|                0.0|            0|             0|                0|                          0|76561198071350907|             35|         11|             653|                     37|             653.0| 1607252453|Human: Fall Flat|\n",
            "|477160|1398708|        81920867| english|             it good|       1607561897|       1607561897|       1|       0|          0|                0.0|            0|             0|                0|                          0|76561198975400018|              5|          2|            1127|                   1127|            1098.0| 1607565747|Human: Fall Flat|\n",
            "|477160|1398710|        81917033| english|              yes \\n|       1607555243|       1607555243|       1|       0|          0|                0.0|            0|             1|                0|                          0|76561198170533331|             38|          1|             996|                      9|             986.0| 1607555902|Human: Fall Flat|\n",
            "|477160|1398711|        81916963| english|goooooooooooooooo...|       1607555103|       1607555103|       1|       0|          0|                0.0|            0|             0|                0|                          0|76561198255233724|             18|          3|             453|                    235|             453.0| 1607199229|Human: Fall Flat|\n",
            "|477160|1398717|        81912985| english|              yessss|       1607548587|       1607548587|       1|       0|          0|                0.0|            0|             1|                0|                          0|76561198846858672|              5|          2|            4427|                     54|            4426.0| 1607548625|Human: Fall Flat|\n",
            "|477160|1398719|        81912878| english|it's just a fun, ...|       1607548432|       1607548432|       1|       0|          0|                0.0|            0|             0|                0|                          0|76561198203206571|             21|          1|            1252|                    265|            1252.0| 1607168749|Human: Fall Flat|\n",
            "|477160|1398720|        81912739| english|          good funny|       1607548194|       1607548194|       1|       0|          0|                0.0|            0|             1|                0|                          0|76561198370141585|             19|          6|            1056|                   1056|            1056.0| 1607006873|Human: Fall Flat|\n",
            "|477160|1398721|        81911734| english|very good game, v...|       1607546670|       1607546670|       1|       0|          0|                0.0|            0|             1|                0|                          0|76561199026766979|              7|          1|            1649|                   1649|            1235.0| 1607571539|Human: Fall Flat|\n",
            "|477160|1398723|        81911111| english|yeaaaaaaaaaaaaaaa...|       1607545770|       1607545770|       1|       0|          0|                0.0|            0|             1|                1|                          0|76561199088363457|             13|         11|             406|                    390|             243.0| 1607555531|Human: Fall Flat|\n",
            "|477160|1398725|        81910823| english|Removing Linux su...|       1607545388|       1607545388|       0|       1|          0|  0.497925341129303|            0|             1|                0|                          0|76561198104281976|             67|          5|             123|                     12|             123.0| 1607545280|Human: Fall Flat|\n",
            "|477160|1398726|        81910492| english|Endless amounts o...|       1607544975|       1607544975|       1|       0|          0|                0.0|            0|             0|                0|                          0|76561198131078852|            103|          5|             343|                      2|             343.0| 1607544648|Human: Fall Flat|\n",
            "|477160|1398728|        81909081| english|Super funny game ...|       1607543069|       1607543069|       1|       0|          0|                0.0|            0|             1|                0|                          0|76561198117652147|             46|          1|            1601|                   1070|            1360.0| 1607570068|Human: Fall Flat|\n",
            "|477160|1398732|        81907936| english|    best game period|       1607541444|       1607541444|       1|       0|          0|                0.0|            0|             1|                0|                          0|76561198414103624|             25|          6|             979|                    373|             979.0| 1607541432|Human: Fall Flat|\n",
            "+------+-------+----------------+--------+--------------------+-----------------+-----------------+--------+--------+-----------+-------------------+-------------+--------------+-----------------+---------------------------+-----------------+---------------+-----------+----------------+-----------------------+------------------+-----------+----------------+\n",
            "only showing top 20 rows\n",
            "\n"
          ]
        }
      ],
      "source": [
        "video_game_reviews_df = video_game_reviews_df.withColumn(\"voted_up\", col(\"voted_up\").cast(\"int\"))\n",
        "video_game_reviews_df = video_game_reviews_df.withColumn(\"steam_purchase\", col(\"steam_purchase\").cast(\"int\"))\n",
        "video_game_reviews_df = video_game_reviews_df.withColumn(\"received_for_free\", col(\"received_for_free\").cast(\"int\"))\n",
        "video_game_reviews_df = video_game_reviews_df.withColumn(\"written_during_early_access\", col(\"written_during_early_access\").cast(\"int\"))\n",
        "video_game_reviews_df.show()"
      ]
    },
    {
      "cell_type": "markdown",
      "source": [
        "**Generating a set of features for each game by calculating total reviews and by taking the average of certain columns**"
      ],
      "metadata": {
        "id": "6W0wMISgsnE5"
      }
    },
    {
      "cell_type": "code",
      "execution_count": null,
      "metadata": {
        "colab": {
          "base_uri": "https://localhost:8080/"
        },
        "id": "rBDl_xp0jjyq",
        "outputId": "8ca124e3-f613-4dc8-b1b7-de2e4549732c"
      },
      "outputs": [
        {
          "output_type": "stream",
          "name": "stdout",
          "text": [
            "+--------------------+-------------------+------------------+-------------------+-------------------+-------------------+------------------+--------------------+---------------------------+------------------+-------------+\n",
            "|           game_name|        recommended|          votes_up|        votes_funny|weighted_vote_score|      comment_count|    steam_purchase|   received_for_free|written_during_early_access|  playtime_forever|total_reviews|\n",
            "+--------------------+-------------------+------------------+-------------------+-------------------+-------------------+------------------+--------------------+---------------------------+------------------+-------------+\n",
            "|    Human: Fall Flat| 0.9477362246410571|0.9404938376180594|0.32878742958790397|0.14054514243103822|0.05679556139087713|0.6578713311592055| 0.04095548684934988|                        0.0| 1605.802168480793|        23611|\n",
            "|Age of Empires: D...| 0.7986784140969163| 3.692511013215859| 0.9656387665198238|0.21983148331552876|0.10176211453744494|0.9546255506607929| 0.01145374449339207|                        0.0| 3226.719383259912|         2270|\n",
            "| Takedown: Red Sabre|0.35955424450999673| 8.286463454605048|  6.741724024909866|0.33085424844963124|0.28416912487708945|0.6112749918059652|0.010816125860373648|                        0.0| 351.0435922648312|         3051|\n",
            "|Total War: THREE ...|  0.863584036838066| 2.433934510104886| 0.5150933742645177|0.17041339823653567|0.08800204655922231|0.7363775901765157|0.012854950115118956|                        0.0|  10032.8257866462|        15636|\n",
            "|The Henry Stickmi...| 0.9907491659084016|3.0061419472247497| 1.0893994540491356|0.10939856837843995|0.08894449499545042|0.9619350925083409|0.025781013042159538|                        0.0| 728.0696845617227|        13188|\n",
            "|PC Building Simul...|  0.945583038869258| 2.365135453474676|  1.382567726737338|0.14605482739528394|0.08708284255987436|0.8335296427169219|0.024106792304672164|        0.20023557126030625|2673.4376128778954|        12735|\n",
            "|            Stay Out| 0.3856801909307876| 4.221957040572792| 2.9288782816229118|0.30518736772434807| 0.1198090692124105|               0.0| 0.09689737470167065|                        1.0|   4459.7723150358|         2095|\n",
            "|             MORDHAU| 0.8444516263949354|1.6212429421493888|  0.632193304309804| 0.1725483075682581|0.11151879241839509|0.8441474496682573|0.014676527062223152|                        0.0|11006.864584323492|        52601|\n",
            "|Warhammer 40,000:...| 0.4291662329551369|14.073071718538566| 1788266.7469553452| 0.3955073336929787| 0.6023732694909961|0.5774955761423962|0.037056313105027584|                        0.0|2474.0191527011552|         9607|\n",
            "|       Overcooked! 2| 0.9417677089980855|1.2147415443522656| 0.8402999361837907|0.14128654619206954|0.04945756222080409|0.7439374601148692|0.020102105934907466|                        0.0|2015.9535737077217|         6268|\n",
            "|  Salt and Sanctuary| 0.8987478411053541|2.5613126079447324| 1.3475820379965457|0.24015511255566552|0.21632124352331605|0.9259499136442142|0.012521588946459413|                        0.0|2537.2851899827288|         4632|\n",
            "|         Down To One| 0.4038800705467372|5.1534391534391535|  3787453.195767196|  0.378939022620519|0.36419753086419754|0.7425044091710759|0.021164021164021163|        0.16225749559082892|255.03174603174602|         1134|\n",
            "|      Super Meat Boy| 0.9442402826855124|1.5428975265017668|  607063.6175265018|0.16107406309447103|0.14014134275618376|0.6765371024734982|0.007491166077738516|                        0.0|1477.0891166077738|        14150|\n",
            "|        DOOM Eternal| 0.8846294046172539|2.1397174969623327| 0.6679829890643986| 0.1506745705666204|0.10707776427703523|0.9360267314702309|0.010950789793438638|                        0.0|2649.3118772782504|        65840|\n",
            "|Shadow Complex Re...| 0.8461538461538461| 3.555831265508685| 0.5707196029776674|  0.319573874989751|0.24813895781637718| 0.456575682382134| 0.03225806451612903|                        0.0| 669.8238213399504|          403|\n",
            "|Hunt Down The Fre...|0.38386308068459657| 28.32192339038305| 22.550122249388753| 0.5158448337221301| 1.7212713936430317|0.8549307253463733| 0.06927465362673187|                        0.0| 495.1833740831296|         1227|\n",
            "|             Removed| 0.9295471881284239|3.1966576520352263| 1.1207267179807225|0.18425635439530713|0.12343110741280078|0.6285278413424866| 0.02385410165730532|                        0.0|3331.5123777824006|        14421|\n",
            "|Euro Truck Simula...| 0.9747804490872315|1.1385411065878075|  219934.0025219551|0.13986158718301087|0.08665540108047214| 0.715863993650306| 0.04718744399211409|                        0.0|13753.765663005352|        78114|\n",
            "|            WWE 2K20| 0.3537621359223301| 4.344660194174757| 1.7591019417475728| 0.3025208195418264|0.09223300970873786|0.6025485436893204| 0.02912621359223301|                        0.0| 3490.247572815534|         1648|\n",
            "|Momodora: Reverie...| 0.9309778142974527|1.6743357984113942|0.46809093399068746| 0.1974006953165323|0.12024102985483429|0.8394960284853464|0.014790468364831553|                        0.0| 679.8121062722541|         3651|\n",
            "+--------------------+-------------------+------------------+-------------------+-------------------+-------------------+------------------+--------------------+---------------------------+------------------+-------------+\n",
            "only showing top 20 rows\n",
            "\n"
          ]
        }
      ],
      "source": [
        "'''\n",
        "Calculating Total reviews count per each game and average of voted_up, votes_up, votes_funny, weighted_vote_score, comment_count, steam_purchase, received_for_free,\n",
        "written_during_early_access, playtime_forever per each game\n",
        "'''\n",
        "video_game_reviews_df_features1 = video_game_reviews_df.groupby('game_name').agg(avg('voted_up').alias('recommended'),\n",
        "                                                                                 avg('votes_up').alias('votes_up'),\n",
        "                                                                                 avg('votes_funny').alias('votes_funny'),\n",
        "                                                                                 avg('weighted_vote_score').alias('weighted_vote_score'),\n",
        "                                                                                 avg('comment_count').alias('comment_count'),\n",
        "                                                                                 avg('steam_purchase').alias('steam_purchase'),\n",
        "                                                                                 avg('received_for_free').alias('received_for_free'),\n",
        "                                                                                 avg('written_during_early_access').alias('written_during_early_access'),\n",
        "                                                                                 avg('playtime_forever').alias('playtime_forever'),\n",
        "                                                                                 count('*').alias('total_reviews'))\n",
        "video_game_reviews_df_features1.show()"
      ]
    },
    {
      "cell_type": "markdown",
      "source": [
        "**Generating another set of features for each game by considering all the reviews for a particular game and generating TF-IDF vectors**"
      ],
      "metadata": {
        "id": "pWw3kxkV10yf"
      }
    },
    {
      "cell_type": "code",
      "execution_count": null,
      "metadata": {
        "colab": {
          "base_uri": "https://localhost:8080/"
        },
        "id": "ipPjLR-gYY8z",
        "outputId": "d504a88a-503c-4e2f-dd21-e6004af05903"
      },
      "outputs": [
        {
          "output_type": "stream",
          "name": "stdout",
          "text": [
            "+------+-------+----------------+--------+--------------------+-----------------+-----------------+--------+--------+-----------+-------------------+-------------+--------------+-----------------+---------------------------+-----------------+---------------+-----------+----------------+-----------------------+------------------+-----------+-------------+--------------------+----------------------+\n",
            "| appid|  index|recommendationid|language|              review|timestamp_created|timestamp_updated|voted_up|votes_up|votes_funny|weighted_vote_score|comment_count|steam_purchase|received_for_free|written_during_early_access|          steamid|num_games_owned|num_reviews|playtime_forever|playtime_last_two_weeks|playtime_at_review|last_played|    game_name|       review_tokens|review_filtered_tokens|\n",
            "+------+-------+----------------+--------+--------------------+-----------------+-----------------+--------+--------+-----------+-------------------+-------------+--------------+-----------------+---------------------------+-----------------+---------------+-----------+----------------+-----------------------+------------------+-----------+-------------+--------------------+----------------------+\n",
            "|397540|3801648|        82057251| english|Great successor t...|       1607677071|       1607677071|       1|       0|          0|                0.0|            0|             1|                0|                          0|76561198030251355|             52|          2|           13750|                     15|           13735.0| 1607677929|Borderlands 3|[great, successor...|  [great, successor...|\n",
            "|397540|3801655|        82045636| english|its a fun game, b...|       1607663976|       1607663976|       1|       0|          0|                0.0|            0|             1|                0|                          0|76561198073372632|             71|          4|            3854|                   3854|            3749.0| 1607670185|Borderlands 3|[its, a, fun, gam...|  [fun, game,, stor...|\n",
            "|397540|3801661|        82040709| english|Visually an amazi...|       1607658653|       1607658653|       1|       0|          0|0.47413790225982666|            0|             0|                0|                          0|76561198255837212|             65|         13|             199|                    199|             199.0| 1607653084|Borderlands 3|[visually, an, am...|  [visually, amazin...|\n",
            "|397540|3801666|        82035492| english|The attention of ...|       1607653028|       1607653028|       1|       0|          0|                0.0|            0|             1|                0|                          0|76561199052874264|              1|          1|             461|                    461|             437.0| 1607654675|Borderlands 3|[the, attention, ...|  [attention, detai...|\n",
            "|397540|3801670|        82032095| english|           Good Game|       1607649353|       1607649353|       1|       0|          0|                0.0|            0|             0|                0|                          0|76561198380159956|             46|          4|            1207|                    617|            1121.0| 1607654561|Borderlands 3|        [good, game]|          [good, game]|\n",
            "|397540|3801671|        82031901| english|                 gut|       1607649161|       1607649161|       1|       0|          0|                0.0|            0|             0|                0|                          0|76561198110116795|             66|          3|            3927|                   3927|            3927.0| 1607648725|Borderlands 3|               [gut]|                 [gut]|\n",
            "|397540|3801675|        82020263| english|                good|       1607637593|       1607637593|       1|       0|          0|                0.0|            0|             1|                0|                          0|76561197993206985|            125|          1|             498|                    144|             370.0| 1607645191|Borderlands 3|              [good]|                [good]|\n",
            "|397540|3801678|        82017079| english|          gucci game|       1607634960|       1607634960|       1|       0|          0|                0.0|            0|             0|                0|                          0|76561198404925506|             24|          5|            1342|                   1342|            1342.0| 1607634278|Borderlands 3|       [gucci, game]|         [gucci, game]|\n",
            "|397540|3801680|        82016734| english|      also fun gayme|       1607634686|       1607634686|       1|       0|          0|                0.0|            0|             1|                0|                          0|76561198293615537|             22|          2|            2532|                   2171|            2473.0| 1607638232|Borderlands 3|  [also, fun, gayme]|    [also, fun, gayme]|\n",
            "|397540|3801683|        82011174| english|I like it more th...|       1607630250|       1607630250|       1|       1|          0|   0.52173912525177|            0|             1|                0|                          0|76561198272055929|            180|         13|             963|                    963|             963.0| 1607617908|Borderlands 3|[i, like, it, mor...|  [like, thought, w...|\n",
            "|397540|3801684|        82007820| english|[h1] Worthy of th...|       1607627625|       1607627648|       1|       0|          0|                0.0|            0|             1|                0|                          0|76561198042557351|            176|         53|            3985|                      0|            3985.0| 1602982308|Borderlands 3|[[h1], worthy, of...|  [[h1], worthy, se...|\n",
            "|397540|3801686|        81997333| english|This Game is alot...|       1607620172|       1607620172|       0|       3|          0|   0.54356849193573|            0|             0|                0|                          0|76561198150897741|             23|          9|             622|                    163|             622.0| 1607620026|Borderlands 3|[this, game, is, ...|  [game, alot, fun,...|\n",
            "|397540|3801688|        81991098| english|Story is unfun an...|       1607616122|       1607616122|       0|       0|          0|                0.0|            0|             1|                0|                          0|76561198850248863|             33|         19|            1126|                   1126|            1126.0| 1607615887|Borderlands 3|[story, is, unfun...|  [story, unfun, ba...|\n",
            "|397540|3801692|        81988286| english|really poor writi...|       1607614415|       1607614415|       0|       2|          0| 0.5251280665397644|            0|             1|                0|                          0|76561197983822109|            614|         11|            1437|                      0|            1437.0| 1590317673|Borderlands 3|[really, poor, wr...|  [really, poor, wr...|\n",
            "|397540|3801693|        81986718| english|          hmm okay..|       1607613472|       1607613472|       1|       0|          0|                0.0|            0|             0|                0|                          0|76561198030247428|             57|          9|             748|                    748|             747.0| 1607613508|Borderlands 3|       [hmm, okay..]|         [hmm, okay..]|\n",
            "|397540|3801695|        81980297| english|so, nach knapp 10...|       1607609619|       1607609619|       0|       0|          0|                0.0|            0|             1|                0|                          0|76561198066582809|              8|          1|            6118|                   6118|            5543.0| 1607652046|Borderlands 3|[so,, nach, knapp...|  [so,, nach, knapp...|\n",
            "|397540|3801700|        81977738| english|The story for me ...|       1607607948|       1607607948|       1|       0|          1|                0.0|            0|             1|                0|                          0|76561198083548163|             39|          3|            2892|                   2892|            2892.0| 1607604561|Borderlands 3|[the, story, for,...|  [story, personall...|\n",
            "|397540|3801702|        81976902| english|          great game|       1607607391|       1607607391|       1|       0|          0|                0.0|            0|             1|                0|                          0|76561198075220644|             46|          1|             766|                    738|             766.0| 1606784611|Borderlands 3|       [great, game]|         [great, game]|\n",
            "|397540|3801705|        81970584| english|       love the game|       1607603170|       1607603170|       1|       0|          0|                0.0|            0|             1|                0|                          0|76561198053999045|             16|          1|             576|                    576|             485.0| 1607620296|Borderlands 3|   [love, the, game]|          [love, game]|\n",
            "|397540|3801712|        81961571| english|Think of it this ...|       1607596149|       1607596149|       1|       1|          0|   0.52173912525177|            0|             1|                0|                          0|76561198009474643|            169|         23|           23939|                   5484|           23854.0| 1607689649|Borderlands 3|[think, of, it, t...|  [think, way;, bor...|\n",
            "+------+-------+----------------+--------+--------------------+-----------------+-----------------+--------+--------+-----------+-------------------+-------------+--------------+-----------------+---------------------------+-----------------+---------------+-----------+----------------+-----------------------+------------------+-----------+-------------+--------------------+----------------------+\n",
            "only showing top 20 rows\n",
            "\n"
          ]
        }
      ],
      "source": [
        "# For tokenizing the reviews column\n",
        "review_tokenizer = Tokenizer(inputCol='review', outputCol='review_tokens')\n",
        "# For removing the stop words from the tokens\n",
        "review_stop_words_remover = StopWordsRemover(inputCol='review_tokens', outputCol='review_filtered_tokens')\n",
        "\n",
        "# Transforming the video game reviews into tokens and removing stop words\n",
        "video_game_reviews_df = review_tokenizer.transform(video_game_reviews_df)\n",
        "video_game_reviews_df = review_stop_words_remover.transform(video_game_reviews_df)\n",
        "\n",
        "# Displaying the results\n",
        "video_game_reviews_df.show()"
      ]
    },
    {
      "cell_type": "code",
      "execution_count": null,
      "metadata": {
        "id": "_GVYuimLwe6n"
      },
      "outputs": [],
      "source": [
        "# Merging all the review tokens of all reviews that belongs to a particular game\n",
        "video_game_reviews_df_features2 = video_game_reviews_df.select('game_name', 'review_filtered_tokens').rdd \\\n",
        "                        .flatMap(lambda row: [(row[0], token) for token in row[1]])\n",
        "video_game_reviews_df_features2 = video_game_reviews_df_features2.groupByKey().mapValues(list).toDF(['game_name', 'all_review_tokens'])"
      ]
    },
    {
      "cell_type": "code",
      "execution_count": null,
      "metadata": {
        "id": "ZTEiSglA0oi8",
        "colab": {
          "base_uri": "https://localhost:8080/"
        },
        "outputId": "97b08551-1396-4e40-e91f-c7ebcc519ee2"
      },
      "outputs": [
        {
          "output_type": "stream",
          "name": "stdout",
          "text": [
            "+--------------------+----------------------+\n",
            "|           game_name|reviews_tf_idf_vectors|\n",
            "+--------------------+----------------------+\n",
            "|            RimWorld|  (262144,[2,5,6,7,...|\n",
            "|     Into the Breach|  (262144,[6,21,38,...|\n",
            "|      Slay the Spire|  (262144,[9,19,89,...|\n",
            "|          Slipstream|  (262144,[113,161,...|\n",
            "|         To the Moon|  (262144,[18,22,23...|\n",
            "|         Cave Story+|  (262144,[23,29,11...|\n",
            "|          Beat Saber|  (262144,[30,35,53...|\n",
            "|                20XX|  (262144,[16,113,1...|\n",
            "|            NBA 2K19|  (262144,[2,161,21...|\n",
            "|          Foundation|  (262144,[4,23,75,...|\n",
            "|Sid Meier’s Civil...|  (262144,[2,6,7,11...|\n",
            "|Farming Simulator 19|  (262144,[15,38,71...|\n",
            "|         Axiom Verge|  (262144,[6,35,55,...|\n",
            "|     The End Is Nigh|  (262144,[134,154,...|\n",
            "|Wolfenstein: Youn...|  (262144,[6,35,41,...|\n",
            "|     Half-Life: Alyx|  (262144,[1,6,15,1...|\n",
            "|Getting Over It w...|  (262144,[12,23,33...|\n",
            "|          The Forest|  (262144,[2,6,16,1...|\n",
            "|            Identity|  (262144,[35,83,10...|\n",
            "|  Salt and Sanctuary|  (262144,[4,66,86,...|\n",
            "+--------------------+----------------------+\n",
            "only showing top 20 rows\n",
            "\n"
          ]
        }
      ],
      "source": [
        "# For calculating Term Frequency Vectors\n",
        "reviews_tf = HashingTF(inputCol='all_review_tokens', outputCol='reviews_tf_vectors')\n",
        "video_game_reviews_df_features2 = reviews_tf.transform(video_game_reviews_df_features2)\n",
        "# For calculating Inverse Document Frequency Vectors\n",
        "reviews_idf = IDF(inputCol='reviews_tf_vectors', outputCol='reviews_tf_idf_vectors')\n",
        "video_game_reviews_df_features2 = reviews_idf.fit(video_game_reviews_df_features2).transform(video_game_reviews_df_features2)\n",
        "video_game_reviews_df_features2 = video_game_reviews_df_features2.select('game_name', 'reviews_tf_idf_vectors')\n",
        "video_game_reviews_df_features2.show()"
      ]
    },
    {
      "cell_type": "markdown",
      "source": [
        "**Combining both the set of features by doing a inner join on game name**"
      ],
      "metadata": {
        "id": "I37SugV53d6I"
      }
    },
    {
      "cell_type": "code",
      "execution_count": null,
      "metadata": {
        "id": "1GcWEwWu2ziF",
        "colab": {
          "base_uri": "https://localhost:8080/"
        },
        "outputId": "45225779-df6b-4578-9cad-d2c9f4fc6145"
      },
      "outputs": [
        {
          "output_type": "stream",
          "name": "stdout",
          "text": [
            "+--------------------+-------------------+------------------+-------------------+-------------------+--------------------+-------------------+--------------------+---------------------------+------------------+-------------+----------------------+\n",
            "|           game_name|        recommended|          votes_up|        votes_funny|weighted_vote_score|       comment_count|     steam_purchase|   received_for_free|written_during_early_access|  playtime_forever|total_reviews|reviews_tf_idf_vectors|\n",
            "+--------------------+-------------------+------------------+-------------------+-------------------+--------------------+-------------------+--------------------+---------------------------+------------------+-------------+----------------------+\n",
            "|          Beat Saber| 0.9640675744122993|1.3230342937162947| 0.6861424783243453|0.13020567219112014| 0.06200280070315526| 0.9244703989512261|0.009385335041563627|        0.24011560349194053| 5006.962518249263|        33563|  (262144,[30,35,53...|\n",
            "|     The End Is Nigh| 0.9142381348875936|3.3671940049958367| 0.9675270607826811|0.26023045413003776| 0.28975853455453787| 0.9542048293089093|0.006661115736885929|                        0.0| 2080.667776852623|         1201|  (262144,[134,154,...|\n",
            "|                20XX| 0.9366061074603789|2.3962118283726324| 0.7553150367220719|0.21377134028783304| 0.26903749516814845| 0.8778507924236567|0.011209895632006184|         0.3869346733668342|2746.3710862002317|         2587|  (262144,[16,113,1...|\n",
            "|Farming Simulator 19| 0.9120484630917658|1.0866053399147408| 0.3505347393613043|0.11797227708423746| 0.06177548425697405| 0.8721860743399895| 0.04719168349412908|                        0.0|22560.034477600777|        13371|  (262144,[15,38,71...|\n",
            "|            NBA 2K19| 0.4929787234042553|              6.24| 1.5148936170212766| 0.2688179346903207| 0.12127659574468085| 0.7053191489361702|0.036170212765957444|                        0.0|17165.632553191488|         4700|  (262144,[2,161,21...|\n",
            "|          Foundation| 0.8648726023475523|3.1362725450901805|0.43887775551102204|0.19652535556049017| 0.08187804179788148| 0.9324363011737761|0.009447466361294017|                        1.0| 3771.797595190381|         3493|  (262144,[4,23,75,...|\n",
            "|Sid Meier’s Civil...| 0.7986660724439458|3.2113230163974738| 198013.36675323878|0.18272453775997716| 0.12495581749166296| 0.6729572313319298|0.013231700757633968|                        0.0|23572.782729633785|        65071|  (262144,[2,6,7,11...|\n",
            "|         Axiom Verge| 0.9301786896095301| 1.901058901389808|0.35804103242885504| 0.1892925869675956| 0.11515552614162806| 0.8878226340172072| 0.00727994705493051|                        0.0| 1112.110191925877|         3022|  (262144,[6,35,55,...|\n",
            "|Wolfenstein: Youn...| 0.4770671834625323|14.564922480620154| 2.0891472868217056| 0.4110995605443568|  0.3685400516795866| 0.9240956072351422|0.016472868217054265|                        0.0|1449.4741602067184|         3096|  (262144,[6,35,41,...|\n",
            "|     Half-Life: Alyx| 0.9866516790782633|1.9173247154700015| 0.3451454264437263|0.13440014537514403| 0.09796262470141914| 0.8239145707461009| 0.05729942391457075|                        0.0| 1454.187719544752|        35585|  (262144,[1,6,15,1...|\n",
            "|Getting Over It w...|  0.830172804349233| 3.267167173645719| 3.6560093197851273|0.22389363154694683| 0.20594136301857485| 0.8739887385929713|0.028541841951977218|                        0.0|1684.5904472202446|        15451|  (262144,[12,23,33...|\n",
            "|          The Forest| 0.9431586829850467|2.2532001029649216| 100508.30330189783|0.18436808599958918| 0.11665457608873704| 0.8432593077949126| 0.02716869866379613|         0.4337748344370861|3970.4535955818687|        85466|  (262144,[2,6,16,1...|\n",
            "|            RimWorld| 0.9841946989299951| 1.790090216099028|  75093.23909014616|0.14106388916721652| 0.12210644100986083| 0.8086579481082593|0.009039093642912091|         0.2613993985593398|30030.889852437234|        57196|  (262144,[2,5,6,7,...|\n",
            "|     Into the Breach| 0.9367418807877919|1.6980566062345115|0.24103299856527977|0.15280535630080075| 0.08490935176731447| 0.8455719316551454|0.009260466936220164|                        0.0|2689.6388417894873|         7667|  (262144,[6,21,38,...|\n",
            "|            Identity|0.20840197693574958|  8.86161449752883|  4.053542009884679|  0.433126571249137| 0.47364085667215816|0.20098846787479407| 0.01729818780889621|                        1.0| 839.3739703459638|         1214|  (262144,[35,83,10...|\n",
            "|      Slay the Spire| 0.9800674409891345|0.5810665667540902|0.20961658548769826|0.08948488705194263|0.026326963906581742|  0.824878231547396|0.008717372299238167|        0.21556138378918446|11605.651080304733|        40035|  (262144,[9,19,89,...|\n",
            "|         To the Moon| 0.9613338587331297| 1.450201950546744|  211554.1390995961|0.17965819631236116| 0.09752733720815683| 0.6716087085016255|0.009999014875381736|                        0.0|372.07437690867897|        20302|  (262144,[18,22,23...|\n",
            "|          Slipstream| 0.8768472906403941|2.0665024630541873| 0.4876847290640394| 0.2579587409135156|  0.0960591133004926| 0.5504926108374384| 0.03940886699507389|                        0.0|472.70197044334975|          812|  (262144,[113,161,...|\n",
            "|         Cave Story+| 0.9399664147774979|1.8261964735516374|  901546.9158270361|0.18278120506451623| 0.20507976490344249| 0.5678001679261125|0.008396305625524769|                        0.0|1240.9387069689337|         4764|  (262144,[23,29,11...|\n",
            "|       Hollow Knight| 0.9688129756803819|1.3533094637162255|  84032.53994247814| 0.1351820498403744|  0.1071980591262155| 0.8430083543659878| 0.01653264463618399|                        0.0| 4523.307918060691|        51111|  (262144,[2,6,11,1...|\n",
            "+--------------------+-------------------+------------------+-------------------+-------------------+--------------------+-------------------+--------------------+---------------------------+------------------+-------------+----------------------+\n",
            "only showing top 20 rows\n",
            "\n"
          ]
        }
      ],
      "source": [
        "video_game_reviews_df = video_game_reviews_df_features1.join(video_game_reviews_df_features2, on='game_name', how='inner')\n",
        "video_game_reviews_df.show()"
      ]
    },
    {
      "cell_type": "markdown",
      "source": [
        "**Assembling all the features with the help of Vector Assembler**"
      ],
      "metadata": {
        "id": "BOnOUJzD3rYU"
      }
    },
    {
      "cell_type": "code",
      "execution_count": null,
      "metadata": {
        "id": "3YPAaVEW3VaD",
        "colab": {
          "base_uri": "https://localhost:8080/"
        },
        "outputId": "e6367c88-931f-4266-fba1-a7bbb1017d6c"
      },
      "outputs": [
        {
          "output_type": "stream",
          "name": "stdout",
          "text": [
            "+--------------------+-------------------+------------------+-------------------+-------------------+--------------------+-------------------+--------------------+---------------------------+------------------+-------------+----------------------+--------------------+\n",
            "|           game_name|        recommended|          votes_up|        votes_funny|weighted_vote_score|       comment_count|     steam_purchase|   received_for_free|written_during_early_access|  playtime_forever|total_reviews|reviews_tf_idf_vectors|video_games_features|\n",
            "+--------------------+-------------------+------------------+-------------------+-------------------+--------------------+-------------------+--------------------+---------------------------+------------------+-------------+----------------------+--------------------+\n",
            "|         Axiom Verge| 0.9301786896095301| 1.901058901389808|0.35804103242885504| 0.1892925869675956| 0.11515552614162806| 0.8878226340172072| 0.00727994705493051|                        0.0| 1112.110191925877|         3022|  (262144,[6,35,55,...|(262154,[0,1,2,3,...|\n",
            "|Wolfenstein: Youn...| 0.4770671834625323|14.564922480620154| 2.0891472868217056| 0.4110995605443568|  0.3685400516795866| 0.9240956072351422|0.016472868217054265|                        0.0|1449.4741602067184|         3096|  (262144,[6,35,41,...|(262154,[0,1,2,3,...|\n",
            "|            RimWorld| 0.9841946989299951| 1.790090216099028|  75093.23909014616|0.14106388916721652| 0.12210644100986083| 0.8086579481082593|0.009039093642912091|         0.2613993985593398|30030.889852437234|        57196|  (262144,[2,5,6,7,...|(262154,[0,1,2,3,...|\n",
            "|     Half-Life: Alyx| 0.9866516790782633|1.9173247154700015| 0.3451454264437263|0.13440014537514403| 0.09796262470141914| 0.8239145707461009| 0.05729942391457075|                        0.0| 1454.187719544752|        35585|  (262144,[1,6,15,1...|(262154,[0,1,2,3,...|\n",
            "|     Into the Breach| 0.9367418807877919|1.6980566062345115|0.24103299856527977|0.15280535630080075| 0.08490935176731447| 0.8455719316551454|0.009260466936220164|                        0.0|2689.6388417894873|         7667|  (262144,[6,21,38,...|(262154,[0,1,2,3,...|\n",
            "|          The Forest| 0.9431586829850467|2.2532001029649216| 100508.30330189783|0.18436808599958918| 0.11665457608873704| 0.8432593077949126| 0.02716869866379613|         0.4337748344370861|3970.4535955818687|        85466|  (262144,[2,6,16,1...|(262154,[0,1,2,3,...|\n",
            "|            Identity|0.20840197693574958|  8.86161449752883|  4.053542009884679|  0.433126571249137| 0.47364085667215816|0.20098846787479407| 0.01729818780889621|                        1.0| 839.3739703459638|         1214|  (262144,[35,83,10...|(262154,[0,1,2,3,...|\n",
            "|      Slay the Spire| 0.9800674409891345|0.5810665667540902|0.20961658548769826|0.08948488705194263|0.026326963906581742|  0.824878231547396|0.008717372299238167|        0.21556138378918446|11605.651080304733|        40035|  (262144,[9,19,89,...|(262154,[0,1,2,3,...|\n",
            "|         Cave Story+| 0.9399664147774979|1.8261964735516374|  901546.9158270361|0.18278120506451623| 0.20507976490344249| 0.5678001679261125|0.008396305625524769|                        0.0|1240.9387069689337|         4764|  (262144,[23,29,11...|(262154,[0,1,2,3,...|\n",
            "|          Slipstream| 0.8768472906403941|2.0665024630541873| 0.4876847290640394| 0.2579587409135156|  0.0960591133004926| 0.5504926108374384| 0.03940886699507389|                        0.0|472.70197044334975|          812|  (262144,[113,161,...|(262154,[0,1,2,3,...|\n",
            "|         To the Moon| 0.9613338587331297| 1.450201950546744|  211554.1390995961|0.17965819631236116| 0.09752733720815683| 0.6716087085016255|0.009999014875381736|                        0.0|372.07437690867897|        20302|  (262144,[18,22,23...|(262154,[0,1,2,3,...|\n",
            "|          Beat Saber| 0.9640675744122993|1.3230342937162947| 0.6861424783243453|0.13020567219112014| 0.06200280070315526| 0.9244703989512261|0.009385335041563627|        0.24011560349194053| 5006.962518249263|        33563|  (262144,[30,35,53...|(262154,[0,1,2,3,...|\n",
            "|Sid Meier’s Civil...| 0.7986660724439458|3.2113230163974738| 198013.36675323878|0.18272453775997716| 0.12495581749166296| 0.6729572313319298|0.013231700757633968|                        0.0|23572.782729633785|        65071|  (262144,[2,6,7,11...|(262154,[0,1,2,3,...|\n",
            "|          Foundation| 0.8648726023475523|3.1362725450901805|0.43887775551102204|0.19652535556049017| 0.08187804179788148| 0.9324363011737761|0.009447466361294017|                        1.0| 3771.797595190381|         3493|  (262144,[4,23,75,...|(262154,[0,1,2,3,...|\n",
            "|Farming Simulator 19| 0.9120484630917658|1.0866053399147408| 0.3505347393613043|0.11797227708423746| 0.06177548425697405| 0.8721860743399895| 0.04719168349412908|                        0.0|22560.034477600777|        13371|  (262144,[15,38,71...|(262154,[0,1,2,3,...|\n",
            "|            NBA 2K19| 0.4929787234042553|              6.24| 1.5148936170212766| 0.2688179346903207| 0.12127659574468085| 0.7053191489361702|0.036170212765957444|                        0.0|17165.632553191488|         4700|  (262144,[2,161,21...|(262154,[0,1,2,3,...|\n",
            "|                20XX| 0.9366061074603789|2.3962118283726324| 0.7553150367220719|0.21377134028783304| 0.26903749516814845| 0.8778507924236567|0.011209895632006184|         0.3869346733668342|2746.3710862002317|         2587|  (262144,[16,113,1...|(262154,[0,1,2,3,...|\n",
            "|Getting Over It w...|  0.830172804349233| 3.267167173645719| 3.6560093197851273|0.22389363154694683| 0.20594136301857485| 0.8739887385929713|0.028541841951977218|                        0.0|1684.5904472202446|        15451|  (262144,[12,23,33...|(262154,[0,1,2,3,...|\n",
            "|     The End Is Nigh| 0.9142381348875936|3.3671940049958367| 0.9675270607826811|0.26023045413003776| 0.28975853455453787| 0.9542048293089093|0.006661115736885929|                        0.0| 2080.667776852623|         1201|  (262144,[134,154,...|(262154,[0,1,2,3,...|\n",
            "|The Binding of Is...| 0.9804076077223396| 1.301282280883986| 0.8939431928077654|0.13800574757241219|  0.1008453024821806| 0.8763386940793009|0.010046921451341381|                        0.0| 19163.53343601132|        55838|  (262144,[16,30,39...|(262154,[0,1,2,3,...|\n",
            "+--------------------+-------------------+------------------+-------------------+-------------------+--------------------+-------------------+--------------------+---------------------------+------------------+-------------+----------------------+--------------------+\n",
            "only showing top 20 rows\n",
            "\n"
          ]
        }
      ],
      "source": [
        "# Using vector assembler to assemble all the features to a single column\n",
        "video_game_feature_assembler = VectorAssembler(inputCols = ['recommended', 'votes_up', 'votes_funny', 'weighted_vote_score', 'comment_count', 'steam_purchase',\n",
        "                                                            'received_for_free', 'written_during_early_access', 'playtime_forever', 'total_reviews', 'reviews_tf_idf_vectors'], outputCol='video_games_features')\n",
        "video_game_reviews_df = video_game_feature_assembler.transform(video_game_reviews_df)\n",
        "video_game_reviews_df.show()"
      ]
    },
    {
      "cell_type": "markdown",
      "source": [
        "**Scaling the features**"
      ],
      "metadata": {
        "id": "UihMMya-3wmW"
      }
    },
    {
      "cell_type": "code",
      "execution_count": null,
      "metadata": {
        "id": "D1Pczi5I5kaV",
        "colab": {
          "base_uri": "https://localhost:8080/"
        },
        "outputId": "9278ddb8-b3ae-49ed-fea8-865d7c858ad6"
      },
      "outputs": [
        {
          "output_type": "stream",
          "name": "stdout",
          "text": [
            "+--------------------+---------------------------+\n",
            "|           game_name|video_games_scaled_features|\n",
            "+--------------------+---------------------------+\n",
            "|Farming Simulator 19|       (262154,[0,1,2,3,...|\n",
            "|            NBA 2K19|       (262154,[0,1,2,3,...|\n",
            "|          Foundation|       (262154,[0,1,2,3,...|\n",
            "|Sid Meier’s Civil...|       (262154,[0,1,2,3,...|\n",
            "|                20XX|       (262154,[0,1,2,3,...|\n",
            "|         Axiom Verge|       (262154,[0,1,2,3,...|\n",
            "|     The End Is Nigh|       (262154,[0,1,2,3,...|\n",
            "|Wolfenstein: Youn...|       (262154,[0,1,2,3,...|\n",
            "|     Half-Life: Alyx|       (262154,[0,1,2,3,...|\n",
            "|Getting Over It w...|       (262154,[0,1,2,3,...|\n",
            "|          The Forest|       (262154,[0,1,2,3,...|\n",
            "|            Identity|       (262154,[0,1,2,3,...|\n",
            "|            RimWorld|       (262154,[0,1,2,3,...|\n",
            "|     Into the Breach|       (262154,[0,1,2,3,...|\n",
            "|      Slay the Spire|       (262154,[0,1,2,3,...|\n",
            "|         To the Moon|       (262154,[0,1,2,3,...|\n",
            "|          Slipstream|       (262154,[0,1,2,3,...|\n",
            "|         Cave Story+|       (262154,[0,1,2,3,...|\n",
            "|          Beat Saber|       (262154,[0,1,2,3,...|\n",
            "|             Removed|       (262154,[0,1,2,3,...|\n",
            "+--------------------+---------------------------+\n",
            "only showing top 20 rows\n",
            "\n"
          ]
        }
      ],
      "source": [
        "# Using standard scaler to scale the video_game_features\n",
        "video_game_scaler = StandardScaler().setInputCol('video_games_features').setOutputCol('video_games_scaled_features')\n",
        "video_game_reviews_df = video_game_scaler.fit(video_game_reviews_df).transform(video_game_reviews_df)\n",
        "video_game_reviews_df = video_game_reviews_df.select('game_name', 'video_games_scaled_features')\n",
        "video_game_reviews_df.show()"
      ]
    },
    {
      "cell_type": "markdown",
      "metadata": {
        "id": "v8zpZGnO6gLu"
      },
      "source": [
        "### Clustering with K-Means"
      ]
    },
    {
      "cell_type": "markdown",
      "source": [
        "We will cluster the video games based on two distance measures.\n",
        "\n",
        "\n",
        "1.   **Euclidean Distance Measure**\n",
        "2.   **Cosine Distance Measure**\n",
        "\n"
      ],
      "metadata": {
        "id": "u0MCvkaj4Njk"
      }
    },
    {
      "cell_type": "markdown",
      "metadata": {
        "id": "avQMArcTm48h"
      },
      "source": [
        "#### Euclidean Distance Metric"
      ]
    },
    {
      "cell_type": "markdown",
      "source": [
        "**Setting the parameters - Number of Clusters(k) = 3, featuresCol(The input features column name) = video_games_scaled_features and the predictionCol (Cluster number the game belongs to) = video_game_cluster, Distance Metric to Euclidean**"
      ],
      "metadata": {
        "id": "3mU4dik44nGk"
      }
    },
    {
      "cell_type": "markdown",
      "source": [
        "**Since we have set k=3, the number of cluster that will be formed will be 3**"
      ],
      "metadata": {
        "id": "HEymgHdq5qqU"
      }
    },
    {
      "cell_type": "markdown",
      "source": [
        "**Since we have set the distance measure to Euclidean, the distance between each feature point and the centroid is calculated based on the Euclidean distance while clustering the feature points**"
      ],
      "metadata": {
        "id": "fjAevVWy5Mwf"
      }
    },
    {
      "cell_type": "code",
      "execution_count": null,
      "metadata": {
        "id": "yu_EJavg6UDO"
      },
      "outputs": [],
      "source": [
        "# Clustering the video games based on the input feature - video_games_scaled_features\n",
        "video_game_k_means_euclidean = KMeans(k=3, featuresCol='video_games_scaled_features', predictionCol='video_game_cluster').setDistanceMeasure('euclidean')\n",
        "video_game_k_means_euclidean = video_game_k_means_euclidean.fit(video_game_reviews_df)"
      ]
    },
    {
      "cell_type": "code",
      "execution_count": null,
      "metadata": {
        "id": "zfNzgwaK7j6N",
        "colab": {
          "base_uri": "https://localhost:8080/"
        },
        "outputId": "97290826-688f-4da7-8684-797b072c4896"
      },
      "outputs": [
        {
          "output_type": "stream",
          "name": "stdout",
          "text": [
            "+--------------------+------------------+\n",
            "|           game_name|video_game_cluster|\n",
            "+--------------------+------------------+\n",
            "|         Cave Story+|                 0|\n",
            "|          Beat Saber|                 0|\n",
            "|Farming Simulator 19|                 0|\n",
            "|Sid Meier’s Civil...|                 0|\n",
            "|          Foundation|                 0|\n",
            "|            NBA 2K19|                 0|\n",
            "|     The End Is Nigh|                 0|\n",
            "|                20XX|                 0|\n",
            "|Getting Over It w...|                 0|\n",
            "|         Axiom Verge|                 0|\n",
            "|Wolfenstein: Youn...|                 0|\n",
            "|            RimWorld|                 0|\n",
            "|            Identity|                 0|\n",
            "|     Half-Life: Alyx|                 0|\n",
            "|     Into the Breach|                 0|\n",
            "|          The Forest|                 0|\n",
            "|          Slipstream|                 0|\n",
            "|         To the Moon|                 0|\n",
            "|      Slay the Spire|                 0|\n",
            "|             Removed|                 0|\n",
            "+--------------------+------------------+\n",
            "only showing top 20 rows\n",
            "\n"
          ]
        }
      ],
      "source": [
        "# Checking the assigned cluster of each game\n",
        "video_games_cluster_predictions_euclidean = video_game_k_means_euclidean.transform(video_game_reviews_df)\n",
        "video_games_cluster_predictions_euclidean.select('game_name', 'video_game_cluster').show()"
      ]
    },
    {
      "cell_type": "markdown",
      "metadata": {
        "id": "9YOkNtG1RCEC"
      },
      "source": [
        "#### Analysing the results - Euclidean Distance Metric"
      ]
    },
    {
      "cell_type": "markdown",
      "source": [
        "**Displaying the clustered video games**"
      ],
      "metadata": {
        "id": "x7Z3WyzL6GS_"
      }
    },
    {
      "cell_type": "code",
      "execution_count": null,
      "metadata": {
        "id": "LwmerT8O9LBR",
        "colab": {
          "base_uri": "https://localhost:8080/"
        },
        "outputId": "3b77611e-d7c8-4119-c659-4572682fa276"
      },
      "outputs": [
        {
          "output_type": "stream",
          "name": "stdout",
          "text": [
            "+------------------+-------------------------------------------------------------------------------------------------------------------------------------------------------------------------------------------------------------------------------------------------------------------------------------------------------------------------------------------------------------------------------------------------------------------------------------------------------------------------------------------------------------------------------------------------------------------------------------------------------------------------------------------------------------------------------------------------------------------------------------------------------------------------------------------------------------------------------------------------------------------------------------------------------------------------------------------------------------------------------------------------------------------------------------------------------------------------------------------------------------------------------------------------------------------------------------------------------------------------------------------------------------------------------------------------------------------------------------------------------------------------------------------------------------------------------------------------------------------------------------------------------------------------------------+\n",
            "|video_game_cluster|games                                                                                                                                                                                                                                                                                                                                                                                                                                                                                                                                                                                                                                                                                                                                                                                                                                                                                                                                                                                                                                                                                                                                                                                                                                                                                                                                                                                                                                                                                                                                |\n",
            "+------------------+-------------------------------------------------------------------------------------------------------------------------------------------------------------------------------------------------------------------------------------------------------------------------------------------------------------------------------------------------------------------------------------------------------------------------------------------------------------------------------------------------------------------------------------------------------------------------------------------------------------------------------------------------------------------------------------------------------------------------------------------------------------------------------------------------------------------------------------------------------------------------------------------------------------------------------------------------------------------------------------------------------------------------------------------------------------------------------------------------------------------------------------------------------------------------------------------------------------------------------------------------------------------------------------------------------------------------------------------------------------------------------------------------------------------------------------------------------------------------------------------------------------------------------------+\n",
            "|0                 |[To the Moon, Slay the Spire, Cave Story+, Slipstream, Sid Meier’s Civilization® VI, Beat Saber, Farming Simulator 19, 20XX, Foundation, Axiom Verge, NBA 2K19, The End Is Nigh, Wolfenstein: Youngblood, Getting Over It with Bennett Foddy, Half-Life: Alyx, The Forest, Identity, Into the Breach, RimWorld, Overcooked! 2, Portal 2, Enter the Gungeon, Hollow Knight, Removed, Salt and Sanctuary, Sekiro™: Shadows Die Twice - GOTY Edition, The Binding of Isaac: Rebirth, Volgarr the Viking, The Henry Stickmin Collection, Umbrella Corps, NBA 2K18, Borderlands 3, NBA 2K21, Kenshi, WWE 2K20, Warhammer 40,000: Dawn of War III, Nether: Resurrected, Takedown: Red Sabre, Rapture Rejects, Total War: THREE KINGDOMS, Titan Souls, Cold Waters, Insurgency: Sandstorm, Subnautica, PC Building Simulator, GOD EATER 3, Down To One, Human: Fall Flat, Cube World, Stay Out, Shadow Complex Remastered, Super Meat Boy, Warhammer: Vermintide 2, Call of Duty®: Infinite Warfare, X Rebirth, Pogostuck: Rage With Your Friends, Euro Truck Simulator 2, Hunt Down The Freeman, Crusader Kings III, Age of Empires: Definitive Edition, Banished, Celeste, RollerCoaster Tycoon World™, Artifact, A Way Out, A Hat in Time, Don't Escape: 4 Days to Survive, Wallpaper Engine, Pathfinder: Kingmaker - Enhanced Plus Edition, DOOM Eternal, Guacamelee! Super Turbo Championship Edition, Shovel Knight: Treasure Trove, ATLAS, Factorio, Deus Ex: The Fall, MORDHAU, A Short Hike, Momodora: Reverie Under The Moonlight]|\n",
            "|2                 |[Rocket League®]                                                                                                                                                                                                                                                                                                                                                                                                                                                                                                                                                                                                                                                                                                                                                                                                                                                                                                                                                                                                                                                                                                                                                                                                                                                                                                                                                                                                                                                                                                                     |\n",
            "|1                 |[Dead by Daylight]                                                                                                                                                                                                                                                                                                                                                                                                                                                                                                                                                                                                                                                                                                                                                                                                                                                                                                                                                                                                                                                                                                                                                                                                                                                                                                                                                                                                                                                                                                                   |\n",
            "+------------------+-------------------------------------------------------------------------------------------------------------------------------------------------------------------------------------------------------------------------------------------------------------------------------------------------------------------------------------------------------------------------------------------------------------------------------------------------------------------------------------------------------------------------------------------------------------------------------------------------------------------------------------------------------------------------------------------------------------------------------------------------------------------------------------------------------------------------------------------------------------------------------------------------------------------------------------------------------------------------------------------------------------------------------------------------------------------------------------------------------------------------------------------------------------------------------------------------------------------------------------------------------------------------------------------------------------------------------------------------------------------------------------------------------------------------------------------------------------------------------------------------------------------------------------+\n",
            "\n"
          ]
        }
      ],
      "source": [
        "clustered_games_euclidean = video_games_cluster_predictions_euclidean.groupby('video_game_cluster').agg(collect_list('game_name').alias('games'))\n",
        "clustered_games_euclidean.show(truncate=False)"
      ]
    },
    {
      "cell_type": "markdown",
      "metadata": {
        "id": "LiZWSGxDnpaE"
      },
      "source": [
        "#### Cosine Distance Metric"
      ]
    },
    {
      "cell_type": "markdown",
      "source": [
        "**Setting the parameters - Number of Clusters(k) = 3, featuresCol(The input features column name) = video_games_scaled_features and the predictionCol (Cluster number the game belongs to) = video_game_cluster, Distance Metric to Cosine**"
      ],
      "metadata": {
        "id": "zymCLimt6T65"
      }
    },
    {
      "cell_type": "markdown",
      "source": [
        "**Since we have set the distance measure to Euclidean, the distance between each feature point and the centroid is calculated based on the Euclidean distance while clustering the feature points**"
      ],
      "metadata": {
        "id": "STBWKS-K6aa5"
      }
    },
    {
      "cell_type": "code",
      "execution_count": null,
      "metadata": {
        "id": "ZTdDVn0bnszC"
      },
      "outputs": [],
      "source": [
        "video_game_k_means_cosine = KMeans(k=3, featuresCol='video_games_scaled_features', predictionCol='video_game_cluster').setDistanceMeasure('cosine')\n",
        "video_game_k_means_cosine = video_game_k_means_cosine.fit(video_game_reviews_df)"
      ]
    },
    {
      "cell_type": "code",
      "execution_count": null,
      "metadata": {
        "id": "lFXxRxOBnywk",
        "colab": {
          "base_uri": "https://localhost:8080/"
        },
        "outputId": "d9008428-0545-4903-97a3-10d2c3bf5d3a"
      },
      "outputs": [
        {
          "output_type": "stream",
          "name": "stdout",
          "text": [
            "+--------------------+------------------+\n",
            "|           game_name|video_game_cluster|\n",
            "+--------------------+------------------+\n",
            "|Farming Simulator 19|                 2|\n",
            "|            NBA 2K19|                 2|\n",
            "|     The End Is Nigh|                 1|\n",
            "|                20XX|                 1|\n",
            "|Getting Over It w...|                 0|\n",
            "|         Axiom Verge|                 1|\n",
            "|Wolfenstein: Youn...|                 1|\n",
            "|     Half-Life: Alyx|                 1|\n",
            "|            RimWorld|                 1|\n",
            "|          The Forest|                 0|\n",
            "|     Into the Breach|                 1|\n",
            "|            Identity|                 0|\n",
            "|      Slay the Spire|                 1|\n",
            "|         Cave Story+|                 1|\n",
            "|          Slipstream|                 2|\n",
            "|         To the Moon|                 1|\n",
            "|          Beat Saber|                 2|\n",
            "|          Foundation|                 1|\n",
            "|Sid Meier’s Civil...|                 1|\n",
            "|       Overcooked! 2|                 2|\n",
            "+--------------------+------------------+\n",
            "only showing top 20 rows\n",
            "\n"
          ]
        }
      ],
      "source": [
        "video_games_cluster_predictions_cosine = video_game_k_means_cosine.transform(video_game_reviews_df)\n",
        "video_games_cluster_predictions_cosine.select('game_name', 'video_game_cluster').show()"
      ]
    },
    {
      "cell_type": "markdown",
      "metadata": {
        "id": "ZI6Dv5G1oStj"
      },
      "source": [
        "#### Analysing the results - Cosine Distance Metric"
      ]
    },
    {
      "cell_type": "markdown",
      "source": [
        "**Displaying the clustered video games**"
      ],
      "metadata": {
        "id": "RCK0cPwh6gsW"
      }
    },
    {
      "cell_type": "code",
      "execution_count": null,
      "metadata": {
        "id": "12HOJTBHoZ1D",
        "colab": {
          "base_uri": "https://localhost:8080/"
        },
        "outputId": "fe014166-b8eb-4d04-b60c-1f2aebfa93f8"
      },
      "outputs": [
        {
          "output_type": "stream",
          "name": "stdout",
          "text": [
            "+------------------+------------------------------------------------------------------------------------------------------------------------------------------------------------------------------------------------------------------------------------------------------------------------------------------------------------------------------------------------------------------------------------------------------------------------------------------------------------------------------------------------------------------------------------------------------------------------------------------------------------------------------------------------------------------------------------------------------------------------------------------------------------+\n",
            "|video_game_cluster|games                                                                                                                                                                                                                                                                                                                                                                                                                                                                                                                                                                                                                                                                                                                                                       |\n",
            "+------------------+------------------------------------------------------------------------------------------------------------------------------------------------------------------------------------------------------------------------------------------------------------------------------------------------------------------------------------------------------------------------------------------------------------------------------------------------------------------------------------------------------------------------------------------------------------------------------------------------------------------------------------------------------------------------------------------------------------------------------------------------------------+\n",
            "|1                 |[To the Moon, Slay the Spire, Cave Story+, Sid Meier’s Civilization® VI, 20XX, Foundation, Axiom Verge, The End Is Nigh, Wolfenstein: Youngblood, Half-Life: Alyx, Into the Breach, RimWorld, Volgarr the Viking, Hollow Knight, Salt and Sanctuary, Kenshi, Warhammer 40,000: Dawn of War III, Total War: THREE KINGDOMS, Titan Souls, Cold Waters, Cube World, Shadow Complex Remastered, Super Meat Boy, X Rebirth, Crusader Kings III, Age of Empires: Definitive Edition, Banished, Celeste, RollerCoaster Tycoon World™, A Hat in Time, Don't Escape: 4 Days to Survive, Pathfinder: Kingmaker - Enhanced Plus Edition, DOOM Eternal, Shovel Knight: Treasure Trove, Factorio, Deus Ex: The Fall, A Short Hike, Momodora: Reverie Under The Moonlight]|\n",
            "|2                 |[Slipstream, Beat Saber, Farming Simulator 19, NBA 2K19, The Henry Stickmin Collection, Portal 2, Overcooked! 2, Rocket League®, The Binding of Isaac: Rebirth, NBA 2K18, NBA 2K21, PC Building Simulator, Down To One, Human: Fall Flat, Pogostuck: Rage With Your Friends, Euro Truck Simulator 2, A Way Out, Wallpaper Engine, Guacamelee! Super Turbo Championship Edition]                                                                                                                                                                                                                                                                                                                                                                             |\n",
            "|0                 |[Getting Over It with Bennett Foddy, The Forest, Identity, Removed, Enter the Gungeon, Sekiro™: Shadows Die Twice - GOTY Edition, Umbrella Corps, Borderlands 3, WWE 2K20, Dead by Daylight, Nether: Resurrected, Takedown: Red Sabre, Rapture Rejects, Insurgency: Sandstorm, Subnautica, GOD EATER 3, Stay Out, Warhammer: Vermintide 2, Call of Duty®: Infinite Warfare, Hunt Down The Freeman, Artifact, ATLAS, MORDHAU]                                                                                                                                                                                                                                                                                                                                |\n",
            "+------------------+------------------------------------------------------------------------------------------------------------------------------------------------------------------------------------------------------------------------------------------------------------------------------------------------------------------------------------------------------------------------------------------------------------------------------------------------------------------------------------------------------------------------------------------------------------------------------------------------------------------------------------------------------------------------------------------------------------------------------------------------------------+\n",
            "\n"
          ]
        }
      ],
      "source": [
        "clustered_games_cosine = video_games_cluster_predictions_cosine.groupby('video_game_cluster').agg(collect_list('game_name').alias('games'))\n",
        "clustered_games_cosine.show(truncate=False)"
      ]
    },
    {
      "cell_type": "markdown",
      "metadata": {
        "id": "IRGHM3rOsKvU"
      },
      "source": [
        "\n",
        "# **Task 2 - One multi classifier incorporating Ensemble techniques [25 marks]**\n"
      ]
    },
    {
      "cell_type": "markdown",
      "metadata": {
        "id": "n9uYQzv0Ietb"
      },
      "source": [
        "### We will be classifying the users playtime for a particular game based on certain features"
      ]
    },
    {
      "cell_type": "markdown",
      "source": [
        "**We want to classify the users playtime into very_low_playtime/low_playtime/good_playtime/high_playtime. In the current dataset the column playtime_forever denotes the total playtime of user for a particular game. We will form a new column playtime_category based on playtime_forever column based on the below threshold.**\n",
        "\n",
        "<100 - very_low_playtime\n",
        "\n",
        "<1000 - low_playtime\n",
        "\n",
        "<10000 - good_playtime\n",
        "\n",
        ".>10000 - high_playtime\n",
        "\n",
        "Then we will classify the column playtime_category with multi classifier incorporating ensemble techniques"
      ],
      "metadata": {
        "id": "a4J9ZTCY61Xg"
      }
    },
    {
      "cell_type": "code",
      "execution_count": null,
      "metadata": {
        "colab": {
          "base_uri": "https://localhost:8080/"
        },
        "id": "8W2kjNShCYL9",
        "outputId": "f6b218d1-13da-4b00-87d9-3aee443fd949"
      },
      "outputs": [
        {
          "name": "stdout",
          "output_type": "stream",
          "text": [
            "+------+-------+----------------+--------+--------------------+-----------------+-----------------+--------+--------+-----------+-------------------+-------------+--------------+-----------------+---------------------------+-----------------+---------------+-----------+----------------+-----------------------+------------------+-----------+----------------+-----------------+\n",
            "| appid|  index|recommendationid|language|              review|timestamp_created|timestamp_updated|voted_up|votes_up|votes_funny|weighted_vote_score|comment_count|steam_purchase|received_for_free|written_during_early_access|          steamid|num_games_owned|num_reviews|playtime_forever|playtime_last_two_weeks|playtime_at_review|last_played|       game_name|playtime_category|\n",
            "+------+-------+----------------+--------+--------------------+-----------------+-----------------+--------+--------+-----------+-------------------+-------------+--------------+-----------------+---------------------------+-----------------+---------------+-----------+----------------+-----------------------+------------------+-----------+----------------+-----------------+\n",
            "|477160|1398661|        81964911| english|If you want to pl...|       1607598774|       1607598774|    true|       0|          0|                0.0|            0|          true|            false|                      false|76561197994103060|            361|         12|             679|                      0|             679.0| 1605311259|Human: Fall Flat|     low_playtime|\n",
            "|477160|1398671|        81957146| english|Fun to play solo ...|       1607592662|       1607592662|    true|       0|          0|                0.0|            0|         false|            false|                      false|76561197970617808|            317|          6|            1561|                    354|            1561.0| 1607301896|Human: Fall Flat|    good_playtime|\n",
            "|477160|1398672|        81956582| english|Интересная игра р...|       1607592245|       1607592245|    true|       0|          0|                0.0|            0|          true|            false|                      false|76561198874966510|              6|          5|            1613|                     88|            1524.0| 1607596960|Human: Fall Flat|    good_playtime|\n",
            "|477160|1398686|        81947628| english|fun to play with ...|       1607584670|       1607584670|    true|       0|          0|                0.0|            0|         false|            false|                      false|76561198976488002|              3|          1|             222|                    222|             195.0| 1607605538|Human: Fall Flat|     low_playtime|\n",
            "|477160|1398688|        81943551| english|                Good|       1607581216|       1607581216|    true|       0|          0|                0.0|            0|          true|            false|                      false|76561198136161565|             10|          6|             505|                    505|             505.0| 1607172242|Human: Fall Flat|     low_playtime|\n",
            "|477160|1398693|        81939361| english|             gud gud|       1607577707|       1607577707|    true|       0|          0|                0.0|            0|         false|             true|                      false|76561198276655616|              9|          4|             637|                    637|             637.0| 1607144620|Human: Fall Flat|     low_playtime|\n",
            "|477160|1398702|        81927236| english|i dont know why t...|       1607567775|       1607567775|    true|       0|          0|                0.0|            0|          true|            false|                      false|76561198073794282|             79|          4|             749|                    139|             655.0| 1607573512|Human: Fall Flat|     low_playtime|\n",
            "|477160|1398706|        81922296| english|                 tah|       1607563292|       1607563292|    true|       0|          0|                0.0|            0|         false|            false|                      false|76561198071350907|             35|         11|             653|                     37|             653.0| 1607252453|Human: Fall Flat|     low_playtime|\n",
            "|477160|1398708|        81920867| english|             it good|       1607561897|       1607561897|    true|       0|          0|                0.0|            0|         false|            false|                      false|76561198975400018|              5|          2|            1127|                   1127|            1098.0| 1607565747|Human: Fall Flat|    good_playtime|\n",
            "|477160|1398710|        81917033| english|              yes \\n|       1607555243|       1607555243|    true|       0|          0|                0.0|            0|          true|            false|                      false|76561198170533331|             38|          1|             996|                      9|             986.0| 1607555902|Human: Fall Flat|     low_playtime|\n",
            "|477160|1398711|        81916963| english|goooooooooooooooo...|       1607555103|       1607555103|    true|       0|          0|                0.0|            0|         false|            false|                      false|76561198255233724|             18|          3|             453|                    235|             453.0| 1607199229|Human: Fall Flat|     low_playtime|\n",
            "|477160|1398717|        81912985| english|              yessss|       1607548587|       1607548587|    true|       0|          0|                0.0|            0|          true|            false|                      false|76561198846858672|              5|          2|            4427|                     54|            4426.0| 1607548625|Human: Fall Flat|    good_playtime|\n",
            "|477160|1398719|        81912878| english|it's just a fun, ...|       1607548432|       1607548432|    true|       0|          0|                0.0|            0|         false|            false|                      false|76561198203206571|             21|          1|            1252|                    265|            1252.0| 1607168749|Human: Fall Flat|    good_playtime|\n",
            "|477160|1398720|        81912739| english|          good funny|       1607548194|       1607548194|    true|       0|          0|                0.0|            0|          true|            false|                      false|76561198370141585|             19|          6|            1056|                   1056|            1056.0| 1607006873|Human: Fall Flat|    good_playtime|\n",
            "|477160|1398721|        81911734| english|very good game, v...|       1607546670|       1607546670|    true|       0|          0|                0.0|            0|          true|            false|                      false|76561199026766979|              7|          1|            1649|                   1649|            1235.0| 1607571539|Human: Fall Flat|    good_playtime|\n",
            "|477160|1398723|        81911111| english|yeaaaaaaaaaaaaaaa...|       1607545770|       1607545770|    true|       0|          0|                0.0|            0|          true|             true|                      false|76561199088363457|             13|         11|             406|                    390|             243.0| 1607555531|Human: Fall Flat|     low_playtime|\n",
            "|477160|1398725|        81910823| english|Removing Linux su...|       1607545388|       1607545388|   false|       1|          0|  0.497925341129303|            0|          true|            false|                      false|76561198104281976|             67|          5|             123|                     12|             123.0| 1607545280|Human: Fall Flat|     low_playtime|\n",
            "|477160|1398726|        81910492| english|Endless amounts o...|       1607544975|       1607544975|    true|       0|          0|                0.0|            0|         false|            false|                      false|76561198131078852|            103|          5|             343|                      2|             343.0| 1607544648|Human: Fall Flat|     low_playtime|\n",
            "|477160|1398728|        81909081| english|Super funny game ...|       1607543069|       1607543069|    true|       0|          0|                0.0|            0|          true|            false|                      false|76561198117652147|             46|          1|            1601|                   1070|            1360.0| 1607570068|Human: Fall Flat|    good_playtime|\n",
            "|477160|1398732|        81907936| english|    best game period|       1607541444|       1607541444|    true|       0|          0|                0.0|            0|          true|            false|                      false|76561198414103624|             25|          6|             979|                    373|             979.0| 1607541432|Human: Fall Flat|     low_playtime|\n",
            "+------+-------+----------------+--------+--------------------+-----------------+-----------------+--------+--------+-----------+-------------------+-------------+--------------+-----------------+---------------------------+-----------------+---------------+-----------+----------------+-----------------------+------------------+-----------+----------------+-----------------+\n",
            "only showing top 20 rows\n",
            "\n"
          ]
        }
      ],
      "source": [
        "# Function to map continious value (playtime) to discrete value (playtime_category)\n",
        "def categorize_playtime(playtime):\n",
        "    if playtime < 100:\n",
        "        return \"very_low_playtime\"\n",
        "    elif playtime < 1000:\n",
        "        return \"low_playtime\"\n",
        "    elif playtime < 10000:\n",
        "        return \"good_playtime\"\n",
        "    else:\n",
        "        return \"high_playtime\"\n",
        "\n",
        "# Registering the function categorize_playtime as an user defined function\n",
        "categorize_playtime_udf = udf(categorize_playtime, StringType())\n",
        "\n",
        "# Create a new column called \"playtime_category\" by applying the categorize_playtime_udf to the \"playtime_forever\" column\n",
        "video_game_reviews_df2 = video_game_reviews_df2.withColumn(\"playtime_category\", categorize_playtime_udf(\"playtime_forever\"))\n",
        "\n",
        "video_game_reviews_df2.show()"
      ]
    },
    {
      "cell_type": "markdown",
      "metadata": {
        "id": "zir3a-m5CSIP"
      },
      "source": [
        "### Data Visualisation"
      ]
    },
    {
      "cell_type": "markdown",
      "source": [
        "**Records per playtime category**"
      ],
      "metadata": {
        "id": "lw_opoLg8GEZ"
      }
    },
    {
      "cell_type": "code",
      "execution_count": null,
      "metadata": {
        "colab": {
          "base_uri": "https://localhost:8080/"
        },
        "id": "i5mdENtdo92M",
        "outputId": "71e70a54-1d8b-4a41-8a1c-29bbffb7fa1c"
      },
      "outputs": [
        {
          "name": "stdout",
          "output_type": "stream",
          "text": [
            "+-----------------+-------------------------------+\n",
            "|playtime_category|user_game_per_playtime_category|\n",
            "+-----------------+-------------------------------+\n",
            "|    high_playtime|                         533596|\n",
            "|    good_playtime|                         943824|\n",
            "|very_low_playtime|                          56126|\n",
            "|     low_playtime|                         382587|\n",
            "+-----------------+-------------------------------+\n",
            "\n"
          ]
        }
      ],
      "source": [
        "user_game_per_playtime_category = video_game_reviews_df2.groupBy(\"playtime_category\").agg(count(\"*\").alias(\"user_game_per_playtime_category\"))\n",
        "user_game_per_playtime_category.show()"
      ]
    },
    {
      "cell_type": "markdown",
      "source": [
        "**Plotting the results**"
      ],
      "metadata": {
        "id": "YQlXndwJ8Ld2"
      }
    },
    {
      "cell_type": "code",
      "execution_count": null,
      "metadata": {
        "colab": {
          "base_uri": "https://localhost:8080/"
        },
        "id": "NInInN9bI_Kf",
        "outputId": "1b02d873-16ee-4005-da8d-2051ef9a6a7a"
      },
      "outputs": [
        {
          "data": {
            "image/png": "[encoded data removed]",
            "text/plain": [
              "<Figure size 1400x700 with 1 Axes>"
            ]
          },
          "metadata": {},
          "output_type": "display_data"
        }
      ],
      "source": [
        "user_game_per_playtime_category_results = user_game_per_playtime_category.collect()\n",
        "playtime_categories = [row[\"playtime_category\"] for row in user_game_per_playtime_category_results]\n",
        "user_game_count = [row[\"user_game_per_playtime_category\"] for row in user_game_per_playtime_category_results]\n",
        "\n",
        "plt.figure(figsize=(14, 7))\n",
        "\n",
        "plt.bar(playtime_categories, user_game_count)\n",
        "plt.xlabel(\"Playtime Category\")\n",
        "plt.ylabel(\"User-Game\")\n",
        "plt.title(\"User-Game Per Playtime Category\")\n",
        "\n",
        "plt.show()"
      ]
    },
    {
      "cell_type": "markdown",
      "metadata": {
        "id": "ghNBn3JeKBUh"
      },
      "source": [
        "### Feature Selection"
      ]
    },
    {
      "cell_type": "markdown",
      "metadata": {
        "id": "YCxeF08EKNeh"
      },
      "source": [
        "Based on the domain knowledge, the playtime of an user for a particular game mainly depends on the below features"
      ]
    },
    {
      "cell_type": "code",
      "execution_count": null,
      "metadata": {
        "id": "f4h2ImbFKJJ-"
      },
      "outputs": [],
      "source": [
        "input_features = ['user_review_vectors', 'voted_up', 'votes_up', 'votes_funny', 'weighted_vote_score', 'num_games_owned', 'num_reviews', 'playtime_last_two_weeks', 'steam_purchase', 'received_for_free', 'written_during_early_access']\n",
        "target_feature = 'playtime_category'"
      ]
    },
    {
      "cell_type": "markdown",
      "metadata": {
        "id": "zqk-ZJfdL12z"
      },
      "source": [
        "### Data Preprocessing"
      ]
    },
    {
      "cell_type": "markdown",
      "source": [
        "**Converting the reviews column (string) into numerical representation by training a Word2Vec model on reviews to learn the word embeddings and transforming the reviews**"
      ],
      "metadata": {
        "id": "vmbDc7NK8WhI"
      }
    },
    {
      "cell_type": "code",
      "execution_count": null,
      "metadata": {
        "id": "Y3JUjoXRL4LF"
      },
      "outputs": [],
      "source": [
        "# For tokenizing the user reviews\n",
        "video_game_review_tokenizer = Tokenizer().setInputCol('review').setOutputCol('user_review_tokens')\n",
        "# For removing stop words from the tokens\n",
        "video_game_reviews_stop_words_remover = StopWordsRemover().setInputCol('user_review_tokens').setOutputCol('user_review_filtered_tokens')\n",
        "# For training Word2Vec model on the users review tokens\n",
        "video_game_review_word2Vec = Word2Vec().setInputCol('user_review_filtered_tokens').setOutputCol('user_review_vectors')\n",
        "# Assembling all the input features\n",
        "video_game_vector_assembler = VectorAssembler().setInputCols(input_features).setOutputCol('user_game_features')"
      ]
    },
    {
      "cell_type": "markdown",
      "metadata": {
        "id": "IA8vukSfO3c0"
      },
      "source": [
        "**Scaling is not required, since we will be using Random Forset Classifier for incorporating Ensemble techniques**"
      ]
    },
    {
      "cell_type": "markdown",
      "source": [
        "Creating two pipelines\n",
        "\n",
        "1) **For transforming input features**\n",
        "\n",
        "2) **For transforming target feature to numerical value to train the ML model**"
      ],
      "metadata": {
        "id": "-4feAuDn9Aky"
      }
    },
    {
      "cell_type": "code",
      "execution_count": null,
      "metadata": {
        "id": "pesU3ajXPAjZ"
      },
      "outputs": [],
      "source": [
        "# Defining the stages for input feature pipeline\n",
        "input_feature_pipeline_stages = [video_game_review_tokenizer, video_game_reviews_stop_words_remover, video_game_review_word2Vec, video_game_vector_assembler]"
      ]
    },
    {
      "cell_type": "markdown",
      "source": [
        "**Since we are encoding only the target feature to numerical value, we don't have to worry about the order present in the target feature category**"
      ],
      "metadata": {
        "id": "Tdyvr9eu9c_O"
      }
    },
    {
      "cell_type": "code",
      "execution_count": null,
      "metadata": {
        "id": "fUcCaWPcPZe4"
      },
      "outputs": [],
      "source": [
        "# To encode target feature playtime_category to numerical value\n",
        "playtime_category_indexer = StringIndexer(inputCol=\"playtime_category\", outputCol=\"playtime_index\")"
      ]
    },
    {
      "cell_type": "code",
      "execution_count": null,
      "metadata": {
        "id": "V6xthPVoP0eK"
      },
      "outputs": [],
      "source": [
        "# Defining the target feature pipeline stages\n",
        "target_feature_pipeline_stages = [playtime_category_indexer]"
      ]
    },
    {
      "cell_type": "code",
      "execution_count": null,
      "metadata": {
        "id": "-H0WK5VWP7IQ"
      },
      "outputs": [],
      "source": [
        "# Fitting the pipeline on the input dataset\n",
        "video_game_reviews_input_feature_pipeline = Pipeline(stages=input_feature_pipeline_stages)\n",
        "video_game_reviews_target_feature_pipeline = Pipeline(stages=target_feature_pipeline_stages)\n",
        "video_game_reviews_input_feature_pipeline = video_game_reviews_input_feature_pipeline.fit(video_game_reviews_df2)\n",
        "video_game_reviews_target_feature_pipeline = video_game_reviews_target_feature_pipeline.fit(video_game_reviews_df2)"
      ]
    },
    {
      "cell_type": "markdown",
      "metadata": {
        "id": "aZLE27iNRTOf"
      },
      "source": [
        "**Train-Test Split(Splitting them in a stratified way to preserve the class ratios in the training and test set)**"
      ]
    },
    {
      "cell_type": "code",
      "execution_count": null,
      "metadata": {
        "id": "dKLm5Hd_Qvg7"
      },
      "outputs": [],
      "source": [
        "# Train, test split with fractions of 0.85 per each class\n",
        "video_game_reviews_train_df = video_game_reviews_df2.sampleBy('playtime_category', fractions = {'low_playtime':0.85, 'very_low_playtime':0.85,\n",
        "                                                                                                'good_playtime': 0.85, 'high_playtime':0.85})\n",
        "video_game_reviews_test_df = video_game_reviews_df2.subtract(video_game_reviews_train_df)"
      ]
    },
    {
      "cell_type": "code",
      "execution_count": null,
      "metadata": {
        "colab": {
          "base_uri": "https://localhost:8080/"
        },
        "id": "dPC2_SnhS8rW",
        "outputId": "b22c134b-bc3c-4ebd-9a16-eaafe97949c4"
      },
      "outputs": [
        {
          "name": "stdout",
          "output_type": "stream",
          "text": [
            "+------+-------+----------------+--------+--------------------+-----------------+-----------------+--------+--------+-----------+-------------------+-------------+--------------+-----------------+---------------------------+-----------------+---------------+-----------+----------------+-----------------------+------------------+-----------+----------------+-----------------+\n",
            "| appid|  index|recommendationid|language|              review|timestamp_created|timestamp_updated|voted_up|votes_up|votes_funny|weighted_vote_score|comment_count|steam_purchase|received_for_free|written_during_early_access|          steamid|num_games_owned|num_reviews|playtime_forever|playtime_last_two_weeks|playtime_at_review|last_played|       game_name|playtime_category|\n",
            "+------+-------+----------------+--------+--------------------+-----------------+-----------------+--------+--------+-----------+-------------------+-------------+--------------+-----------------+---------------------------+-----------------+---------------+-----------+----------------+-----------------------+------------------+-----------+----------------+-----------------+\n",
            "|477160|1398661|        81964911| english|If you want to pl...|       1607598774|       1607598774|    true|       0|          0|                0.0|            0|          true|            false|                      false|76561197994103060|            361|         12|             679|                      0|             679.0| 1605311259|Human: Fall Flat|     low_playtime|\n",
            "|477160|1398671|        81957146| english|Fun to play solo ...|       1607592662|       1607592662|    true|       0|          0|                0.0|            0|         false|            false|                      false|76561197970617808|            317|          6|            1561|                    354|            1561.0| 1607301896|Human: Fall Flat|    good_playtime|\n",
            "|477160|1398672|        81956582| english|Интересная игра р...|       1607592245|       1607592245|    true|       0|          0|                0.0|            0|          true|            false|                      false|76561198874966510|              6|          5|            1613|                     88|            1524.0| 1607596960|Human: Fall Flat|    good_playtime|\n",
            "|477160|1398686|        81947628| english|fun to play with ...|       1607584670|       1607584670|    true|       0|          0|                0.0|            0|         false|            false|                      false|76561198976488002|              3|          1|             222|                    222|             195.0| 1607605538|Human: Fall Flat|     low_playtime|\n",
            "|477160|1398693|        81939361| english|             gud gud|       1607577707|       1607577707|    true|       0|          0|                0.0|            0|         false|             true|                      false|76561198276655616|              9|          4|             637|                    637|             637.0| 1607144620|Human: Fall Flat|     low_playtime|\n",
            "|477160|1398702|        81927236| english|i dont know why t...|       1607567775|       1607567775|    true|       0|          0|                0.0|            0|          true|            false|                      false|76561198073794282|             79|          4|             749|                    139|             655.0| 1607573512|Human: Fall Flat|     low_playtime|\n",
            "|477160|1398708|        81920867| english|             it good|       1607561897|       1607561897|    true|       0|          0|                0.0|            0|         false|            false|                      false|76561198975400018|              5|          2|            1127|                   1127|            1098.0| 1607565747|Human: Fall Flat|    good_playtime|\n",
            "|477160|1398710|        81917033| english|              yes \\n|       1607555243|       1607555243|    true|       0|          0|                0.0|            0|          true|            false|                      false|76561198170533331|             38|          1|             996|                      9|             986.0| 1607555902|Human: Fall Flat|     low_playtime|\n",
            "|477160|1398717|        81912985| english|              yessss|       1607548587|       1607548587|    true|       0|          0|                0.0|            0|          true|            false|                      false|76561198846858672|              5|          2|            4427|                     54|            4426.0| 1607548625|Human: Fall Flat|    good_playtime|\n",
            "|477160|1398721|        81911734| english|very good game, v...|       1607546670|       1607546670|    true|       0|          0|                0.0|            0|          true|            false|                      false|76561199026766979|              7|          1|            1649|                   1649|            1235.0| 1607571539|Human: Fall Flat|    good_playtime|\n",
            "|477160|1398723|        81911111| english|yeaaaaaaaaaaaaaaa...|       1607545770|       1607545770|    true|       0|          0|                0.0|            0|          true|             true|                      false|76561199088363457|             13|         11|             406|                    390|             243.0| 1607555531|Human: Fall Flat|     low_playtime|\n",
            "|477160|1398725|        81910823| english|Removing Linux su...|       1607545388|       1607545388|   false|       1|          0|  0.497925341129303|            0|          true|            false|                      false|76561198104281976|             67|          5|             123|                     12|             123.0| 1607545280|Human: Fall Flat|     low_playtime|\n",
            "|477160|1398726|        81910492| english|Endless amounts o...|       1607544975|       1607544975|    true|       0|          0|                0.0|            0|         false|            false|                      false|76561198131078852|            103|          5|             343|                      2|             343.0| 1607544648|Human: Fall Flat|     low_playtime|\n",
            "|477160|1398728|        81909081| english|Super funny game ...|       1607543069|       1607543069|    true|       0|          0|                0.0|            0|          true|            false|                      false|76561198117652147|             46|          1|            1601|                   1070|            1360.0| 1607570068|Human: Fall Flat|    good_playtime|\n",
            "|477160|1398735|        81907415| english|                 .\\n|       1607540749|       1607540749|    true|       0|          0|                0.0|            0|         false|            false|                      false|76561198979901303|              4|          2|             354|                     98|             262.0| 1607593519|Human: Fall Flat|     low_playtime|\n",
            "|477160|1398737|        81906952| english|U can touch ur e-...|       1607540147|       1607540147|    true|       0|          0|                0.0|            0|          true|            false|                      false|76561198973582841|             25|          8|            1867|                    206|            1867.0| 1607005766|Human: Fall Flat|    good_playtime|\n",
            "|477160|1398741|        81905929| english|This is monkey si...|       1607538730|       1607538730|    true|       0|          1|                0.0|            0|          true|            false|                      false|76561199007233555|              3|          1|             300|                    300|             300.0| 1607538635|Human: Fall Flat|     low_playtime|\n",
            "|477160|1398742|        81905584| english|10/10 would throw...|       1607538278|       1607538278|    true|       0|          0|                0.0|            0|          true|            false|                      false|76561198161618239|            204|          1|            1766|                    296|            1766.0| 1607206006|Human: Fall Flat|    good_playtime|\n",
            "|477160|1398751|        81903373| english|you want this gam...|       1607535406|       1607535406|    true|       0|          0|                0.0|            0|          true|            false|                      false|76561198289039619|              7|          1|             993|                      3|             993.0| 1607470083|Human: Fall Flat|     low_playtime|\n",
            "|477160|1398766|        81898627| english|hehe human fall flat|       1607529708|       1607529708|    true|       0|          0|                0.0|            0|          true|            false|                      false|76561198140789056|            120|         12|             112|                      5|             112.0| 1606621849|Human: Fall Flat|     low_playtime|\n",
            "+------+-------+----------------+--------+--------------------+-----------------+-----------------+--------+--------+-----------+-------------------+-------------+--------------+-----------------+---------------------------+-----------------+---------------+-----------+----------------+-----------------------+------------------+-----------+----------------+-----------------+\n",
            "only showing top 20 rows\n",
            "\n"
          ]
        }
      ],
      "source": [
        "# Checking the training data\n",
        "video_game_reviews_train_df.show()"
      ]
    },
    {
      "cell_type": "code",
      "execution_count": null,
      "metadata": {
        "colab": {
          "base_uri": "https://localhost:8080/"
        },
        "id": "NhpN45KES-wU",
        "outputId": "142a569f-510c-4f46-bcbf-9c606647ab9d"
      },
      "outputs": [
        {
          "name": "stdout",
          "output_type": "stream",
          "text": [
            "+-----+-----+----------------+--------+-----------------------------------+-----------------+-----------------+--------+--------+-----------+-------------------+-------------+--------------+-----------------+---------------------------+-----------------+---------------+-----------+----------------+-----------------------+------------------+-----------+---------+-----------------+\n",
            "|appid|index|recommendationid|language|                             review|timestamp_created|timestamp_updated|voted_up|votes_up|votes_funny|weighted_vote_score|comment_count|steam_purchase|received_for_free|written_during_early_access|          steamid|num_games_owned|num_reviews|playtime_forever|playtime_last_two_weeks|playtime_at_review|last_played|game_name|playtime_category|\n",
            "+-----+-----+----------------+--------+-----------------------------------+-----------------+-----------------+--------+--------+-----------+-------------------+-------------+--------------+-----------------+---------------------------+-----------------+---------------+-----------+----------------+-----------------------+------------------+-----------+---------+-----------------+\n",
            "|  620|    6|        81930462| english|               O_O omg bro!!!!!!...|       1607570431|       1607570431|    true|       0|          0|                0.0|            0|          true|            false|                      false|76561198049871165|            211|         28|             423|                    144|             423.0| 1607570011| Portal 2|     low_playtime|\n",
            "|  620|   19|        81922530| english|               I've owned Portal...|       1607563521|       1607563521|    true|       0|          0|                0.0|            0|          true|            false|                      false|76561199103403019|              2|          1|             373|                    373|             373.0| 1607563346| Portal 2|     low_playtime|\n",
            "|  620|   20|        81921033| english|               Amazing game. Gre...|       1607562045|       1607562045|    true|       0|          0|                0.0|            0|          true|            false|                      false|76561198880731208|              5|          1|             634|                     92|             634.0| 1607561975| Portal 2|     low_playtime|\n",
            "|  620|   21|        81920852| english|                         PERFECTO\\n|       1607561877|       1607561877|    true|       0|          0|                0.0|            0|          true|            false|                      false|76561198867669136|             17|          1|             569|                     56|             569.0| 1607561830| Portal 2|     low_playtime|\n",
            "|  620|   24|        81918926| english|                          cool game|       1607559103|       1607559103|    true|       0|          0|                0.0|            0|          true|            false|                      false|76561198049434068|            180|          2|           92997|                     11|           92997.0| 1607016272| Portal 2|    high_playtime|\n",
            "|  620|   25|        81918679| english|                               fun!|       1607558271|       1607558271|    true|       0|          0|                0.0|            0|          true|            false|                      false|76561198288280867|             17|          7|             166|                      0|             166.0| 1572061668| Portal 2|     low_playtime|\n",
            "|  620|   28|        81918088| english|               glados might be o...|       1607557199|       1607557199|    true|       0|          0|                0.0|            0|          true|            false|                      false|76561198951916467|              8|          8|             715|                     94|             715.0| 1607557011| Portal 2|     low_playtime|\n",
            "|  620|   29|        81917509| english|                  The Cake is a LIE|       1607556097|       1607556097|    true|       0|          0|                0.0|            0|         false|            false|                      false|76561198357449111|            279|          4|             598|                      0|             598.0| 1585785489| Portal 2|     low_playtime|\n",
            "|  620|   37|        81914769| english|               I dont even like ...|       1607551302|       1607551302|    true|       1|          0|  0.523809552192688|            0|         false|            false|                      false|76561198355415766|             21|         10|             648|                     41|             648.0| 1607551264| Portal 2|     low_playtime|\n",
            "|  620|   38|        81914668| english|                                Yes|       1607551166|       1607551166|    true|       0|          0|                0.0|            0|         false|            false|                      false|76561197989602660|              3|          4|             245|                    245|             239.0| 1607551554| Portal 2|     low_playtime|\n",
            "|  620|   39|        81914442| english|                               GOOD|       1607550810|       1607550810|    true|       0|          0|                0.0|            0|          true|            false|                      false|76561198030779988|             17|          1|             254|                    166|             254.0| 1607550788| Portal 2|     low_playtime|\n",
            "|  620|   41|        81913979| english|               ABSOLUTLY  GET TH...|       1607550145|       1607550145|    true|       0|          0|                0.0|            0|         false|            false|                      false|76561198868173619|             14|          7|             970|                    535|             963.0| 1607560767| Portal 2|     low_playtime|\n",
            "|  620|   45|        81912563| english|               Its a great game ...|       1607547932|       1607547932|    true|       0|          0|                0.0|            0|          true|            false|                      false|76561199021884815|              5|          3|             715|                    131|             715.0| 1607490745| Portal 2|     low_playtime|\n",
            "|  620|   53|        81911495| english|                     Funny Robot :)|       1607546336|       1607546336|    true|       0|          0|                0.0|            0|          true|            false|                      false|76561198214296439|             44|          4|             333|                    333|             252.0| 1607568591| Portal 2|     low_playtime|\n",
            "|  620|   81|        81903097| english|                           Tis good|       1607535078|       1607535078|    true|       0|          0|                0.0|            0|          true|            false|                      false|76561198451263311|             15|          1|             685|                    685|             639.0| 1607537772| Portal 2|     low_playtime|\n",
            "|  620|   96|        81897992| english|                            poggers|       1607528972|       1607528972|    true|       0|          0|                0.0|            0|          true|            false|                      false|76561198291595137|             13|          4|            3592|                    664|            3350.0| 1607573681| Portal 2|    good_playtime|\n",
            "|  620|   99|        81896761| english|               i don't know how ...|       1607527472|       1607527472|    true|       0|          0|                0.0|            0|          true|            false|                      false|76561198229117352|            206|         14|             258|                      0|             258.0| 1604442852| Portal 2|     low_playtime|\n",
            "|  620|  102|        81895590| english|                                yes|       1607525927|       1607525927|    true|       0|          0|                0.0|            0|          true|            false|                      false|76561198373936018|             25|          8|            1275|                   1275|            1219.0| 1607529459| Portal 2|    good_playtime|\n",
            "|  620|  106|        81895069| english|               Girls, don't ever...|       1607525281|       1607525281|    true|       1|          0|   0.52173912525177|            0|          true|            false|                      false|76561198090169519|            143|          5|            1099|                      0|            1099.0| 1565643622| Portal 2|    good_playtime|\n",
            "|  620|  111|        81893025| english|好玩 豆丝姐姐对我特别好 适合下班...|       1607522545|       1607522545|    true|       0|          0|                0.0|            0|          true|            false|                      false|76561198312449529|             40|          2|             552|                    552|             552.0| 1607264166| Portal 2|     low_playtime|\n",
            "+-----+-----+----------------+--------+-----------------------------------+-----------------+-----------------+--------+--------+-----------+-------------------+-------------+--------------+-----------------+---------------------------+-----------------+---------------+-----------+----------------+-----------------------+------------------+-----------+---------+-----------------+\n",
            "only showing top 20 rows\n",
            "\n"
          ]
        }
      ],
      "source": [
        "# Checking the testing data\n",
        "video_game_reviews_test_df.show()"
      ]
    },
    {
      "cell_type": "markdown",
      "source": [
        "**Transforming the input features**"
      ],
      "metadata": {
        "id": "vA8ueXYq-ugO"
      }
    },
    {
      "cell_type": "code",
      "execution_count": null,
      "metadata": {
        "colab": {
          "base_uri": "https://localhost:8080/"
        },
        "id": "urO7TOnwTB5y",
        "outputId": "db6406d9-70aa-4208-a377-9760542150e4"
      },
      "outputs": [
        {
          "name": "stdout",
          "output_type": "stream",
          "text": [
            "+------+-------+----------------+--------+--------------------+-----------------+-----------------+--------+--------+-----------+-------------------+-------------+--------------+-----------------+---------------------------+-----------------+---------------+-----------+----------------+-----------------------+------------------+-----------+----------------+-----------------+--------------------+---------------------------+--------------------+--------------------+--------------+\n",
            "| appid|  index|recommendationid|language|              review|timestamp_created|timestamp_updated|voted_up|votes_up|votes_funny|weighted_vote_score|comment_count|steam_purchase|received_for_free|written_during_early_access|          steamid|num_games_owned|num_reviews|playtime_forever|playtime_last_two_weeks|playtime_at_review|last_played|       game_name|playtime_category|  user_review_tokens|user_review_filtered_tokens| user_review_vectors|  user_game_features|playtime_index|\n",
            "+------+-------+----------------+--------+--------------------+-----------------+-----------------+--------+--------+-----------+-------------------+-------------+--------------+-----------------+---------------------------+-----------------+---------------+-----------+----------------+-----------------------+------------------+-----------+----------------+-----------------+--------------------+---------------------------+--------------------+--------------------+--------------+\n",
            "|477160|1398661|        81964911| english|If you want to pl...|       1607598774|       1607598774|    true|       0|          0|                0.0|            0|          true|            false|                      false|76561197994103060|            361|         12|             679|                      0|             679.0| 1605311259|Human: Fall Flat|     low_playtime|[if, you, want, t...|       [want, play, rema...|[0.06234986040597...|[0.06234986040597...|           1.0|\n",
            "|477160|1398671|        81957146| english|Fun to play solo ...|       1607592662|       1607592662|    true|       0|          0|                0.0|            0|         false|            false|                      false|76561197970617808|            317|          6|            1561|                    354|            1561.0| 1607301896|Human: Fall Flat|    good_playtime|[fun, to, play, s...|       [fun, play, solo,...|[0.10825593620538...|[0.10825593620538...|           0.0|\n",
            "|477160|1398672|        81956582| english|Интересная игра р...|       1607592245|       1607592245|    true|       0|          0|                0.0|            0|          true|            false|                      false|76561198874966510|              6|          5|            1613|                     88|            1524.0| 1607596960|Human: Fall Flat|    good_playtime|[интересная, игра...|       [интересная, игра...|[-0.2070550873875...|[-0.2070550873875...|           0.0|\n",
            "|477160|1398686|        81947628| english|fun to play with ...|       1607584670|       1607584670|    true|       0|          0|                0.0|            0|         false|            false|                      false|76561198976488002|              3|          1|             222|                    222|             195.0| 1607605538|Human: Fall Flat|     low_playtime|[fun, to, play, w...|       [fun, play, friends]|[0.13637694716453...|[0.13637694716453...|           1.0|\n",
            "|477160|1398693|        81939361| english|             gud gud|       1607577707|       1607577707|    true|       0|          0|                0.0|            0|         false|             true|                      false|76561198276655616|              9|          4|             637|                    637|             637.0| 1607144620|Human: Fall Flat|     low_playtime|          [gud, gud]|                 [gud, gud]|[0.54142469167709...|[0.54142469167709...|           1.0|\n",
            "|477160|1398702|        81927236| english|i dont know why t...|       1607567775|       1607567775|    true|       0|          0|                0.0|            0|          true|            false|                      false|76561198073794282|             79|          4|             749|                    139|             655.0| 1607573512|Human: Fall Flat|     low_playtime|[i, dont, know, w...|       [dont, know, game...|[0.04280752739445...|[0.04280752739445...|           1.0|\n",
            "|477160|1398708|        81920867| english|             it good|       1607561897|       1607561897|    true|       0|          0|                0.0|            0|         false|            false|                      false|76561198975400018|              5|          2|            1127|                   1127|            1098.0| 1607565747|Human: Fall Flat|    good_playtime|          [it, good]|                     [good]|[0.02102498523890...|[0.02102498523890...|           0.0|\n",
            "|477160|1398710|        81917033| english|              yes \\n|       1607555243|       1607555243|    true|       0|          0|                0.0|            0|          true|            false|                      false|76561198170533331|             38|          1|             996|                      9|             986.0| 1607555902|Human: Fall Flat|     low_playtime|               [yes]|                      [yes]|[0.07850347459316...|[0.07850347459316...|           1.0|\n",
            "|477160|1398717|        81912985| english|              yessss|       1607548587|       1607548587|    true|       0|          0|                0.0|            0|          true|            false|                      false|76561198846858672|              5|          2|            4427|                     54|            4426.0| 1607548625|Human: Fall Flat|    good_playtime|            [yessss]|                   [yessss]|[0.03455893695354...|[0.03455893695354...|           0.0|\n",
            "|477160|1398721|        81911734| english|very good game, v...|       1607546670|       1607546670|    true|       0|          0|                0.0|            0|          true|            false|                      false|76561199026766979|              7|          1|            1649|                   1649|            1235.0| 1607571539|Human: Fall Flat|    good_playtime|[very, good, game...|       [good, game,, muc...|[-0.0316667044535...|[-0.0316667044535...|           0.0|\n",
            "|477160|1398723|        81911111| english|yeaaaaaaaaaaaaaaa...|       1607545770|       1607545770|    true|       0|          0|                0.0|            0|          true|             true|                      false|76561199088363457|             13|         11|             406|                    390|             243.0| 1607555531|Human: Fall Flat|     low_playtime|[yeaaaaaaaaaaaaaa...|       [yeaaaaaaaaaaaaaa...|[0.0,0.0,0.0,0.0,...|(110,[100,104,105...|           1.0|\n",
            "|477160|1398725|        81910823| english|Removing Linux su...|       1607545388|       1607545388|   false|       1|          0|  0.497925341129303|            0|          true|            false|                      false|76561198104281976|             67|          5|             123|                     12|             123.0| 1607545280|Human: Fall Flat|     low_playtime|[removing, linux,...|       [removing, linux,...|[-0.0756191878269...|[-0.0756191878269...|           1.0|\n",
            "|477160|1398726|        81910492| english|Endless amounts o...|       1607544975|       1607544975|    true|       0|          0|                0.0|            0|         false|            false|                      false|76561198131078852|            103|          5|             343|                      2|             343.0| 1607544648|Human: Fall Flat|     low_playtime|[endless, amounts...|       [endless, amounts...|[0.18817632949600...|[0.18817632949600...|           1.0|\n",
            "|477160|1398728|        81909081| english|Super funny game ...|       1607543069|       1607543069|    true|       0|          0|                0.0|            0|          true|            false|                      false|76561198117652147|             46|          1|            1601|                   1070|            1360.0| 1607570068|Human: Fall Flat|    good_playtime|[super, funny, ga...|       [super, funny, ga...|[4.23330068588256...|[4.23330068588256...|           0.0|\n",
            "|477160|1398735|        81907415| english|                 .\\n|       1607540749|       1607540749|    true|       0|          0|                0.0|            0|         false|            false|                      false|76561198979901303|              4|          2|             354|                     98|             262.0| 1607593519|Human: Fall Flat|     low_playtime|                 [.]|                        [.]|[-0.3551569581031...|[-0.3551569581031...|           1.0|\n",
            "|477160|1398737|        81906952| english|U can touch ur e-...|       1607540147|       1607540147|    true|       0|          0|                0.0|            0|          true|            false|                      false|76561198973582841|             25|          8|            1867|                    206|            1867.0| 1607005766|Human: Fall Flat|    good_playtime|[u, can, touch, u...|       [u, touch, ur, e-...|[8.16737301647663...|[8.16737301647663...|           0.0|\n",
            "|477160|1398741|        81905929| english|This is monkey si...|       1607538730|       1607538730|    true|       0|          1|                0.0|            0|          true|            false|                      false|76561199007233555|              3|          1|             300|                    300|             300.0| 1607538635|Human: Fall Flat|     low_playtime|[this, is, monkey...|        [monkey, simulator]|[0.00846847333014...|[0.00846847333014...|           1.0|\n",
            "|477160|1398742|        81905584| english|10/10 would throw...|       1607538278|       1607538278|    true|       0|          0|                0.0|            0|          true|            false|                      false|76561198161618239|            204|          1|            1766|                    296|            1766.0| 1607206006|Human: Fall Flat|    good_playtime|[10/10, would, th...|       [10/10, throw, fr...|[-0.0330010429024...|[-0.0330010429024...|           0.0|\n",
            "|477160|1398751|        81903373| english|you want this gam...|       1607535406|       1607535406|    true|       0|          0|                0.0|            0|          true|            false|                      false|76561198289039619|              7|          1|             993|                      3|             993.0| 1607470083|Human: Fall Flat|     low_playtime|[you, want, this,...|       [want, game, one,...|[0.10741167329251...|[0.10741167329251...|           1.0|\n",
            "|477160|1398766|        81898627| english|hehe human fall flat|       1607529708|       1607529708|    true|       0|          0|                0.0|            0|          true|            false|                      false|76561198140789056|            120|         12|             112|                      5|             112.0| 1606621849|Human: Fall Flat|     low_playtime|[hehe, human, fal...|       [hehe, human, fal...|[-0.1667731963098...|[-0.1667731963098...|           1.0|\n",
            "+------+-------+----------------+--------+--------------------+-----------------+-----------------+--------+--------+-----------+-------------------+-------------+--------------+-----------------+---------------------------+-----------------+---------------+-----------+----------------+-----------------------+------------------+-----------+----------------+-----------------+--------------------+---------------------------+--------------------+--------------------+--------------+\n",
            "only showing top 20 rows\n",
            "\n"
          ]
        }
      ],
      "source": [
        "# Transforming the input features with the help of the above defined pipelines\n",
        "video_game_reviews_train_transformed = video_game_reviews_input_feature_pipeline.transform(video_game_reviews_train_df)\n",
        "video_game_reviews_train_transformed = video_game_reviews_target_feature_pipeline.transform(video_game_reviews_train_transformed)\n",
        "video_game_reviews_train_transformed.show()"
      ]
    },
    {
      "cell_type": "markdown",
      "metadata": {
        "id": "WKp3mSViULPC"
      },
      "source": [
        "### Training the model"
      ]
    },
    {
      "cell_type": "markdown",
      "metadata": {
        "id": "69a6yXZabmR-"
      },
      "source": [
        "**Since the dataset is imbalanced, Random Forest can be biased towards the majority class. Hence, using class weights to address this issue**"
      ]
    },
    {
      "cell_type": "code",
      "execution_count": null,
      "metadata": {
        "colab": {
          "base_uri": "https://localhost:8080/"
        },
        "id": "I4W60R8Nb9VV",
        "outputId": "5ca6c819-d5bb-4722-b7b9-5b4dfcc6bef0"
      },
      "outputs": [
        {
          "name": "stdout",
          "output_type": "stream",
          "text": [
            "+------+-------+----------------+--------+--------------------+-----------------+-----------------+--------+--------+-----------+-------------------+-------------+--------------+-----------------+---------------------------+-----------------+---------------+-----------+----------------+-----------------------+------------------+-----------+----------------+-----------------+--------------------+---------------------------+--------------------+--------------------+--------------+----------------------+\n",
            "| appid|  index|recommendationid|language|              review|timestamp_created|timestamp_updated|voted_up|votes_up|votes_funny|weighted_vote_score|comment_count|steam_purchase|received_for_free|written_during_early_access|          steamid|num_games_owned|num_reviews|playtime_forever|playtime_last_two_weeks|playtime_at_review|last_played|       game_name|playtime_category|  user_review_tokens|user_review_filtered_tokens| user_review_vectors|  user_game_features|playtime_index|playtime_class_weights|\n",
            "+------+-------+----------------+--------+--------------------+-----------------+-----------------+--------+--------+-----------+-------------------+-------------+--------------+-----------------+---------------------------+-----------------+---------------+-----------+----------------+-----------------------+------------------+-----------+----------------+-----------------+--------------------+---------------------------+--------------------+--------------------+--------------+----------------------+\n",
            "|477160|1398661|        81964911| english|If you want to pl...|       1607598774|       1607598774|    true|       0|          0|                0.0|            0|          true|            false|                      false|76561197994103060|            361|         12|             679|                      0|             679.0| 1605311259|Human: Fall Flat|     low_playtime|[if, you, want, t...|       [want, play, rema...|[0.06234986040597...|[0.06234986040597...|           1.0|    1.0763685708798842|\n",
            "|477160|1398671|        81957146| english|Fun to play solo ...|       1607592662|       1607592662|    true|       0|          0|                0.0|            0|         false|            false|                      false|76561197970617808|            317|          6|            1561|                    354|            1561.0| 1607301896|Human: Fall Flat|    good_playtime|[fun, to, play, s...|       [fun, play, solo,...|[0.10825593620538...|[0.10825593620538...|           0.0|   0.48676550973700883|\n",
            "|477160|1398672|        81956582| english|Интересная игра р...|       1607592245|       1607592245|    true|       0|          0|                0.0|            0|          true|            false|                      false|76561198874966510|              6|          5|            1613|                     88|            1524.0| 1607596960|Human: Fall Flat|    good_playtime|[интересная, игра...|       [интересная, игра...|[-0.2070550873875...|[-0.2070550873875...|           0.0|   0.48676550973700883|\n",
            "|477160|1398686|        81947628| english|fun to play with ...|       1607584670|       1607584670|    true|       0|          0|                0.0|            0|         false|            false|                      false|76561198976488002|              3|          1|             222|                    222|             195.0| 1607605538|Human: Fall Flat|     low_playtime|[fun, to, play, w...|       [fun, play, friends]|[0.13637694716453...|[0.13637694716453...|           1.0|    1.0763685708798842|\n",
            "|477160|1398693|        81939361| english|             gud gud|       1607577707|       1607577707|    true|       0|          0|                0.0|            0|         false|             true|                      false|76561198276655616|              9|          4|             637|                    637|             637.0| 1607144620|Human: Fall Flat|     low_playtime|          [gud, gud]|                 [gud, gud]|[0.54142469167709...|[0.54142469167709...|           1.0|    1.0763685708798842|\n",
            "|477160|1398702|        81927236| english|i dont know why t...|       1607567775|       1607567775|    true|       0|          0|                0.0|            0|          true|            false|                      false|76561198073794282|             79|          4|             749|                    139|             655.0| 1607573512|Human: Fall Flat|     low_playtime|[i, dont, know, w...|       [dont, know, game...|[0.04280752739445...|[0.04280752739445...|           1.0|    1.0763685708798842|\n",
            "|477160|1398708|        81920867| english|             it good|       1607561897|       1607561897|    true|       0|          0|                0.0|            0|         false|            false|                      false|76561198975400018|              5|          2|            1127|                   1127|            1098.0| 1607565747|Human: Fall Flat|    good_playtime|          [it, good]|                     [good]|[0.02102498523890...|[0.02102498523890...|           0.0|   0.48676550973700883|\n",
            "|477160|1398710|        81917033| english|              yes \\n|       1607555243|       1607555243|    true|       0|          0|                0.0|            0|          true|            false|                      false|76561198170533331|             38|          1|             996|                      9|             986.0| 1607555902|Human: Fall Flat|     low_playtime|               [yes]|                      [yes]|[0.07850347459316...|[0.07850347459316...|           1.0|    1.0763685708798842|\n",
            "|477160|1398717|        81912985| english|              yessss|       1607548587|       1607548587|    true|       0|          0|                0.0|            0|          true|            false|                      false|76561198846858672|              5|          2|            4427|                     54|            4426.0| 1607548625|Human: Fall Flat|    good_playtime|            [yessss]|                   [yessss]|[0.03455893695354...|[0.03455893695354...|           0.0|   0.48676550973700883|\n",
            "|477160|1398721|        81911734| english|very good game, v...|       1607546670|       1607546670|    true|       0|          0|                0.0|            0|          true|            false|                      false|76561199026766979|              7|          1|            1649|                   1649|            1235.0| 1607571539|Human: Fall Flat|    good_playtime|[very, good, game...|       [good, game,, muc...|[-0.0316667044535...|[-0.0316667044535...|           0.0|   0.48676550973700883|\n",
            "|477160|1398723|        81911111| english|yeaaaaaaaaaaaaaaa...|       1607545770|       1607545770|    true|       0|          0|                0.0|            0|          true|             true|                      false|76561199088363457|             13|         11|             406|                    390|             243.0| 1607555531|Human: Fall Flat|     low_playtime|[yeaaaaaaaaaaaaaa...|       [yeaaaaaaaaaaaaaa...|[0.0,0.0,0.0,0.0,...|(110,[100,104,105...|           1.0|    1.0763685708798842|\n",
            "|477160|1398725|        81910823| english|Removing Linux su...|       1607545388|       1607545388|   false|       1|          0|  0.497925341129303|            0|          true|            false|                      false|76561198104281976|             67|          5|             123|                     12|             123.0| 1607545280|Human: Fall Flat|     low_playtime|[removing, linux,...|       [removing, linux,...|[-0.0756191878269...|[-0.0756191878269...|           1.0|    1.0763685708798842|\n",
            "|477160|1398726|        81910492| english|Endless amounts o...|       1607544975|       1607544975|    true|       0|          0|                0.0|            0|         false|            false|                      false|76561198131078852|            103|          5|             343|                      2|             343.0| 1607544648|Human: Fall Flat|     low_playtime|[endless, amounts...|       [endless, amounts...|[0.18817632949600...|[0.18817632949600...|           1.0|    1.0763685708798842|\n",
            "|477160|1398728|        81909081| english|Super funny game ...|       1607543069|       1607543069|    true|       0|          0|                0.0|            0|          true|            false|                      false|76561198117652147|             46|          1|            1601|                   1070|            1360.0| 1607570068|Human: Fall Flat|    good_playtime|[super, funny, ga...|       [super, funny, ga...|[4.23330068588256...|[4.23330068588256...|           0.0|   0.48676550973700883|\n",
            "|477160|1398735|        81907415| english|                 .\\n|       1607540749|       1607540749|    true|       0|          0|                0.0|            0|         false|            false|                      false|76561198979901303|              4|          2|             354|                     98|             262.0| 1607593519|Human: Fall Flat|     low_playtime|                 [.]|                        [.]|[-0.3551569581031...|[-0.3551569581031...|           1.0|    1.0763685708798842|\n",
            "|477160|1398737|        81906952| english|U can touch ur e-...|       1607540147|       1607540147|    true|       0|          0|                0.0|            0|          true|            false|                      false|76561198973582841|             25|          8|            1867|                    206|            1867.0| 1607005766|Human: Fall Flat|    good_playtime|[u, can, touch, u...|       [u, touch, ur, e-...|[8.16737301647663...|[8.16737301647663...|           0.0|   0.48676550973700883|\n",
            "|477160|1398741|        81905929| english|This is monkey si...|       1607538730|       1607538730|    true|       0|          1|                0.0|            0|          true|            false|                      false|76561199007233555|              3|          1|             300|                    300|             300.0| 1607538635|Human: Fall Flat|     low_playtime|[this, is, monkey...|        [monkey, simulator]|[0.00846847333014...|[0.00846847333014...|           1.0|    1.0763685708798842|\n",
            "|477160|1398742|        81905584| english|10/10 would throw...|       1607538278|       1607538278|    true|       0|          0|                0.0|            0|          true|            false|                      false|76561198161618239|            204|          1|            1766|                    296|            1766.0| 1607206006|Human: Fall Flat|    good_playtime|[10/10, would, th...|       [10/10, throw, fr...|[-0.0330010429024...|[-0.0330010429024...|           0.0|   0.48676550973700883|\n",
            "|477160|1398751|        81903373| english|you want this gam...|       1607535406|       1607535406|    true|       0|          0|                0.0|            0|          true|            false|                      false|76561198289039619|              7|          1|             993|                      3|             993.0| 1607470083|Human: Fall Flat|     low_playtime|[you, want, this,...|       [want, game, one,...|[0.10741167329251...|[0.10741167329251...|           1.0|    1.0763685708798842|\n",
            "|477160|1398766|        81898627| english|hehe human fall flat|       1607529708|       1607529708|    true|       0|          0|                0.0|            0|          true|            false|                      false|76561198140789056|            120|         12|             112|                      5|             112.0| 1606621849|Human: Fall Flat|     low_playtime|[hehe, human, fal...|       [hehe, human, fal...|[-0.1667731963098...|[-0.1667731963098...|           1.0|    1.0763685708798842|\n",
            "+------+-------+----------------+--------+--------------------+-----------------+-----------------+--------+--------+-----------+-------------------+-------------+--------------+-----------------+---------------------------+-----------------+---------------+-----------+----------------+-----------------------+------------------+-----------+----------------+-----------------+--------------------+---------------------------+--------------------+--------------------+--------------+----------------------+\n",
            "only showing top 20 rows\n",
            "\n"
          ]
        }
      ],
      "source": [
        "# To calculate class weights per each class\n",
        "playtime_class_counts = video_game_reviews_train_transformed.groupBy(\"playtime_index\").count()\n",
        "reviews_total_count = video_game_reviews_train_transformed.count()\n",
        "playtime_class_weights = (\n",
        "    playtime_class_counts\n",
        "    .withColumn(\"playtime_class_weights\", reviews_total_count / (col(\"count\") * playtime_class_counts.count()))\n",
        "    .select(\"playtime_index\", \"playtime_class_weights\")\n",
        "    .rdd\n",
        "    .collectAsMap()\n",
        ")\n",
        "\n",
        "# Define UDF to apply class weights\n",
        "playtime_class_weights_udf = udf(lambda x: playtime_class_weights[x], DoubleType())\n",
        "video_game_reviews_train_transformed = video_game_reviews_train_transformed.withColumn(\"playtime_class_weights\", playtime_class_weights_udf(col(\"playtime_index\")))\n",
        "video_game_reviews_train_transformed.show()"
      ]
    },
    {
      "cell_type": "markdown",
      "source": [
        "Using **RandomForestClassifier** for incorporating Ensemble techniques.\n",
        "RandomForestClassifier uses the **Bagging** technique by building **multiple decision trees** for predicting the output and it finally takes the **majority-voted** output predicted by the decision trees.\n",
        "\n",
        "In the below code, we are setting the parameters\n",
        "\n",
        "**numTrees=50** - It means that,  it builds 50 decision trees for predicting the output.\n",
        "\n",
        "**maxDepth=5** - It indicates the maximum depth of each decision tree. Setting this to a high value leads to overfitting"
      ],
      "metadata": {
        "id": "bFKExC5i-91H"
      }
    },
    {
      "cell_type": "code",
      "execution_count": null,
      "metadata": {
        "id": "8AZ_e20uTjtT"
      },
      "outputs": [],
      "source": [
        "video_game_reviews_model = RandomForestClassifier(numTrees=50, maxDepth=5).setLabelCol('playtime_index').setFeaturesCol('user_game_features').setWeightCol('playtime_class_weights')\n",
        "video_game_reviews_model = video_game_reviews_model.fit(video_game_reviews_train_transformed)"
      ]
    },
    {
      "cell_type": "markdown",
      "metadata": {
        "id": "qRYNw9GoVFo8"
      },
      "source": [
        "### Prediction of results on the Test Set"
      ]
    },
    {
      "cell_type": "code",
      "execution_count": null,
      "metadata": {
        "id": "WtOF_ytZVMYk"
      },
      "outputs": [],
      "source": [
        "video_game_reviews_test_transformed = video_game_reviews_input_feature_pipeline.transform(video_game_reviews_test_df)\n",
        "video_game_reviews_test_transformed = video_game_reviews_target_feature_pipeline.transform(video_game_reviews_test_transformed)\n",
        "video_game_reviews_test_predictions = video_game_reviews_model.transform(video_game_reviews_test_transformed)"
      ]
    },
    {
      "cell_type": "code",
      "execution_count": null,
      "metadata": {
        "colab": {
          "base_uri": "https://localhost:8080/"
        },
        "id": "cGQt4AoQVu3c",
        "outputId": "db4c5926-27a8-456b-e7e0-02110bdd365d"
      },
      "outputs": [
        {
          "output_type": "stream",
          "name": "stdout",
          "text": [
            "+--------------+----------+\n",
            "|playtime_index|prediction|\n",
            "+--------------+----------+\n",
            "|           1.0|       1.0|\n",
            "|           1.0|       1.0|\n",
            "|           1.0|       2.0|\n",
            "|           1.0|       2.0|\n",
            "|           2.0|       2.0|\n",
            "|           1.0|       1.0|\n",
            "|           1.0|       1.0|\n",
            "|           1.0|       1.0|\n",
            "|           1.0|       1.0|\n",
            "|           1.0|       0.0|\n",
            "|           1.0|       1.0|\n",
            "|           1.0|       1.0|\n",
            "|           1.0|       2.0|\n",
            "|           1.0|       2.0|\n",
            "|           1.0|       1.0|\n",
            "|           0.0|       1.0|\n",
            "|           1.0|       1.0|\n",
            "|           0.0|       0.0|\n",
            "|           0.0|       1.0|\n",
            "|           1.0|       1.0|\n",
            "+--------------+----------+\n",
            "only showing top 20 rows\n",
            "\n"
          ]
        }
      ],
      "source": [
        "video_game_reviews_test_predictions = video_game_reviews_test_predictions.select('playtime_index', 'prediction')\n",
        "video_game_reviews_test_predictions.show()"
      ]
    },
    {
      "cell_type": "markdown",
      "source": [
        "**Converting numerical value back to categorical value**"
      ],
      "metadata": {
        "id": "UtH0fQZHA0Ea"
      }
    },
    {
      "cell_type": "code",
      "execution_count": null,
      "metadata": {
        "colab": {
          "base_uri": "https://localhost:8080/"
        },
        "id": "KIJLfIt7XkeB",
        "outputId": "6c732c60-65d6-47f4-a072-8647366fcb9f"
      },
      "outputs": [
        {
          "data": {
            "text/plain": [
              "{0: 'good_playtime',\n",
              " 1: 'low_playtime',\n",
              " 2: 'high_playtime',\n",
              " 3: 'very_low_playtime'}"
            ]
          },
          "execution_count": 45,
          "metadata": {},
          "output_type": "execute_result"
        }
      ],
      "source": [
        "# For converting numerical value back to categorical value\n",
        "labels = video_game_reviews_target_feature_pipeline.stages[0].labels\n",
        "label_map = dict()\n",
        "for i, label in enumerate(labels):\n",
        "    label_map[i] = label\n",
        "label_map"
      ]
    },
    {
      "cell_type": "code",
      "execution_count": null,
      "metadata": {
        "colab": {
          "base_uri": "https://localhost:8080/"
        },
        "id": "lCtH2mvLX_5r",
        "outputId": "db3833f5-aaba-4540-998b-a2d485cd6f3f"
      },
      "outputs": [
        {
          "output_type": "stream",
          "name": "stdout",
          "text": [
            "+--------------+----------+-----------------+-------------------+\n",
            "|playtime_index|prediction|playtime_category|prediction_category|\n",
            "+--------------+----------+-----------------+-------------------+\n",
            "|           1.0|       1.0|     low_playtime|       low_playtime|\n",
            "|           1.0|       1.0|     low_playtime|       low_playtime|\n",
            "|           1.0|       2.0|     low_playtime|      high_playtime|\n",
            "|           1.0|       2.0|     low_playtime|      high_playtime|\n",
            "|           2.0|       2.0|    high_playtime|      high_playtime|\n",
            "|           1.0|       1.0|     low_playtime|       low_playtime|\n",
            "|           1.0|       1.0|     low_playtime|       low_playtime|\n",
            "|           1.0|       1.0|     low_playtime|       low_playtime|\n",
            "|           1.0|       1.0|     low_playtime|       low_playtime|\n",
            "|           1.0|       0.0|     low_playtime|      good_playtime|\n",
            "|           1.0|       1.0|     low_playtime|       low_playtime|\n",
            "|           1.0|       1.0|     low_playtime|       low_playtime|\n",
            "|           1.0|       2.0|     low_playtime|      high_playtime|\n",
            "|           1.0|       2.0|     low_playtime|      high_playtime|\n",
            "|           1.0|       1.0|     low_playtime|       low_playtime|\n",
            "|           0.0|       1.0|    good_playtime|       low_playtime|\n",
            "|           1.0|       1.0|     low_playtime|       low_playtime|\n",
            "|           0.0|       0.0|    good_playtime|      good_playtime|\n",
            "|           0.0|       1.0|    good_playtime|       low_playtime|\n",
            "|           1.0|       1.0|     low_playtime|       low_playtime|\n",
            "+--------------+----------+-----------------+-------------------+\n",
            "only showing top 20 rows\n",
            "\n"
          ]
        }
      ],
      "source": [
        "def convert_indices_back_to_categories(playtime_indices):\n",
        "  global label_map\n",
        "  return label_map[int(playtime_indices)]\n",
        "\n",
        "playtime_udf = udf(convert_indices_back_to_categories, StringType())\n",
        "video_game_reviews_test_predictions = video_game_reviews_test_predictions.withColumn(\"playtime_category\", playtime_udf(\"playtime_index\"))\n",
        "video_game_reviews_test_predictions = video_game_reviews_test_predictions.withColumn(\"prediction_category\", playtime_udf(\"prediction\"))\n",
        "video_game_reviews_test_predictions.show()"
      ]
    },
    {
      "cell_type": "markdown",
      "metadata": {
        "id": "7B_jAqyMsSsl"
      },
      "source": [
        "\n",
        "# **Task 3 - Performance Measurements [10 marks]**\n"
      ]
    },
    {
      "cell_type": "markdown",
      "metadata": {
        "id": "fLNA2L8T_Sfn"
      },
      "source": [
        "## For Clustering"
      ]
    },
    {
      "cell_type": "markdown",
      "metadata": {
        "id": "w8KdVgm0vnS9"
      },
      "source": [
        "A good clustering solution should have **High Intra-Cluster Density and Low Inter-Cluster Density** or **Low Intra-Cluster Distance and High Inter-Cluster Distance**.\n",
        "\n",
        "Silhouette score is calculated using the **Intra-Cluster distance (A)** and **Inter-Cluster distance (B)**. **A good Silhouette score indicate better clustering.**"
      ]
    },
    {
      "cell_type": "markdown",
      "metadata": {
        "id": "N4C90991pV40"
      },
      "source": [
        "#### Silhouette Score"
      ]
    },
    {
      "cell_type": "code",
      "execution_count": null,
      "metadata": {
        "id": "oH5KzNd7pTkh",
        "colab": {
          "base_uri": "https://localhost:8080/"
        },
        "outputId": "bdbfcedd-731b-4b3d-980a-dd5a41e715cd"
      },
      "outputs": [
        {
          "output_type": "stream",
          "name": "stdout",
          "text": [
            "Silhouette score for euclidean distance metric with K=3 :  0.7551253314479744\n",
            "Silhouette score for cosine distance metric with K=3 :  -0.000709089297557515\n"
          ]
        }
      ],
      "source": [
        "clustered_games_evaluator_euclidean = ClusteringEvaluator(featuresCol='video_games_scaled_features', predictionCol='video_game_cluster', metricName='silhouette')\n",
        "silhouette_score_euclidean_k_3 = clustered_games_evaluator_euclidean.evaluate(video_games_cluster_predictions_euclidean)\n",
        "clustered_games_evaluator_cosine = ClusteringEvaluator(featuresCol='video_games_scaled_features', predictionCol='video_game_cluster', metricName='silhouette').setDistanceMeasure('cosine')\n",
        "silhouette_score_cosine_k_3 = clustered_games_evaluator_cosine.evaluate(video_games_cluster_predictions_cosine)\n",
        "print('Silhouette score for euclidean distance metric with K=3 : ', silhouette_score_euclidean_k_3)\n",
        "print('Silhouette score for cosine distance metric with K=3 : ', silhouette_score_cosine_k_3)"
      ]
    },
    {
      "cell_type": "markdown",
      "source": [
        "We observe that the Euclidean distance metric has a better Silhouette score."
      ],
      "metadata": {
        "id": "hv-qAEnVA9wn"
      }
    },
    {
      "cell_type": "markdown",
      "metadata": {
        "id": "-B8MRJbMtYzA"
      },
      "source": [
        "#### Choosing the right value of K using Elbow Graph"
      ]
    },
    {
      "cell_type": "markdown",
      "source": [
        "**For choosing the right number of clusters, we will use a technique called elbow graph where we plot the WSSSE(Within Set Sum of Squared Error) values with respect to number of clusters and choose the elbow point(the point where the WSSSE tends to decrease at a slower rate, and the graph starts to flatten outt) to get the optimal number of clusters.**"
      ],
      "metadata": {
        "id": "tb-N3OCABTf-"
      }
    },
    {
      "cell_type": "code",
      "execution_count": null,
      "metadata": {
        "id": "eiqinRodtd7f",
        "colab": {
          "base_uri": "https://localhost:8080/"
        },
        "outputId": "b811cf32-cbec-4dc6-971b-1a0cfab247ef"
      },
      "outputs": [
        {
          "output_type": "execute_result",
          "data": {
            "text/plain": [
              "[3469944.0275523732,\n",
              " 3201933.121385224,\n",
              " 3073907.1401605997,\n",
              " 2978306.8402899494,\n",
              " 2988906.081427346,\n",
              " 2782563.280080792,\n",
              " 2725039.3292972306,\n",
              " 2522196.182315903,\n",
              " 2570948.6395767843]"
            ]
          },
          "metadata": {},
          "execution_count": 33
        }
      ],
      "source": [
        "# Number of clusters ranging from values ranging from 2 to 11\n",
        "K_values = range(2, 11)\n",
        "clustered_games_wssse_values = []\n",
        "# Clustering with each k value\n",
        "for K in K_values:\n",
        "  video_game_k_means = KMeans(k=K, featuresCol='video_games_scaled_features', predictionCol='video_game_cluster')\n",
        "  video_game_k_means = video_game_k_means.fit(video_game_reviews_df)\n",
        "  # Storing the wsse distance\n",
        "  clustered_games_wssse_values.append(video_game_k_means.summary.trainingCost)\n",
        "# Checking the wssse values\n",
        "clustered_games_wssse_values"
      ]
    },
    {
      "cell_type": "markdown",
      "source": [
        "**Plotting the elbow graph**"
      ],
      "metadata": {
        "id": "XWtrIFSbCkIk"
      }
    },
    {
      "cell_type": "code",
      "execution_count": null,
      "metadata": {
        "id": "NJ-nTG3l4F-y",
        "colab": {
          "base_uri": "https://localhost:8080/",
          "height": 472
        },
        "outputId": "6b612b80-d8df-4213-9848-57628545a73e"
      },
      "outputs": [
        {
          "output_type": "display_data",
          "data": {
            "text/plain": [
              "<Figure size 640x480 with 1 Axes>"
            ],
            "image/png": "[encoded data removed]"
          },
          "metadata": {}
        }
      ],
      "source": [
        "plt.plot(K_values, clustered_games_wssse_values)\n",
        "plt.xlabel('Number of clusters (K)')\n",
        "plt.ylabel('WSSSE')\n",
        "plt.title('Elbow graph')\n",
        "plt.show()"
      ]
    },
    {
      "cell_type": "markdown",
      "metadata": {
        "id": "UnYHq6s_uvau"
      },
      "source": [
        "**K=7 seems to be the elbow point. So the optimal number of clusters for this task is 7**"
      ]
    },
    {
      "cell_type": "markdown",
      "metadata": {
        "id": "fK_loSPy_WTW"
      },
      "source": [
        "## For Multi Classifier"
      ]
    },
    {
      "cell_type": "markdown",
      "metadata": {
        "id": "QFEQv2Vb5ihU"
      },
      "source": [
        "#### Confusion Matrix"
      ]
    },
    {
      "cell_type": "code",
      "execution_count": null,
      "metadata": {
        "id": "9ao8XfNI_ZMd"
      },
      "outputs": [],
      "source": [
        "# Generating confusion matrix\n",
        "user_game_playtime_metrics = MulticlassMetrics(video_game_reviews_test_predictions.select('prediction', 'playtime_index').rdd.map(tuple))\n",
        "user_game_confusion_matrix = user_game_playtime_metrics.confusionMatrix().toArray()\n",
        "playtime_classes = [str(i) for i in range(user_game_confusion_matrix.shape[0])]\n",
        "for i in range(len(playtime_classes)):\n",
        "  playtime_classes[i] = convert_indices_back_to_categories(i)"
      ]
    },
    {
      "cell_type": "code",
      "execution_count": null,
      "metadata": {
        "colab": {
          "base_uri": "https://localhost:8080/",
          "height": 587
        },
        "id": "UcgbEZxl-A0X",
        "outputId": "158c4e8f-7229-4b7d-93d0-f383e761f0c5"
      },
      "outputs": [
        {
          "output_type": "display_data",
          "data": {
            "text/plain": [
              "<Figure size 640x480 with 2 Axes>"
            ],
            "image/png": "[encoded data removed]"
          },
          "metadata": {}
        }
      ],
      "source": [
        "# Plotting the confusion matrix\n",
        "plt.imshow(user_game_confusion_matrix, cmap=\"Blues\")\n",
        "plt.colorbar()\n",
        "plt.xticks(np.arange(len(playtime_classes)), playtime_classes, rotation=90)\n",
        "plt.yticks(np.arange(len(playtime_classes)), playtime_classes)\n",
        "plt.xlabel(\"Predicted Class\")\n",
        "plt.ylabel(\"True Class\")\n",
        "plt.title(\"Confusion Matrix\")\n",
        "plt.show()"
      ]
    },
    {
      "cell_type": "markdown",
      "metadata": {
        "id": "dWzzFy7S5qU1"
      },
      "source": [
        "#### Precision"
      ]
    },
    {
      "cell_type": "code",
      "execution_count": null,
      "metadata": {
        "colab": {
          "base_uri": "https://localhost:8080/"
        },
        "id": "0bUiVoSZ5wne",
        "outputId": "7300cd17-a10d-4da2-b22d-8c0363e8f09c"
      },
      "outputs": [
        {
          "output_type": "stream",
          "name": "stdout",
          "text": [
            "Precision = 76.44%\n"
          ]
        }
      ],
      "source": [
        "# Calculating the Weighted Precision for all classes\n",
        "user_game_precision_evaluator = MulticlassClassificationEvaluator(predictionCol=\"prediction\", labelCol=\"playtime_index\", metricName=\"weightedPrecision\")\n",
        "precision = user_game_precision_evaluator.evaluate(video_game_reviews_test_predictions)\n",
        "print(\"Precision = {:.2f}%\".format(precision * 100))"
      ]
    },
    {
      "cell_type": "markdown",
      "metadata": {
        "id": "3y-HMj3a5xP0"
      },
      "source": [
        "#### Recall"
      ]
    },
    {
      "cell_type": "code",
      "execution_count": null,
      "metadata": {
        "colab": {
          "base_uri": "https://localhost:8080/"
        },
        "id": "bvWqdPrE50xh",
        "outputId": "764bea7a-f5d0-4234-e86a-9c3e2dc32ddb"
      },
      "outputs": [
        {
          "output_type": "stream",
          "name": "stdout",
          "text": [
            "Recall = 69.97%\n"
          ]
        }
      ],
      "source": [
        "# Calculating the Weighted Recall for all classes\n",
        "user_game_recall_evaluator = MulticlassClassificationEvaluator(predictionCol=\"prediction\", labelCol=\"playtime_index\", metricName=\"weightedRecall\")\n",
        "recall = user_game_recall_evaluator.evaluate(video_game_reviews_test_predictions)\n",
        "print(\"Recall = {:.2f}%\".format(recall * 100))"
      ]
    },
    {
      "cell_type": "markdown",
      "metadata": {
        "id": "ZyEzBpMZ51MM"
      },
      "source": [
        "#### F1-Score"
      ]
    },
    {
      "cell_type": "code",
      "execution_count": null,
      "metadata": {
        "colab": {
          "base_uri": "https://localhost:8080/"
        },
        "id": "sstuvsJX52_z",
        "outputId": "25d676d2-e861-46f6-808a-965813e90540"
      },
      "outputs": [
        {
          "output_type": "stream",
          "name": "stdout",
          "text": [
            "F1-Score = 72.25%\n"
          ]
        }
      ],
      "source": [
        "# Calculating the F1-Score\n",
        "user_game_f1_score_evaluator = MulticlassClassificationEvaluator(predictionCol=\"prediction\", labelCol=\"playtime_index\", metricName=\"f1\")\n",
        "f1_score = user_game_f1_score_evaluator.evaluate(video_game_reviews_test_predictions)\n",
        "print(\"F1-Score = {:.2f}%\".format(f1_score * 100))"
      ]
    },
    {
      "cell_type": "markdown",
      "metadata": {
        "id": "45UDLI4P55on"
      },
      "source": [
        "#### Accuracy"
      ]
    },
    {
      "cell_type": "code",
      "execution_count": null,
      "metadata": {
        "colab": {
          "base_uri": "https://localhost:8080/"
        },
        "id": "vMf6oUo7-7dK",
        "outputId": "5783e67f-e825-445a-f4aa-cf95d5962fbf"
      },
      "outputs": [
        {
          "output_type": "stream",
          "name": "stdout",
          "text": [
            "Accuracy = 69.97%\n"
          ]
        }
      ],
      "source": [
        "# Calculating the accuracy\n",
        "user_game_accuracy_evaluator = MulticlassClassificationEvaluator(predictionCol=\"prediction\", labelCol=\"playtime_index\", metricName=\"accuracy\")\n",
        "accuracy = user_game_accuracy_evaluator.evaluate(video_game_reviews_test_predictions)\n",
        "print(\"Accuracy = {:.2f}%\".format(accuracy * 100))"
      ]
    },
    {
      "cell_type": "markdown",
      "metadata": {
        "id": "NfYAm9qHnbSe"
      },
      "source": [
        "---\n",
        "\n",
        "# **Section 2: Data Streaming Application [30 marks]**\n",
        "\n",
        "---"
      ]
    },
    {
      "cell_type": "markdown",
      "metadata": {
        "id": "Y7qufwqvnwPY"
      },
      "source": [
        "## **Airstream - Spark Streaming at Airbnb**"
      ]
    },
    {
      "cell_type": "markdown",
      "source": [
        "### Overview"
      ],
      "metadata": {
        "id": "OXq8OO9UsZkp"
      }
    },
    {
      "cell_type": "markdown",
      "source": [
        "Airbnb is a popular online marketplace where homes can be rent by people for short-term stays who are planning a vacation. Airbnb offers a lot of accommodations ranging from shared rooms to entire homes. Airbnb consists of two types of users.\n",
        "\n",
        "1) Hosts - Who rent their houses for a certain period for a certain amount of money\n",
        "\n",
        "2) Guests - Who can book these houses for short-term stays if they are planning for a vacation or tourism. Apart from house renting, guests can also book experiences on Airbnb, which provides a unique way to experience local culture.\n",
        "\n",
        "\n",
        "Airbnb's real-time streaming application involves logging event ingestion of various events performed by the user in real-time for generating various real-time dashboards to govern various business decisions and for real-time ranking of places based on user's search results. These events emitted from the Hosts and Guests either from the Airbnb mobile app or the Airbnb website with key information, event type, and context of the event.\n",
        "For an example when a particular user searches for 'tree house near Cyprus then an event is generated with the key as 'userId', event type as 'Search Event', and context as 'location, check-in, and check-out dates'. Similarly, when a user books a particular house, another event is generated with a key as 'userId' type as 'Payment Event' context as 'Booking Information'. These events will be anonymized by stripping off all the personal user information such as username, first name, last name, and email."
      ],
      "metadata": {
        "id": "lwilPXy9sw9f"
      }
    },
    {
      "cell_type": "markdown",
      "source": [
        "### Legal Issues"
      ],
      "metadata": {
        "id": "8IMLz5DSzXRC"
      }
    },
    {
      "cell_type": "markdown",
      "source": [
        "\n",
        "\n",
        "*   Compliance with local regulations: Airbnb has faced legal challenges in various cities alll over the world where short-term rentals are not permitted, or there are restrictions on the number of days a property can be rented out. Compliance with local regulations is critical to ensure that the platform operates within the legal framework of different countries.\n",
        "*   Data privacy: Airbnb collects and processes a vast amount of data on its users, including personal information, payment details, and booking history. It is essential to comply with data privacy regulations to ensure that this data is collected, stored, and processed securely and transparently. For the real-time streaming of user's events for generating real-time dashboards, Airbnb anonymises the user's information by stripping off all their personal information before the data is sent to Kafka for stream processing\n",
        "*   Liability: As a platform, Airbnb is not liable for any accidents, injuries, or damages that occur on a host's property. However, hosts are responsible for ensuring that their properties are safe and comply with local regulations. Airbnb must ensure that it provides accurate information to guests and hosts about liability and insurance coverage."
      ],
      "metadata": {
        "id": "q5c0qp86zZp_"
      }
    },
    {
      "cell_type": "markdown",
      "source": [
        "### Social Issues"
      ],
      "metadata": {
        "id": "z43u9oV40aD2"
      }
    },
    {
      "cell_type": "markdown",
      "source": [
        "\n",
        "\n",
        "*   Housing affordability: Airbnb has been accused of driving up housing costs in some cities, as landlords convert long-term rentals into short-term rentals to make a higher profit. This can harm the availability and affordability of housing for locals.\n",
        "*   Impact on local communities: Airbnb can have a significant impact on the character and culture of a neighborhood, as short-term rentals can change the demographics of an area and affect the availability of local services and amenities.\n",
        "*   Discrimination: Airbnb has faced criticism for allowing hosts to discriminate against guests based on race, gender, sexual orientation, and other characteristics. The platform must ensure that its policies and practices are inclusive and do not allow discrimination.\n",
        "\n",
        "\n",
        "\n"
      ],
      "metadata": {
        "id": "-fjWrnAI0d_7"
      }
    },
    {
      "cell_type": "markdown",
      "source": [
        "### Ethical Issues"
      ],
      "metadata": {
        "id": "siGi5lPL0t1R"
      }
    },
    {
      "cell_type": "markdown",
      "source": [
        "\n",
        "\n",
        "*   Fairness and transparency: Airbnb must ensure that its platform is fair and transparent for all users. This includes providing accurate information about listings, fees, and other charges, as well as ensuring that hosts and guests are treated equally and have access to the same opportunities and services.\n",
        "*   Environmental impact: Airbnb can have a negative impact on the environment as it promotes short-term travel and can contribute to over-tourism in some areas. The platform must consider the environmental impact of its operations and take steps to mitigate any negative effects.\n",
        "*   Exploitation: There have been instances where hosts have been exploited by Airbnb, such as when the platform has taken a significant percentage of their earnings or when hosts have been unfairly penalized for guest behavior. Airbnb must ensure that it operates ethically and does not exploit its users."
      ],
      "metadata": {
        "id": "3QjyFVno0xvF"
      }
    },
    {
      "cell_type": "markdown",
      "source": [
        "### Functionality"
      ],
      "metadata": {
        "id": "kZxP3uy91Bee"
      }
    },
    {
      "cell_type": "markdown",
      "source": [
        "Airstream is designed to work with Spark streaming to provide a framework for collecting, processing, and analyzing streaming data. It provides an easy-to-use interface for defining data pipelines, which allows developers to focus on the business logic of their applications rather than the underlying infrastructure.\n",
        "The application's functionality involves ingesting events that are generated when users perform various activities, such as searching for a place, booking a house, or leaving a review. These events are then anonymized by stripping off any personal user information and are sent to Kafka. Depending on the type of event these events are sent to their corresponding Kafka topic. Then depending on whether an order is required for a particular event type, these events will be stored on a particular partition in the topic based on the hash value generated by the event. Then these events will be read by a spark from the Kafka partition and are processed parallelly by each node. Few operations such as transforming data will be done statelessly. whereas other operations will be processed by maintaining a state in the HBase to persist the state that can be accessed by all the streaming jobs. The state information is stored in HBase as a key-value pair and can be accessed by all the streaming jobs while processing data. For operations such as generating total payments per location, a tumbling window of a non-overlapping period is used and total payments were calculated for each time and the results are stored in the Druid (A NoSQL Database on top of HDFS). These results will be queried from Druid by the real-time dashboards to display the real-time analytics. Similarly for real-time ranking of places sliding window is used with the watermark typically being set to month. The ranking is calculated based on the user events related to a particular place and the results will be sent to HBase and Druid. These results will be queried from Druid by the real-time dashboards to display the real-time analytics. Also whenever a particular user searches for a particular place then these results will be queried from the HBase and appear in the search results in the order of ranking. These results were also cached in the front-facing server to further reduce the latency and improve the user experience.\n",
        "The model used for low latency processing in Spark involves micro-batch processing, which allows Spark to process small batches of data in real-time, rather than processing data one event at a time. This approach reduces the end-to-end latency of the application and improves its fault tolerance by allowing it to recover from failures quickly.\n",
        "The micro-batch model involves dividing the streaming data into small batches, which are processed by Spark in parallel. Each batch is processed independently, and the results are aggregated to generate the final output. This approach allows the application to process data at a high rate while ensuring low latency and fault tolerance.\n",
        "To ensure fault tolerance, the application uses Spark's resilient distributed datasets (RDDs), which are a fault-tolerant collection of elements that can be processed in parallel. A checkpoint-based mechanism is used and all the intermediate results were checkpointed so that if a node fails, other nodes in the cluster will start processing from the same state based on the checkpoint progress, ensuring that data processing continues without interruption."
      ],
      "metadata": {
        "id": "ZteeBh7F1mDC"
      }
    },
    {
      "cell_type": "markdown",
      "source": [
        "### Break down of streaming application into different layers"
      ],
      "metadata": {
        "id": "8FSVMBX51x_b"
      }
    },
    {
      "cell_type": "markdown",
      "source": [
        "#### Data source layer"
      ],
      "metadata": {
        "id": "2xCF1Eny14_E"
      }
    },
    {
      "cell_type": "markdown",
      "source": [
        "The data source layer includes the Airbnb mobile app and the Airbnb website. These sources emit various events related to user activities, which are then ingested into the system for processing in real time. The events capture various user activities, such as searching for a place, booking a house, leaving a review, and more. To ensure the security and privacy of user data, the data source layer anonymizes the events by stripping off any personal information, such as usernames, email addresses, and more. This anonymization process ensures that user privacy is protected while still allowing the application to generate meaningful insights from the data."
      ],
      "metadata": {
        "id": "pIXm-Zae1_HQ"
      }
    },
    {
      "cell_type": "markdown",
      "source": [
        "#### Streaming layer"
      ],
      "metadata": {
        "id": "aMOd7Xvt1_Qr"
      }
    },
    {
      "cell_type": "markdown",
      "source": [
        "Kafka is used as the streaming layer which is an open-source distributed event streaming platform used for streaming application and building real-time data pipelines. It is designed to handle high-volume data streams with low latency and high throughput. Kafka allows multiple producers to write data to the same stream, and multiple consumers to read from the same stream simultaneously, making it highly scalable and fault-tolerant. It provides features such as low latency, high-throughput messaging, data retention, replication, and fault tolerance, which make it ideal for use cases such as log aggregation, stream processing, and event-driven architectures.\n",
        "\n",
        "\n",
        "As per the findings, 10+ Kafka clusters were deployed on AWS with 500+ Brokers and 3000+ topics.\n",
        "\n",
        "\n",
        "Multiple user events from the data source layer are sent to Kafka. A load balancer is used in front of the Kafka clusters to distribute the user events evenly across the cluster. Then depending on the event type they will be sent to a particular Kafka topic (For example all the payments events will go to the Kafka topic - Payment, All the Search events will go to the Kafka topic - Search, etc..).The events which don't require ordering (For example Views) will be evenly distributed across all the partitions in a particular Kafka topic. For the events which require ordering (For example Search results ordered by time), these will be distributed to a particular partition inside a Kafka topic based on the Hash mechanism by mapping the userId to the partition id inside a particular Kafka topic to preserve the order of events for a particular user inside the particular Kafka partition. Consistent hashing is used so that the system can be scaled by adding more partitions in the future only by remapping a few keys."
      ],
      "metadata": {
        "id": "Ily42EdV2Dg5"
      }
    },
    {
      "cell_type": "markdown",
      "source": [
        "#### Stream processing layer"
      ],
      "metadata": {
        "id": "tZssLujg2D4V"
      }
    },
    {
      "cell_type": "markdown",
      "source": [
        "Apache Spark is used as the stream processing layer to process the events ingested by Kafka. Spark Streaming is a scalable and fault-tolerant stream processing system that can process large-scale, real-time data streams.\n",
        "\n",
        "\n",
        "For the low latency, instead of processing one event at a time, it uses a micro-batch model by dividing the streams into small data which are processed parallelly by the spark. Since the parallelism of spark is determined by the total number of partitions in the Kafka topic, this limits the performance of the spark processing. To solve this issue, Airbnb uses Balanced Spark Kafka Reader for a particular topic consisting of events where the ordering of events is not a requirement. Since the ordering of events is not important for these events belonging to a particular topic, as per the balanced Kafka reader it pre-computes the mean event size for these topics, and the number of splits is calculated to specify the desired parallelism. For each Kafka partition, it computes from the current offset to latest offset range to read and applies the maximum rate per partition constraint if set and these offset range subsets are assigned to splits evenly with the help of a balanced partition algorithm. For the particular topics, in which ordering in partitions is important spark's parallelism is limited to the number of partitions, and hence for these topics, spark parallelism can be increased only by increasing the number of partitions in the Kafka topic.\n",
        "\n",
        "\n",
        "Two types of event types will be processed by the spark. Stateless events involve the transformation of the data stream. These events will be processed and written to another Kafka source as a sink and they will be further processed. For the stateful events, storing the state inside the memory will lead to out of memory errors, and also a lot of times other spark jobs need to access the state which is processed by the different streaming jobs. To solve this issue, a global state is stored in the form of key, value pairs in HBase which can be accessed and updated by all the spark streaming jobs. For operations such as generating total payments per location, a tumbling window of non-overlapping time is used and total payments were calculated for each time and the results are stored in the Druid (A NoSQL Database on top of HDFS). For real-time ranking of places sliding window is used with a watermark typically being set to month. The ranking is calculated based on the user events related to a particular place and the results will be sent to HBase. These results will be served to the users in the order of ranking whenever users perform search queries. These rankings are also cached in the front-facing server to reduce the latency.\n",
        "\n",
        "\n",
        "The whole system is fault tolerant by maintaining checkpoints by the spark streaming jobs. Whenever a particular streaming job has failed, another can take its place and can resume from the same checkpoint.\n",
        "\n",
        "\n",
        "For the streaming jobs, the sinks are Druid or can be another Kafka source (For example streaming jobs that perform transformations of data will write the output to another Kafka source and they will be further processed by other spark streaming jobs)"
      ],
      "metadata": {
        "id": "L_MMt3iuFA66"
      }
    },
    {
      "cell_type": "markdown",
      "source": [
        "#### Presentation layer"
      ],
      "metadata": {
        "id": "q0UBGAAN2KqM"
      }
    },
    {
      "cell_type": "markdown",
      "source": [
        "Real-time dashboards are used as the Presentation layer. Spark jobs process the data and write output to the sinks. Here, Druid is used as a sink. Druid is a NoSQL database on top of HDFS. These real-time dashboards get the final results by querying the Druid database and displaying them."
      ],
      "metadata": {
        "id": "eecAGj3x2OQL"
      }
    },
    {
      "cell_type": "markdown",
      "metadata": {
        "id": "mIM6uLApSxi2"
      },
      "source": [
        "---\n",
        "\n",
        "# **Section 3: Convert ipynb to HTML for Turnitin submission [10 marks]**\n",
        "\n",
        "---\n",
        "\n"
      ]
    },
    {
      "cell_type": "code",
      "execution_count": null,
      "metadata": {
        "colab": {
          "base_uri": "https://localhost:8080/"
        },
        "id": "ZrQu11N_DCfZ",
        "outputId": "bb6c7043-76fd-41b4-e5c0-dd257fec92e0"
      },
      "outputs": [
        {
          "output_type": "stream",
          "name": "stdout",
          "text": [
            "Looking in indexes: https://pypi.org/simple, https://us-python.pkg.dev/colab-wheels/public/simple/\n",
            "Requirement already satisfied: nbconvert in /usr/local/lib/python3.9/dist-packages (6.5.4)\n",
            "Requirement already satisfied: MarkupSafe>=2.0 in /usr/local/lib/python3.9/dist-packages (from nbconvert) (2.1.2)\n",
            "Requirement already satisfied: pygments>=2.4.1 in /usr/local/lib/python3.9/dist-packages (from nbconvert) (2.14.0)\n",
            "Requirement already satisfied: traitlets>=5.0 in /usr/local/lib/python3.9/dist-packages (from nbconvert) (5.7.1)\n",
            "Requirement already satisfied: jupyter-core>=4.7 in /usr/local/lib/python3.9/dist-packages (from nbconvert) (5.3.0)\n",
            "Requirement already satisfied: nbformat>=5.1 in /usr/local/lib/python3.9/dist-packages (from nbconvert) (5.8.0)\n",
            "Requirement already satisfied: tinycss2 in /usr/local/lib/python3.9/dist-packages (from nbconvert) (1.2.1)\n",
            "Requirement already satisfied: entrypoints>=0.2.2 in /usr/local/lib/python3.9/dist-packages (from nbconvert) (0.4)\n",
            "Requirement already satisfied: pandocfilters>=1.4.1 in /usr/local/lib/python3.9/dist-packages (from nbconvert) (1.5.0)\n",
            "Requirement already satisfied: lxml in /usr/local/lib/python3.9/dist-packages (from nbconvert) (4.9.2)\n",
            "Requirement already satisfied: jupyterlab-pygments in /usr/local/lib/python3.9/dist-packages (from nbconvert) (0.2.2)\n",
            "Requirement already satisfied: nbclient>=0.5.0 in /usr/local/lib/python3.9/dist-packages (from nbconvert) (0.7.3)\n",
            "Requirement already satisfied: packaging in /usr/local/lib/python3.9/dist-packages (from nbconvert) (23.1)\n",
            "Requirement already satisfied: defusedxml in /usr/local/lib/python3.9/dist-packages (from nbconvert) (0.7.1)\n",
            "Requirement already satisfied: bleach in /usr/local/lib/python3.9/dist-packages (from nbconvert) (6.0.0)\n",
            "Requirement already satisfied: beautifulsoup4 in /usr/local/lib/python3.9/dist-packages (from nbconvert) (4.11.2)\n",
            "Requirement already satisfied: mistune<2,>=0.8.1 in /usr/local/lib/python3.9/dist-packages (from nbconvert) (0.8.4)\n",
            "Requirement already satisfied: jinja2>=3.0 in /usr/local/lib/python3.9/dist-packages (from nbconvert) (3.1.2)\n",
            "Requirement already satisfied: platformdirs>=2.5 in /usr/local/lib/python3.9/dist-packages (from jupyter-core>=4.7->nbconvert) (3.2.0)\n",
            "Requirement already satisfied: jupyter-client>=6.1.12 in /usr/local/lib/python3.9/dist-packages (from nbclient>=0.5.0->nbconvert) (6.1.12)\n",
            "Requirement already satisfied: jsonschema>=2.6 in /usr/local/lib/python3.9/dist-packages (from nbformat>=5.1->nbconvert) (4.3.3)\n",
            "Requirement already satisfied: fastjsonschema in /usr/local/lib/python3.9/dist-packages (from nbformat>=5.1->nbconvert) (2.16.3)\n",
            "Requirement already satisfied: soupsieve>1.2 in /usr/local/lib/python3.9/dist-packages (from beautifulsoup4->nbconvert) (2.4.1)\n",
            "Requirement already satisfied: six>=1.9.0 in /usr/local/lib/python3.9/dist-packages (from bleach->nbconvert) (1.16.0)\n",
            "Requirement already satisfied: webencodings in /usr/local/lib/python3.9/dist-packages (from bleach->nbconvert) (0.5.1)\n",
            "Requirement already satisfied: attrs>=17.4.0 in /usr/local/lib/python3.9/dist-packages (from jsonschema>=2.6->nbformat>=5.1->nbconvert) (23.1.0)\n",
            "Requirement already satisfied: pyrsistent!=0.17.0,!=0.17.1,!=0.17.2,>=0.14.0 in /usr/local/lib/python3.9/dist-packages (from jsonschema>=2.6->nbformat>=5.1->nbconvert) (0.19.3)\n",
            "Requirement already satisfied: tornado>=4.1 in /usr/local/lib/python3.9/dist-packages (from jupyter-client>=6.1.12->nbclient>=0.5.0->nbconvert) (6.2)\n",
            "Requirement already satisfied: python-dateutil>=2.1 in /usr/local/lib/python3.9/dist-packages (from jupyter-client>=6.1.12->nbclient>=0.5.0->nbconvert) (2.8.2)\n",
            "Requirement already satisfied: pyzmq>=13 in /usr/local/lib/python3.9/dist-packages (from jupyter-client>=6.1.12->nbclient>=0.5.0->nbconvert) (23.2.1)\n"
          ]
        }
      ],
      "source": [
        "# install nbconvert (if facing the conversion error)\n",
        "!pip3 install nbconvert"
      ]
    },
    {
      "cell_type": "code",
      "execution_count": null,
      "metadata": {
        "colab": {
          "base_uri": "https://localhost:8080/"
        },
        "id": "ReZWnCYdDH66",
        "outputId": "30dba694-40f3-40f8-f9c0-d2b7218b166a"
      },
      "outputs": [
        {
          "output_type": "stream",
          "name": "stdout",
          "text": [
            "[NbConvertApp] Converting notebook /content/Group01_CRWK_CN7030.ipynb to html\n",
            "[NbConvertApp] Writing 1302592 bytes to /content/Group01_CRWK_CN7030.html\n"
          ]
        }
      ],
      "source": [
        "# convert ipynb to html and submit this HTML file\n",
        "\n",
        "!jupyter nbconvert --to html /content/Group01_CRWK_CN7030.ipynb"
      ]
    }
  ],
  "metadata": {
    "colab": {
      "collapsed_sections": [
        "6P2CZVl6TOQX",
        "A-Y5bzK9mvo3"
      ],
      "provenance": []
    },
    "kernelspec": {
      "display_name": "Python 3",
      "name": "python3"
    }
  },
  "nbformat": 4,
  "nbformat_minor": 0
}